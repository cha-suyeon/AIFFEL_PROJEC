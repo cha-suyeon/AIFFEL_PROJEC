{
 "cells": [
  {
   "cell_type": "markdown",
   "id": "municipal-wrong",
   "metadata": {},
   "source": [
    "# Exploration 12\n",
    "# Session based Recommendation\n",
    "\n",
    "## 프로젝트 - Movielens 영화 SBR\n",
    "### |프로젝트 학습 과정\n",
    "\n",
    "1. 데이터의 전처리\n",
    "    - 사용할 데이터: [MovieLens 1M Dataset](https://grouplens.org/datasets/movielens/1m/)\n",
    "2. 미니 배치의 구성\n",
    "    - 데이터셋과 미니 배치를 구성\n",
    "3. 모델 구성\n",
    "4. 모델 학습\n",
    "5. 모델 테스트\n",
    "    - 미리 구성한 테스트셋을 바탕으로 Recall, MRR 을 확인해 봅니다.\n",
    "\n",
    "### |프로젝트 평가\n",
    "| |평가문항|상세기준|\n",
    "|------|---|---|\n",
    "|1|Movielens 데이터셋을 session based recommendation 관점으로 전처리하는 과정이 체계적으로 진행되었다.|데이터셋의 면밀한 분석을 토대로 세션단위 정의 과정(길이분석, 시간분석)을 합리적으로 수행한 과정이 기술되었다.|\n",
    "|2| RNN 기반의 예측 모델이 정상적으로 구성되어 안정적으로 훈련이 진행되었다.|적절한 epoch만큼의 학습이 진행되는 과정에서 train loss가 안정적으로 감소하고, validation 단계에서의 Recall, MRR이 개선되는 것이 확인된다.|\n",
    "|3| 세션정의, 모델구조, 하이퍼파라미터 등을 변경해서 실험하여 Recall, MRR 등의 변화추이를 관찰하였다.| 3가지 이상의 변화를 시도하고 그 실험결과를 체계적으로 분석하였다.|"
   ]
  },
  {
   "cell_type": "markdown",
   "id": "polished-wings",
   "metadata": {},
   "source": [
    "# Data Info\n",
    "MovieLens에 가입한 사람들의 영화 평점 평가 정보가 포함되어 있습니다. 2000년에 MovieLens에 가입한 6,040명의 MovieLens 사용자가 만든 약 3,900개의 영화에 대한 약 1백만 개의 익명 등급이 포함되어 있습니다.\n",
    "\n",
    "## Summary\n",
    "movies: 3,900   \n",
    "rating: 1,000,209   \n",
    "user: 6,040   "
   ]
  },
  {
   "cell_type": "code",
   "execution_count": 453,
   "id": "forced-trigger",
   "metadata": {},
   "outputs": [],
   "source": [
    "import datetime as dt\n",
    "from pathlib import Path\n",
    "import os\n",
    "\n",
    "import numpy as np\n",
    "import pandas as pd\n",
    "import warnings\n",
    "warnings.filterwarnings('ignore')"
   ]
  },
  {
   "cell_type": "code",
   "execution_count": 454,
   "id": "uniform-premiere",
   "metadata": {},
   "outputs": [
    {
     "data": {
      "text/html": [
       "<div>\n",
       "<style scoped>\n",
       "    .dataframe tbody tr th:only-of-type {\n",
       "        vertical-align: middle;\n",
       "    }\n",
       "\n",
       "    .dataframe tbody tr th {\n",
       "        vertical-align: top;\n",
       "    }\n",
       "\n",
       "    .dataframe thead th {\n",
       "        text-align: right;\n",
       "    }\n",
       "</style>\n",
       "<table border=\"1\" class=\"dataframe\">\n",
       "  <thead>\n",
       "    <tr style=\"text-align: right;\">\n",
       "      <th></th>\n",
       "      <th>UserId</th>\n",
       "      <th>ItemId</th>\n",
       "      <th>Rating</th>\n",
       "      <th>Timestamp</th>\n",
       "    </tr>\n",
       "  </thead>\n",
       "  <tbody>\n",
       "    <tr>\n",
       "      <th>31</th>\n",
       "      <td>1</td>\n",
       "      <td>3186</td>\n",
       "      <td>4</td>\n",
       "      <td>978300019</td>\n",
       "    </tr>\n",
       "    <tr>\n",
       "      <th>22</th>\n",
       "      <td>1</td>\n",
       "      <td>1270</td>\n",
       "      <td>5</td>\n",
       "      <td>978300055</td>\n",
       "    </tr>\n",
       "    <tr>\n",
       "      <th>27</th>\n",
       "      <td>1</td>\n",
       "      <td>1721</td>\n",
       "      <td>4</td>\n",
       "      <td>978300055</td>\n",
       "    </tr>\n",
       "    <tr>\n",
       "      <th>37</th>\n",
       "      <td>1</td>\n",
       "      <td>1022</td>\n",
       "      <td>5</td>\n",
       "      <td>978300055</td>\n",
       "    </tr>\n",
       "    <tr>\n",
       "      <th>24</th>\n",
       "      <td>1</td>\n",
       "      <td>2340</td>\n",
       "      <td>3</td>\n",
       "      <td>978300103</td>\n",
       "    </tr>\n",
       "    <tr>\n",
       "      <th>...</th>\n",
       "      <td>...</td>\n",
       "      <td>...</td>\n",
       "      <td>...</td>\n",
       "      <td>...</td>\n",
       "    </tr>\n",
       "    <tr>\n",
       "      <th>1000019</th>\n",
       "      <td>6040</td>\n",
       "      <td>2917</td>\n",
       "      <td>4</td>\n",
       "      <td>997454429</td>\n",
       "    </tr>\n",
       "    <tr>\n",
       "      <th>999988</th>\n",
       "      <td>6040</td>\n",
       "      <td>1921</td>\n",
       "      <td>4</td>\n",
       "      <td>997454464</td>\n",
       "    </tr>\n",
       "    <tr>\n",
       "      <th>1000172</th>\n",
       "      <td>6040</td>\n",
       "      <td>1784</td>\n",
       "      <td>3</td>\n",
       "      <td>997454464</td>\n",
       "    </tr>\n",
       "    <tr>\n",
       "      <th>1000167</th>\n",
       "      <td>6040</td>\n",
       "      <td>161</td>\n",
       "      <td>3</td>\n",
       "      <td>997454486</td>\n",
       "    </tr>\n",
       "    <tr>\n",
       "      <th>1000042</th>\n",
       "      <td>6040</td>\n",
       "      <td>1221</td>\n",
       "      <td>4</td>\n",
       "      <td>998315055</td>\n",
       "    </tr>\n",
       "  </tbody>\n",
       "</table>\n",
       "<p>1000209 rows × 4 columns</p>\n",
       "</div>"
      ],
      "text/plain": [
       "         UserId  ItemId  Rating  Timestamp\n",
       "31            1    3186       4  978300019\n",
       "22            1    1270       5  978300055\n",
       "27            1    1721       4  978300055\n",
       "37            1    1022       5  978300055\n",
       "24            1    2340       3  978300103\n",
       "...         ...     ...     ...        ...\n",
       "1000019    6040    2917       4  997454429\n",
       "999988     6040    1921       4  997454464\n",
       "1000172    6040    1784       3  997454464\n",
       "1000167    6040     161       3  997454486\n",
       "1000042    6040    1221       4  998315055\n",
       "\n",
       "[1000209 rows x 4 columns]"
      ]
     },
     "execution_count": 454,
     "metadata": {},
     "output_type": "execute_result"
    }
   ],
   "source": [
    "data_path = Path(os.getenv('HOME')+'/aiffel/yoochoose/data/') \n",
    "train_path = data_path / 'ratings.dat'\n",
    "\n",
    "def load_data(data_path: Path, nrows=None):\n",
    "    data = pd.read_csv(data_path, sep='::', header=None,\n",
    "                       usecols=[0, 1, 2, 3],\n",
    "                       dtype={0: np.int32, 1: np.int32, 2: np.int32}, nrows=nrows)\n",
    "    data.columns = ['UserId', 'ItemId', 'Rating', 'Timestamp']\n",
    "    return data\n",
    "\n",
    "data = load_data(train_path, None)\n",
    "data.sort_values(['UserId', 'Timestamp'], inplace=True) \n",
    "orginal_data_size = len(data)\n",
    "\n",
    "data"
   ]
  },
  {
   "cell_type": "code",
   "execution_count": 455,
   "id": "introductory-netherlands",
   "metadata": {},
   "outputs": [
    {
     "name": "stdout",
     "output_type": "stream",
     "text": [
      "<class 'pandas.core.frame.DataFrame'>\n",
      "Int64Index: 1000209 entries, 31 to 1000042\n",
      "Data columns (total 4 columns):\n",
      " #   Column     Non-Null Count    Dtype\n",
      "---  ------     --------------    -----\n",
      " 0   UserId     1000209 non-null  int32\n",
      " 1   ItemId     1000209 non-null  int32\n",
      " 2   Rating     1000209 non-null  int32\n",
      " 3   Timestamp  1000209 non-null  int64\n",
      "dtypes: int32(3), int64(1)\n",
      "memory usage: 26.7 MB\n"
     ]
    }
   ],
   "source": [
    "data.info()"
   ]
  },
  {
   "cell_type": "markdown",
   "id": "hungry-approval",
   "metadata": {},
   "source": [
    "- 'ratings.dat' 파일은 SessionID 대신 UserID 항목이 들어갔습니다. 이 데이터셋은 명확한 1회 세션의 SessionID를 포함하지 않고 있습니다. 그래서 이번에는 UserID가 SessionID 역할을 해야 합니다.\n",
    "- Rating 정보가 포함되어 있습니다. 이전 실습내역에서는 이런 항목이 포함되어 있지 않았으므로, 무시하고 제외할 수 있습니다. 하지만, 직전에 봤던 영화가 맘에 들었는지 여부가 비슷한 영화를 더 고르게 하는 것과 상관이 있을 수도 있습니다. 아울러, Rating이 낮은 데이터를 어떻게 처리할지도 고민해야 합니다.\n",
    "- Time 항목에는 UTC time 가 포함되어, 1970년 1월 1일부터 경과된 초단위 시간이 기재되어 있습니다.\n",
    "\n",
    "이 정보를 바탕으로 오늘의 실습 과정과 유사한 프로젝트 과정을 진행해 보겠습니다."
   ]
  },
  {
   "cell_type": "markdown",
   "id": "equipped-cursor",
   "metadata": {},
   "source": [
    "# 1. 데이터 전처리"
   ]
  },
  {
   "cell_type": "markdown",
   "id": "latest-disaster",
   "metadata": {},
   "source": [
    "## Session 구분"
   ]
  },
  {
   "cell_type": "code",
   "execution_count": 456,
   "id": "desirable-alaska",
   "metadata": {},
   "outputs": [
    {
     "name": "stdout",
     "output_type": "stream",
     "text": [
      "UserID의 고유한 값:  6040\n",
      "ItemID의 고유한 값:  3706\n"
     ]
    }
   ],
   "source": [
    "print(\"UserID의 고유한 값: \", data['UserId'].nunique())\n",
    "print(\"ItemID의 고유한 값: \", data['ItemId'].nunique())"
   ]
  },
  {
   "cell_type": "markdown",
   "id": "extraordinary-march",
   "metadata": {},
   "source": [
    "'rating.dat' Dataset에는 SessionID 대신 UserID 값이 들어갔고, 이를 이용해야 하기 때문에 session의 이름으로 'UserID' 컬럼을 이용해 보겠습니다!"
   ]
  },
  {
   "cell_type": "code",
   "execution_count": 457,
   "id": "searching-helmet",
   "metadata": {},
   "outputs": [
    {
     "data": {
      "text/plain": [
       "UserId\n",
       "1        53\n",
       "2       129\n",
       "3        51\n",
       "4        21\n",
       "5       198\n",
       "       ... \n",
       "6036    888\n",
       "6037    202\n",
       "6038     20\n",
       "6039    123\n",
       "6040    341\n",
       "Length: 6040, dtype: int64"
      ]
     },
     "execution_count": 457,
     "metadata": {},
     "output_type": "execute_result"
    }
   ],
   "source": [
    "# 각 유저별 사람들이 리뷰를 남긴 개수\n",
    "session_length = data.groupby('UserId').size()\n",
    "session_length"
   ]
  },
  {
   "cell_type": "code",
   "execution_count": 458,
   "id": "parallel-insider",
   "metadata": {},
   "outputs": [
    {
     "data": {
      "text/plain": [
       "count    6040.000000\n",
       "mean      165.597517\n",
       "std       192.747029\n",
       "min        20.000000\n",
       "25%        44.000000\n",
       "50%        96.000000\n",
       "75%       208.000000\n",
       "max      2314.000000\n",
       "dtype: float64"
      ]
     },
     "execution_count": 458,
     "metadata": {},
     "output_type": "execute_result"
    }
   ],
   "source": [
    "session_length.describe()"
   ]
  },
  {
   "cell_type": "markdown",
   "id": "surprising-purchase",
   "metadata": {},
   "source": [
    "가장 많이 남긴 사람은 2314개나 남겼습니다. 가장 적은 사람은 1개입니다. 사실 이 데이터는 리뷰를 20개 이상 남긴 사람만 모아둔 데이터이기 때문에 최솟값은 20이 맞습니다. 평균이 192, 중앙값이 96인 것으로 보아 헤비 유저가 많은 것 같군요!"
   ]
  },
  {
   "cell_type": "markdown",
   "id": "tender-sector",
   "metadata": {},
   "source": [
    "영화 리뷰를 1968개나 남긴 헤비 유저를 확인해보겠습니다. 시간이 Timestamp로 되어있는데, 이는 'timestamp = 초 * 분 * 시 * 일' 입니다. \n",
    "```\n",
    "timestamp = 60 * 60 * 24 *30\n",
    "print(timestamp)\n",
    ">>> 2592000\n",
    "```\n",
    "\n",
    "이를 date 형식으로 바꿔주는 방법을 찾아보겠습니다."
   ]
  },
  {
   "cell_type": "markdown",
   "id": "found-bullet",
   "metadata": {},
   "source": [
    "## TImestamp → Datetime 형식 변환"
   ]
  },
  {
   "cell_type": "code",
   "execution_count": 459,
   "id": "regular-journalist",
   "metadata": {},
   "outputs": [
    {
     "data": {
      "text/plain": [
       "1000209"
      ]
     },
     "execution_count": 459,
     "metadata": {},
     "output_type": "execute_result"
    }
   ],
   "source": [
    "len(data['Timestamp'])"
   ]
  },
  {
   "cell_type": "code",
   "execution_count": 460,
   "id": "thrown-contributor",
   "metadata": {},
   "outputs": [
    {
     "data": {
      "text/html": [
       "<div>\n",
       "<style scoped>\n",
       "    .dataframe tbody tr th:only-of-type {\n",
       "        vertical-align: middle;\n",
       "    }\n",
       "\n",
       "    .dataframe tbody tr th {\n",
       "        vertical-align: top;\n",
       "    }\n",
       "\n",
       "    .dataframe thead th {\n",
       "        text-align: right;\n",
       "    }\n",
       "</style>\n",
       "<table border=\"1\" class=\"dataframe\">\n",
       "  <thead>\n",
       "    <tr style=\"text-align: right;\">\n",
       "      <th></th>\n",
       "      <th>UserId</th>\n",
       "      <th>ItemId</th>\n",
       "      <th>Rating</th>\n",
       "      <th>Timestamp</th>\n",
       "    </tr>\n",
       "  </thead>\n",
       "  <tbody>\n",
       "    <tr>\n",
       "      <th>31</th>\n",
       "      <td>1</td>\n",
       "      <td>3186</td>\n",
       "      <td>4</td>\n",
       "      <td>978300019</td>\n",
       "    </tr>\n",
       "    <tr>\n",
       "      <th>22</th>\n",
       "      <td>1</td>\n",
       "      <td>1270</td>\n",
       "      <td>5</td>\n",
       "      <td>978300055</td>\n",
       "    </tr>\n",
       "    <tr>\n",
       "      <th>27</th>\n",
       "      <td>1</td>\n",
       "      <td>1721</td>\n",
       "      <td>4</td>\n",
       "      <td>978300055</td>\n",
       "    </tr>\n",
       "    <tr>\n",
       "      <th>37</th>\n",
       "      <td>1</td>\n",
       "      <td>1022</td>\n",
       "      <td>5</td>\n",
       "      <td>978300055</td>\n",
       "    </tr>\n",
       "    <tr>\n",
       "      <th>24</th>\n",
       "      <td>1</td>\n",
       "      <td>2340</td>\n",
       "      <td>3</td>\n",
       "      <td>978300103</td>\n",
       "    </tr>\n",
       "    <tr>\n",
       "      <th>...</th>\n",
       "      <td>...</td>\n",
       "      <td>...</td>\n",
       "      <td>...</td>\n",
       "      <td>...</td>\n",
       "    </tr>\n",
       "    <tr>\n",
       "      <th>1000019</th>\n",
       "      <td>6040</td>\n",
       "      <td>2917</td>\n",
       "      <td>4</td>\n",
       "      <td>997454429</td>\n",
       "    </tr>\n",
       "    <tr>\n",
       "      <th>999988</th>\n",
       "      <td>6040</td>\n",
       "      <td>1921</td>\n",
       "      <td>4</td>\n",
       "      <td>997454464</td>\n",
       "    </tr>\n",
       "    <tr>\n",
       "      <th>1000172</th>\n",
       "      <td>6040</td>\n",
       "      <td>1784</td>\n",
       "      <td>3</td>\n",
       "      <td>997454464</td>\n",
       "    </tr>\n",
       "    <tr>\n",
       "      <th>1000167</th>\n",
       "      <td>6040</td>\n",
       "      <td>161</td>\n",
       "      <td>3</td>\n",
       "      <td>997454486</td>\n",
       "    </tr>\n",
       "    <tr>\n",
       "      <th>1000042</th>\n",
       "      <td>6040</td>\n",
       "      <td>1221</td>\n",
       "      <td>4</td>\n",
       "      <td>998315055</td>\n",
       "    </tr>\n",
       "  </tbody>\n",
       "</table>\n",
       "<p>1000209 rows × 4 columns</p>\n",
       "</div>"
      ],
      "text/plain": [
       "         UserId  ItemId  Rating  Timestamp\n",
       "31            1    3186       4  978300019\n",
       "22            1    1270       5  978300055\n",
       "27            1    1721       4  978300055\n",
       "37            1    1022       5  978300055\n",
       "24            1    2340       3  978300103\n",
       "...         ...     ...     ...        ...\n",
       "1000019    6040    2917       4  997454429\n",
       "999988     6040    1921       4  997454464\n",
       "1000172    6040    1784       3  997454464\n",
       "1000167    6040     161       3  997454486\n",
       "1000042    6040    1221       4  998315055\n",
       "\n",
       "[1000209 rows x 4 columns]"
      ]
     },
     "execution_count": 460,
     "metadata": {},
     "output_type": "execute_result"
    }
   ],
   "source": [
    "data"
   ]
  },
  {
   "cell_type": "code",
   "execution_count": 461,
   "id": "acoustic-boxing",
   "metadata": {},
   "outputs": [],
   "source": [
    "from datetime import datetime\n",
    "import time\n",
    "\n",
    "date = []\n",
    "\n",
    "for i in range(1000209):\n",
    "    time = datetime.fromtimestamp(data['Timestamp'][i]).strftime('%Y-%m-%d %H:%M:%S')\n",
    "    time = datetime.strptime(time, '%Y-%m-%d %H:%M:%S') # datetime 으로 변환\n",
    "    date.append(time)"
   ]
  },
  {
   "cell_type": "code",
   "execution_count": 462,
   "id": "silent-lesbian",
   "metadata": {},
   "outputs": [],
   "source": [
    "data['Time'] = date"
   ]
  },
  {
   "cell_type": "code",
   "execution_count": 463,
   "id": "careful-borough",
   "metadata": {},
   "outputs": [
    {
     "data": {
      "text/html": [
       "<div>\n",
       "<style scoped>\n",
       "    .dataframe tbody tr th:only-of-type {\n",
       "        vertical-align: middle;\n",
       "    }\n",
       "\n",
       "    .dataframe tbody tr th {\n",
       "        vertical-align: top;\n",
       "    }\n",
       "\n",
       "    .dataframe thead th {\n",
       "        text-align: right;\n",
       "    }\n",
       "</style>\n",
       "<table border=\"1\" class=\"dataframe\">\n",
       "  <thead>\n",
       "    <tr style=\"text-align: right;\">\n",
       "      <th></th>\n",
       "      <th>UserId</th>\n",
       "      <th>ItemId</th>\n",
       "      <th>Rating</th>\n",
       "      <th>Timestamp</th>\n",
       "      <th>Time</th>\n",
       "    </tr>\n",
       "  </thead>\n",
       "  <tbody>\n",
       "    <tr>\n",
       "      <th>31</th>\n",
       "      <td>1</td>\n",
       "      <td>3186</td>\n",
       "      <td>4</td>\n",
       "      <td>978300019</td>\n",
       "      <td>2000-12-31 22:12:40</td>\n",
       "    </tr>\n",
       "    <tr>\n",
       "      <th>22</th>\n",
       "      <td>1</td>\n",
       "      <td>1270</td>\n",
       "      <td>5</td>\n",
       "      <td>978300055</td>\n",
       "      <td>2000-12-31 22:35:09</td>\n",
       "    </tr>\n",
       "    <tr>\n",
       "      <th>27</th>\n",
       "      <td>1</td>\n",
       "      <td>1721</td>\n",
       "      <td>4</td>\n",
       "      <td>978300055</td>\n",
       "      <td>2000-12-31 22:32:48</td>\n",
       "    </tr>\n",
       "    <tr>\n",
       "      <th>37</th>\n",
       "      <td>1</td>\n",
       "      <td>1022</td>\n",
       "      <td>5</td>\n",
       "      <td>978300055</td>\n",
       "      <td>2000-12-31 22:04:35</td>\n",
       "    </tr>\n",
       "    <tr>\n",
       "      <th>24</th>\n",
       "      <td>1</td>\n",
       "      <td>2340</td>\n",
       "      <td>3</td>\n",
       "      <td>978300103</td>\n",
       "      <td>2001-01-06 23:38:11</td>\n",
       "    </tr>\n",
       "    <tr>\n",
       "      <th>...</th>\n",
       "      <td>...</td>\n",
       "      <td>...</td>\n",
       "      <td>...</td>\n",
       "      <td>...</td>\n",
       "      <td>...</td>\n",
       "    </tr>\n",
       "    <tr>\n",
       "      <th>1000019</th>\n",
       "      <td>6040</td>\n",
       "      <td>2917</td>\n",
       "      <td>4</td>\n",
       "      <td>997454429</td>\n",
       "      <td>2000-04-26 02:35:41</td>\n",
       "    </tr>\n",
       "    <tr>\n",
       "      <th>999988</th>\n",
       "      <td>6040</td>\n",
       "      <td>1921</td>\n",
       "      <td>4</td>\n",
       "      <td>997454464</td>\n",
       "      <td>2000-04-25 23:21:27</td>\n",
       "    </tr>\n",
       "    <tr>\n",
       "      <th>1000172</th>\n",
       "      <td>6040</td>\n",
       "      <td>1784</td>\n",
       "      <td>3</td>\n",
       "      <td>997454464</td>\n",
       "      <td>2000-04-25 23:19:06</td>\n",
       "    </tr>\n",
       "    <tr>\n",
       "      <th>1000167</th>\n",
       "      <td>6040</td>\n",
       "      <td>161</td>\n",
       "      <td>3</td>\n",
       "      <td>997454486</td>\n",
       "      <td>2000-04-26 02:20:48</td>\n",
       "    </tr>\n",
       "    <tr>\n",
       "      <th>1000042</th>\n",
       "      <td>6040</td>\n",
       "      <td>1221</td>\n",
       "      <td>4</td>\n",
       "      <td>998315055</td>\n",
       "      <td>2000-04-26 02:19:29</td>\n",
       "    </tr>\n",
       "  </tbody>\n",
       "</table>\n",
       "<p>1000209 rows × 5 columns</p>\n",
       "</div>"
      ],
      "text/plain": [
       "         UserId  ItemId  Rating  Timestamp                Time\n",
       "31            1    3186       4  978300019 2000-12-31 22:12:40\n",
       "22            1    1270       5  978300055 2000-12-31 22:35:09\n",
       "27            1    1721       4  978300055 2000-12-31 22:32:48\n",
       "37            1    1022       5  978300055 2000-12-31 22:04:35\n",
       "24            1    2340       3  978300103 2001-01-06 23:38:11\n",
       "...         ...     ...     ...        ...                 ...\n",
       "1000019    6040    2917       4  997454429 2000-04-26 02:35:41\n",
       "999988     6040    1921       4  997454464 2000-04-25 23:21:27\n",
       "1000172    6040    1784       3  997454464 2000-04-25 23:19:06\n",
       "1000167    6040     161       3  997454486 2000-04-26 02:20:48\n",
       "1000042    6040    1221       4  998315055 2000-04-26 02:19:29\n",
       "\n",
       "[1000209 rows x 5 columns]"
      ]
     },
     "execution_count": 463,
     "metadata": {},
     "output_type": "execute_result"
    }
   ],
   "source": [
    "data"
   ]
  },
  {
   "cell_type": "code",
   "execution_count": 464,
   "id": "exact-reason",
   "metadata": {},
   "outputs": [
    {
     "data": {
      "text/html": [
       "<div>\n",
       "<style scoped>\n",
       "    .dataframe tbody tr th:only-of-type {\n",
       "        vertical-align: middle;\n",
       "    }\n",
       "\n",
       "    .dataframe tbody tr th {\n",
       "        vertical-align: top;\n",
       "    }\n",
       "\n",
       "    .dataframe thead th {\n",
       "        text-align: right;\n",
       "    }\n",
       "</style>\n",
       "<table border=\"1\" class=\"dataframe\">\n",
       "  <thead>\n",
       "    <tr style=\"text-align: right;\">\n",
       "      <th></th>\n",
       "      <th>UserId</th>\n",
       "      <th>ItemId</th>\n",
       "      <th>Rating</th>\n",
       "      <th>Time</th>\n",
       "    </tr>\n",
       "  </thead>\n",
       "  <tbody>\n",
       "    <tr>\n",
       "      <th>31</th>\n",
       "      <td>1</td>\n",
       "      <td>3186</td>\n",
       "      <td>4</td>\n",
       "      <td>2000-12-31 22:12:40</td>\n",
       "    </tr>\n",
       "    <tr>\n",
       "      <th>22</th>\n",
       "      <td>1</td>\n",
       "      <td>1270</td>\n",
       "      <td>5</td>\n",
       "      <td>2000-12-31 22:35:09</td>\n",
       "    </tr>\n",
       "    <tr>\n",
       "      <th>27</th>\n",
       "      <td>1</td>\n",
       "      <td>1721</td>\n",
       "      <td>4</td>\n",
       "      <td>2000-12-31 22:32:48</td>\n",
       "    </tr>\n",
       "    <tr>\n",
       "      <th>37</th>\n",
       "      <td>1</td>\n",
       "      <td>1022</td>\n",
       "      <td>5</td>\n",
       "      <td>2000-12-31 22:04:35</td>\n",
       "    </tr>\n",
       "    <tr>\n",
       "      <th>24</th>\n",
       "      <td>1</td>\n",
       "      <td>2340</td>\n",
       "      <td>3</td>\n",
       "      <td>2001-01-06 23:38:11</td>\n",
       "    </tr>\n",
       "    <tr>\n",
       "      <th>...</th>\n",
       "      <td>...</td>\n",
       "      <td>...</td>\n",
       "      <td>...</td>\n",
       "      <td>...</td>\n",
       "    </tr>\n",
       "    <tr>\n",
       "      <th>1000019</th>\n",
       "      <td>6040</td>\n",
       "      <td>2917</td>\n",
       "      <td>4</td>\n",
       "      <td>2000-04-26 02:35:41</td>\n",
       "    </tr>\n",
       "    <tr>\n",
       "      <th>999988</th>\n",
       "      <td>6040</td>\n",
       "      <td>1921</td>\n",
       "      <td>4</td>\n",
       "      <td>2000-04-25 23:21:27</td>\n",
       "    </tr>\n",
       "    <tr>\n",
       "      <th>1000172</th>\n",
       "      <td>6040</td>\n",
       "      <td>1784</td>\n",
       "      <td>3</td>\n",
       "      <td>2000-04-25 23:19:06</td>\n",
       "    </tr>\n",
       "    <tr>\n",
       "      <th>1000167</th>\n",
       "      <td>6040</td>\n",
       "      <td>161</td>\n",
       "      <td>3</td>\n",
       "      <td>2000-04-26 02:20:48</td>\n",
       "    </tr>\n",
       "    <tr>\n",
       "      <th>1000042</th>\n",
       "      <td>6040</td>\n",
       "      <td>1221</td>\n",
       "      <td>4</td>\n",
       "      <td>2000-04-26 02:19:29</td>\n",
       "    </tr>\n",
       "  </tbody>\n",
       "</table>\n",
       "<p>1000209 rows × 4 columns</p>\n",
       "</div>"
      ],
      "text/plain": [
       "         UserId  ItemId  Rating                Time\n",
       "31            1    3186       4 2000-12-31 22:12:40\n",
       "22            1    1270       5 2000-12-31 22:35:09\n",
       "27            1    1721       4 2000-12-31 22:32:48\n",
       "37            1    1022       5 2000-12-31 22:04:35\n",
       "24            1    2340       3 2001-01-06 23:38:11\n",
       "...         ...     ...     ...                 ...\n",
       "1000019    6040    2917       4 2000-04-26 02:35:41\n",
       "999988     6040    1921       4 2000-04-25 23:21:27\n",
       "1000172    6040    1784       3 2000-04-25 23:19:06\n",
       "1000167    6040     161       3 2000-04-26 02:20:48\n",
       "1000042    6040    1221       4 2000-04-26 02:19:29\n",
       "\n",
       "[1000209 rows x 4 columns]"
      ]
     },
     "execution_count": 464,
     "metadata": {},
     "output_type": "execute_result"
    }
   ],
   "source": [
    "data.drop('Timestamp', axis=1, inplace=True)\n",
    "data"
   ]
  },
  {
   "cell_type": "markdown",
   "id": "supposed-walter",
   "metadata": {},
   "source": [
    "## 평점 3점 이하는 삭제\n",
    "추천 시스템을 만들 예정이니 3점 미만으로 준 데이터는 선호하지 않는다고 가정하고 제외합니다."
   ]
  },
  {
   "cell_type": "code",
   "execution_count": 465,
   "id": "surrounded-member",
   "metadata": {},
   "outputs": [
    {
     "name": "stdout",
     "output_type": "stream",
     "text": [
      "원래 데이터 수:  1000209\n"
     ]
    }
   ],
   "source": [
    "orginal_data_size = len(data)\n",
    "print(\"원래 데이터 수: \", orginal_data_size)"
   ]
  },
  {
   "cell_type": "code",
   "execution_count": 466,
   "id": "lesser-median",
   "metadata": {},
   "outputs": [],
   "source": [
    "data = data[data['Rating'] >=  3]\n",
    "filtered_data_size = len(data)"
   ]
  },
  {
   "cell_type": "code",
   "execution_count": 467,
   "id": "naked-money",
   "metadata": {},
   "outputs": [
    {
     "name": "stdout",
     "output_type": "stream",
     "text": [
      "orginal_data_size: 1000209, filtered_data_size: 836478\n",
      "Ratio of Remaining Data is 83.63%\n"
     ]
    }
   ],
   "source": [
    "print(f'orginal_data_size: {orginal_data_size}, filtered_data_size: {filtered_data_size}')\n",
    "print(f'Ratio of Remaining Data is {filtered_data_size / orginal_data_size:.2%}')"
   ]
  },
  {
   "cell_type": "markdown",
   "id": "simplified-omaha",
   "metadata": {},
   "source": [
    "3점 미만의 점수를 삭제하였고 original data의 83.63만 남게 되었습니다."
   ]
  },
  {
   "cell_type": "code",
   "execution_count": 468,
   "id": "engaged-finger",
   "metadata": {},
   "outputs": [
    {
     "data": {
      "text/html": [
       "<div>\n",
       "<style scoped>\n",
       "    .dataframe tbody tr th:only-of-type {\n",
       "        vertical-align: middle;\n",
       "    }\n",
       "\n",
       "    .dataframe tbody tr th {\n",
       "        vertical-align: top;\n",
       "    }\n",
       "\n",
       "    .dataframe thead th {\n",
       "        text-align: right;\n",
       "    }\n",
       "</style>\n",
       "<table border=\"1\" class=\"dataframe\">\n",
       "  <thead>\n",
       "    <tr style=\"text-align: right;\">\n",
       "      <th></th>\n",
       "      <th>UserId</th>\n",
       "      <th>ItemId</th>\n",
       "      <th>Rating</th>\n",
       "      <th>Time</th>\n",
       "    </tr>\n",
       "  </thead>\n",
       "  <tbody>\n",
       "    <tr>\n",
       "      <th>31</th>\n",
       "      <td>1</td>\n",
       "      <td>3186</td>\n",
       "      <td>4</td>\n",
       "      <td>2000-12-31 22:12:40</td>\n",
       "    </tr>\n",
       "    <tr>\n",
       "      <th>22</th>\n",
       "      <td>1</td>\n",
       "      <td>1270</td>\n",
       "      <td>5</td>\n",
       "      <td>2000-12-31 22:35:09</td>\n",
       "    </tr>\n",
       "    <tr>\n",
       "      <th>27</th>\n",
       "      <td>1</td>\n",
       "      <td>1721</td>\n",
       "      <td>4</td>\n",
       "      <td>2000-12-31 22:32:48</td>\n",
       "    </tr>\n",
       "    <tr>\n",
       "      <th>37</th>\n",
       "      <td>1</td>\n",
       "      <td>1022</td>\n",
       "      <td>5</td>\n",
       "      <td>2000-12-31 22:04:35</td>\n",
       "    </tr>\n",
       "    <tr>\n",
       "      <th>24</th>\n",
       "      <td>1</td>\n",
       "      <td>2340</td>\n",
       "      <td>3</td>\n",
       "      <td>2001-01-06 23:38:11</td>\n",
       "    </tr>\n",
       "    <tr>\n",
       "      <th>...</th>\n",
       "      <td>...</td>\n",
       "      <td>...</td>\n",
       "      <td>...</td>\n",
       "      <td>...</td>\n",
       "    </tr>\n",
       "    <tr>\n",
       "      <th>1000019</th>\n",
       "      <td>6040</td>\n",
       "      <td>2917</td>\n",
       "      <td>4</td>\n",
       "      <td>2000-04-26 02:35:41</td>\n",
       "    </tr>\n",
       "    <tr>\n",
       "      <th>999988</th>\n",
       "      <td>6040</td>\n",
       "      <td>1921</td>\n",
       "      <td>4</td>\n",
       "      <td>2000-04-25 23:21:27</td>\n",
       "    </tr>\n",
       "    <tr>\n",
       "      <th>1000172</th>\n",
       "      <td>6040</td>\n",
       "      <td>1784</td>\n",
       "      <td>3</td>\n",
       "      <td>2000-04-25 23:19:06</td>\n",
       "    </tr>\n",
       "    <tr>\n",
       "      <th>1000167</th>\n",
       "      <td>6040</td>\n",
       "      <td>161</td>\n",
       "      <td>3</td>\n",
       "      <td>2000-04-26 02:20:48</td>\n",
       "    </tr>\n",
       "    <tr>\n",
       "      <th>1000042</th>\n",
       "      <td>6040</td>\n",
       "      <td>1221</td>\n",
       "      <td>4</td>\n",
       "      <td>2000-04-26 02:19:29</td>\n",
       "    </tr>\n",
       "  </tbody>\n",
       "</table>\n",
       "<p>836478 rows × 4 columns</p>\n",
       "</div>"
      ],
      "text/plain": [
       "         UserId  ItemId  Rating                Time\n",
       "31            1    3186       4 2000-12-31 22:12:40\n",
       "22            1    1270       5 2000-12-31 22:35:09\n",
       "27            1    1721       4 2000-12-31 22:32:48\n",
       "37            1    1022       5 2000-12-31 22:04:35\n",
       "24            1    2340       3 2001-01-06 23:38:11\n",
       "...         ...     ...     ...                 ...\n",
       "1000019    6040    2917       4 2000-04-26 02:35:41\n",
       "999988     6040    1921       4 2000-04-25 23:21:27\n",
       "1000172    6040    1784       3 2000-04-25 23:19:06\n",
       "1000167    6040     161       3 2000-04-26 02:20:48\n",
       "1000042    6040    1221       4 2000-04-26 02:19:29\n",
       "\n",
       "[836478 rows x 4 columns]"
      ]
     },
     "execution_count": 468,
     "metadata": {},
     "output_type": "execute_result"
    }
   ],
   "source": [
    "data"
   ]
  },
  {
   "cell_type": "markdown",
   "id": "daily-retro",
   "metadata": {},
   "source": [
    "## 헤비 유저 확인해보기\n",
    "아까 앞에서 3점 미만의 리뷰는 삭제했기 때문에 session_length를 다시 확인해 보겠습니다."
   ]
  },
  {
   "cell_type": "code",
   "execution_count": 469,
   "id": "orange-compensation",
   "metadata": {},
   "outputs": [
    {
     "data": {
      "text/plain": [
       "count    6039.000000\n",
       "mean      138.512668\n",
       "std       156.241599\n",
       "min         1.000000\n",
       "25%        38.000000\n",
       "50%        81.000000\n",
       "75%       177.000000\n",
       "max      1968.000000\n",
       "dtype: float64"
      ]
     },
     "execution_count": 469,
     "metadata": {},
     "output_type": "execute_result"
    }
   ],
   "source": [
    "session_length = data.groupby('UserId').size()\n",
    "session_length.describe()"
   ]
  },
  {
   "cell_type": "markdown",
   "id": "radio-seventh",
   "metadata": {},
   "source": [
    "유저는 6040에서 1명이 줄어들었고, 평균 196 → 138, 중앙값 96 → 81 로 줄어들었습니다. 편차가 살짝 줄어 들었음을 알 수 있습니다. 또한, 가장 많이 남긴 수가 1968개로 변경되었습니다. 이 데이터를 더 상세히 살펴보겠습니다."
   ]
  },
  {
   "cell_type": "code",
   "execution_count": 470,
   "id": "prime-circular",
   "metadata": {},
   "outputs": [
    {
     "data": {
      "text/html": [
       "<div>\n",
       "<style scoped>\n",
       "    .dataframe tbody tr th:only-of-type {\n",
       "        vertical-align: middle;\n",
       "    }\n",
       "\n",
       "    .dataframe tbody tr th {\n",
       "        vertical-align: top;\n",
       "    }\n",
       "\n",
       "    .dataframe thead th {\n",
       "        text-align: right;\n",
       "    }\n",
       "</style>\n",
       "<table border=\"1\" class=\"dataframe\">\n",
       "  <thead>\n",
       "    <tr style=\"text-align: right;\">\n",
       "      <th></th>\n",
       "      <th>UserId</th>\n",
       "      <th>ItemId</th>\n",
       "      <th>Rating</th>\n",
       "      <th>Time</th>\n",
       "    </tr>\n",
       "  </thead>\n",
       "  <tbody>\n",
       "    <tr>\n",
       "      <th>696969</th>\n",
       "      <td>4169</td>\n",
       "      <td>1268</td>\n",
       "      <td>5</td>\n",
       "      <td>2000-08-03 20:14:32</td>\n",
       "    </tr>\n",
       "    <tr>\n",
       "      <th>697168</th>\n",
       "      <td>4169</td>\n",
       "      <td>2617</td>\n",
       "      <td>4</td>\n",
       "      <td>2000-11-04 03:57:45</td>\n",
       "    </tr>\n",
       "    <tr>\n",
       "      <th>697185</th>\n",
       "      <td>4169</td>\n",
       "      <td>2628</td>\n",
       "      <td>4</td>\n",
       "      <td>2000-12-03 01:00:32</td>\n",
       "    </tr>\n",
       "    <tr>\n",
       "      <th>697219</th>\n",
       "      <td>4169</td>\n",
       "      <td>2653</td>\n",
       "      <td>4</td>\n",
       "      <td>2000-12-12 02:59:09</td>\n",
       "    </tr>\n",
       "    <tr>\n",
       "      <th>697275</th>\n",
       "      <td>4169</td>\n",
       "      <td>423</td>\n",
       "      <td>3</td>\n",
       "      <td>2001-04-26 22:29:05</td>\n",
       "    </tr>\n",
       "    <tr>\n",
       "      <th>...</th>\n",
       "      <td>...</td>\n",
       "      <td>...</td>\n",
       "      <td>...</td>\n",
       "      <td>...</td>\n",
       "    </tr>\n",
       "    <tr>\n",
       "      <th>697055</th>\n",
       "      <td>4169</td>\n",
       "      <td>3207</td>\n",
       "      <td>3</td>\n",
       "      <td>2000-08-03 20:12:38</td>\n",
       "    </tr>\n",
       "    <tr>\n",
       "      <th>695958</th>\n",
       "      <td>4169</td>\n",
       "      <td>3413</td>\n",
       "      <td>3</td>\n",
       "      <td>2000-10-15 03:43:34</td>\n",
       "    </tr>\n",
       "    <tr>\n",
       "      <th>695702</th>\n",
       "      <td>4169</td>\n",
       "      <td>1413</td>\n",
       "      <td>3</td>\n",
       "      <td>2001-01-26 02:42:04</td>\n",
       "    </tr>\n",
       "    <tr>\n",
       "      <th>697358</th>\n",
       "      <td>4169</td>\n",
       "      <td>494</td>\n",
       "      <td>4</td>\n",
       "      <td>2000-10-15 03:16:55</td>\n",
       "    </tr>\n",
       "    <tr>\n",
       "      <th>696446</th>\n",
       "      <td>4169</td>\n",
       "      <td>1548</td>\n",
       "      <td>3</td>\n",
       "      <td>2000-08-08 00:13:06</td>\n",
       "    </tr>\n",
       "  </tbody>\n",
       "</table>\n",
       "<p>1968 rows × 4 columns</p>\n",
       "</div>"
      ],
      "text/plain": [
       "        UserId  ItemId  Rating                Time\n",
       "696969    4169    1268       5 2000-08-03 20:14:32\n",
       "697168    4169    2617       4 2000-11-04 03:57:45\n",
       "697185    4169    2628       4 2000-12-03 01:00:32\n",
       "697219    4169    2653       4 2000-12-12 02:59:09\n",
       "697275    4169     423       3 2001-04-26 22:29:05\n",
       "...        ...     ...     ...                 ...\n",
       "697055    4169    3207       3 2000-08-03 20:12:38\n",
       "695958    4169    3413       3 2000-10-15 03:43:34\n",
       "695702    4169    1413       3 2001-01-26 02:42:04\n",
       "697358    4169     494       4 2000-10-15 03:16:55\n",
       "696446    4169    1548       3 2000-08-08 00:13:06\n",
       "\n",
       "[1968 rows x 4 columns]"
      ]
     },
     "execution_count": 470,
     "metadata": {},
     "output_type": "execute_result"
    }
   ],
   "source": [
    "long_session = session_length[session_length==1968].index[0]\n",
    "heavy_user = data[data['UserId']==long_session]\n",
    "heavy_user"
   ]
  },
  {
   "cell_type": "code",
   "execution_count": 471,
   "id": "looking-philadelphia",
   "metadata": {},
   "outputs": [
    {
     "name": "stdout",
     "output_type": "stream",
     "text": [
      "리뷰를 남긴 첫째 날:  2000-08-03 20:09:52\n",
      "리뷰를 남긴 마지막 날 2002-06-15 21:25:37\n"
     ]
    }
   ],
   "source": [
    "print(\"리뷰를 남긴 첫째 날: \", heavy_user['Time'].min())\n",
    "print(\"리뷰를 남긴 마지막 날\", heavy_user['Time'].max())"
   ]
  },
  {
   "cell_type": "markdown",
   "id": "toxic-mailman",
   "metadata": {},
   "source": [
    "- 확인해보니 2000년8월3일부터 2002년6월15일까지의 날짜로 확인이 되네요. 약 2년 정도의 시간 동안 리뷰를 약 2000개나 남겼네요!"
   ]
  },
  {
   "cell_type": "markdown",
   "id": "opposite-rwanda",
   "metadata": {},
   "source": [
    "## session_length의 정의"
   ]
  },
  {
   "cell_type": "code",
   "execution_count": 472,
   "id": "becoming-deficit",
   "metadata": {},
   "outputs": [
    {
     "data": {
      "text/plain": [
       "1118.8860000000013"
      ]
     },
     "execution_count": 472,
     "metadata": {},
     "output_type": "execute_result"
    }
   ],
   "source": [
    "session_length.quantile(0.999)"
   ]
  },
  {
   "cell_type": "code",
   "execution_count": 473,
   "id": "weird-dressing",
   "metadata": {},
   "outputs": [
    {
     "data": {
      "text/plain": [
       "1       0.000166\n",
       "7       0.000331\n",
       "9       0.000994\n",
       "10      0.001159\n",
       "11      0.001987\n",
       "          ...   \n",
       "1029    0.998013\n",
       "1034    0.998344\n",
       "1054    0.998510\n",
       "1106    0.998675\n",
       "1116    0.998841\n",
       "Length: 636, dtype: float64"
      ]
     },
     "execution_count": 473,
     "metadata": {},
     "output_type": "execute_result"
    }
   ],
   "source": [
    "length_count = session_length.groupby(session_length).size()\n",
    "length_percent_cumsum = length_count.cumsum() / length_count.sum()\n",
    "length_percent_cumsum_999 = length_percent_cumsum[length_percent_cumsum < 0.999]\n",
    "\n",
    "length_percent_cumsum_999"
   ]
  },
  {
   "cell_type": "markdown",
   "id": "north-cocktail",
   "metadata": {},
   "source": [
    "(cumsum은 분포 누적합을 도와주는 함수입니다.)"
   ]
  },
  {
   "cell_type": "code",
   "execution_count": 474,
   "id": "electric-invite",
   "metadata": {},
   "outputs": [
    {
     "data": {
      "image/png": "[encoded data removed]",
      "text/plain": [
       "<Figure size 1440x720 with 1 Axes>"
      ]
     },
     "metadata": {
      "needs_background": "light"
     },
     "output_type": "display_data"
    }
   ],
   "source": [
    "import matplotlib.pyplot as plt\n",
    "\n",
    "plt.figure(figsize=(20,10))\n",
    "plt.bar(x=length_percent_cumsum_999.index,\n",
    "       height=length_percent_cumsum_999, color='pink')\n",
    "plt.xticks(length_percent_cumsum_999.index)\n",
    "plt.yticks(np.arange(0, 1.01, 0.05))\n",
    "plt.title('Cumsum Percentage Until 0.999', size=20)\n",
    "plt.show()"
   ]
  },
  {
   "cell_type": "markdown",
   "id": "advance-market",
   "metadata": {},
   "source": [
    "위의 값과 그래프를 통해 확인할 수 있는 점은 User의 99.9%는 남긴 리뷰가 1,118개 이하라는 점입니다. 하지만 조금 이상함을 느낄 수 있습니다."
   ]
  },
  {
   "cell_type": "code",
   "execution_count": 475,
   "id": "attractive-trance",
   "metadata": {},
   "outputs": [
    {
     "data": {
      "text/plain": [
       "1119    0.999006\n",
       "1136    0.999172\n",
       "1145    0.999338\n",
       "1146    0.999503\n",
       "1515    0.999669\n",
       "1715    0.999834\n",
       "1968    1.000000\n",
       "dtype: float64"
      ]
     },
     "execution_count": 475,
     "metadata": {},
     "output_type": "execute_result"
    }
   ],
   "source": [
    "length_percent_cumsum_001 = length_percent_cumsum[length_percent_cumsum > 0.999]\n",
    "length_percent_cumsum_001"
   ]
  },
  {
   "cell_type": "code",
   "execution_count": 476,
   "id": "accomplished-wilderness",
   "metadata": {},
   "outputs": [
    {
     "data": {
      "text/plain": [
       "7"
      ]
     },
     "execution_count": 476,
     "metadata": {},
     "output_type": "execute_result"
    }
   ],
   "source": [
    "len(length_percent_cumsum_001)"
   ]
  },
  {
   "cell_type": "code",
   "execution_count": 477,
   "id": "oriental-guest",
   "metadata": {},
   "outputs": [
    {
     "data": {
      "image/png": "[encoded data removed]",
      "text/plain": [
       "<Figure size 1440x720 with 1 Axes>"
      ]
     },
     "metadata": {
      "needs_background": "light"
     },
     "output_type": "display_data"
    }
   ],
   "source": [
    "import matplotlib.pyplot as plt\n",
    "\n",
    "plt.figure(figsize=(20,10))\n",
    "plt.bar(x=length_percent_cumsum_001.index,\n",
    "       height=length_percent_cumsum_001, color='aqua')\n",
    "plt.xticks(length_percent_cumsum_001.index)\n",
    "plt.yticks(np.arange(0, 1.01, 0.05))\n",
    "plt.title('Cumsum Percentage Until 0.999', size=20)\n",
    "plt.show()"
   ]
  },
  {
   "cell_type": "markdown",
   "id": "dominican-ground",
   "metadata": {},
   "source": [
    "상위 0.001%를 조회해보니 7개의 데이터가 나옵니다. 다시 session_length를 살펴보겠습니다."
   ]
  },
  {
   "cell_type": "code",
   "execution_count": 478,
   "id": "copyrighted-nashville",
   "metadata": {},
   "outputs": [
    {
     "data": {
      "text/plain": [
       "UserId\n",
       "1        53\n",
       "2       116\n",
       "3        46\n",
       "4        19\n",
       "5       143\n",
       "       ... \n",
       "6036    708\n",
       "6037    189\n",
       "6038     18\n",
       "6039    119\n",
       "6040    276\n",
       "Length: 6039, dtype: int64"
      ]
     },
     "execution_count": 478,
     "metadata": {},
     "output_type": "execute_result"
    }
   ],
   "source": [
    "# 유저별 리뷰 수 \n",
    "session_length"
   ]
  },
  {
   "cell_type": "code",
   "execution_count": 479,
   "id": "monthly-louisville",
   "metadata": {},
   "outputs": [
    {
     "data": {
      "text/plain": [
       "643"
      ]
     },
     "execution_count": 479,
     "metadata": {},
     "output_type": "execute_result"
    }
   ],
   "source": [
    "# session_length의 고유값\n",
    "session_length.nunique()"
   ]
  },
  {
   "cell_type": "code",
   "execution_count": 480,
   "id": "further-cycle",
   "metadata": {},
   "outputs": [
    {
     "data": {
      "text/plain": [
       "1       1\n",
       "7       1\n",
       "9       4\n",
       "10      1\n",
       "11      5\n",
       "       ..\n",
       "1145    1\n",
       "1146    1\n",
       "1515    1\n",
       "1715    1\n",
       "1968    1\n",
       "Length: 643, dtype: int64"
      ]
     },
     "execution_count": 480,
     "metadata": {},
     "output_type": "execute_result"
    }
   ],
   "source": [
    "length_count"
   ]
  },
  {
   "cell_type": "markdown",
   "id": "favorite-garlic",
   "metadata": {},
   "source": [
    "- 유저별 리뷰 수로 다시 groupby를 한 거니 643개의 집계로 묶이게 되었고, 이를 session 이라고 보기엔 애매해졌습니다. 원래 session_length는 한 세션 동안 몇 번의 액션을 취했는지의 의미가 되어야 하기 때문이죠. 지금 만들어진 session_length는 실제 sessionID가 아닌 UserID를 기준으로 몇 번의 액션(리뷰 남기기)이 취해졌는지를 액션끼리 한 번더 집계하여 대략적으로 보여주고 있습니다.\n",
    "\n",
    "- 추천시스템은 유저-상품 관계 매트릭스를 유저 행렬과 상품 행렬의 곱으로 표현하는 Matrix Factorization 모델을 널리 사용합니다. 이 데이터는 유저와 이용한 상품 정보 관계에 대해 Matrix Factorization을 사용할 수 있습니다. 이를 이용하여 다시 groupby 하도록 하겠습니다."
   ]
  },
  {
   "cell_type": "code",
   "execution_count": 481,
   "id": "interstate-wrestling",
   "metadata": {},
   "outputs": [
    {
     "data": {
      "text/html": [
       "<div>\n",
       "<style scoped>\n",
       "    .dataframe tbody tr th:only-of-type {\n",
       "        vertical-align: middle;\n",
       "    }\n",
       "\n",
       "    .dataframe tbody tr th {\n",
       "        vertical-align: top;\n",
       "    }\n",
       "\n",
       "    .dataframe thead th {\n",
       "        text-align: right;\n",
       "    }\n",
       "</style>\n",
       "<table border=\"1\" class=\"dataframe\">\n",
       "  <thead>\n",
       "    <tr style=\"text-align: right;\">\n",
       "      <th></th>\n",
       "      <th>UserId</th>\n",
       "      <th>ItemId</th>\n",
       "      <th>Rating</th>\n",
       "      <th>Time</th>\n",
       "    </tr>\n",
       "  </thead>\n",
       "  <tbody>\n",
       "    <tr>\n",
       "      <th>31</th>\n",
       "      <td>1</td>\n",
       "      <td>3186</td>\n",
       "      <td>4</td>\n",
       "      <td>2000-12-31 22:12:40</td>\n",
       "    </tr>\n",
       "    <tr>\n",
       "      <th>22</th>\n",
       "      <td>1</td>\n",
       "      <td>1270</td>\n",
       "      <td>5</td>\n",
       "      <td>2000-12-31 22:35:09</td>\n",
       "    </tr>\n",
       "    <tr>\n",
       "      <th>27</th>\n",
       "      <td>1</td>\n",
       "      <td>1721</td>\n",
       "      <td>4</td>\n",
       "      <td>2000-12-31 22:32:48</td>\n",
       "    </tr>\n",
       "    <tr>\n",
       "      <th>37</th>\n",
       "      <td>1</td>\n",
       "      <td>1022</td>\n",
       "      <td>5</td>\n",
       "      <td>2000-12-31 22:04:35</td>\n",
       "    </tr>\n",
       "    <tr>\n",
       "      <th>24</th>\n",
       "      <td>1</td>\n",
       "      <td>2340</td>\n",
       "      <td>3</td>\n",
       "      <td>2001-01-06 23:38:11</td>\n",
       "    </tr>\n",
       "    <tr>\n",
       "      <th>...</th>\n",
       "      <td>...</td>\n",
       "      <td>...</td>\n",
       "      <td>...</td>\n",
       "      <td>...</td>\n",
       "    </tr>\n",
       "    <tr>\n",
       "      <th>1000019</th>\n",
       "      <td>6040</td>\n",
       "      <td>2917</td>\n",
       "      <td>4</td>\n",
       "      <td>2000-04-26 02:35:41</td>\n",
       "    </tr>\n",
       "    <tr>\n",
       "      <th>999988</th>\n",
       "      <td>6040</td>\n",
       "      <td>1921</td>\n",
       "      <td>4</td>\n",
       "      <td>2000-04-25 23:21:27</td>\n",
       "    </tr>\n",
       "    <tr>\n",
       "      <th>1000172</th>\n",
       "      <td>6040</td>\n",
       "      <td>1784</td>\n",
       "      <td>3</td>\n",
       "      <td>2000-04-25 23:19:06</td>\n",
       "    </tr>\n",
       "    <tr>\n",
       "      <th>1000167</th>\n",
       "      <td>6040</td>\n",
       "      <td>161</td>\n",
       "      <td>3</td>\n",
       "      <td>2000-04-26 02:20:48</td>\n",
       "    </tr>\n",
       "    <tr>\n",
       "      <th>1000042</th>\n",
       "      <td>6040</td>\n",
       "      <td>1221</td>\n",
       "      <td>4</td>\n",
       "      <td>2000-04-26 02:19:29</td>\n",
       "    </tr>\n",
       "  </tbody>\n",
       "</table>\n",
       "<p>836478 rows × 4 columns</p>\n",
       "</div>"
      ],
      "text/plain": [
       "         UserId  ItemId  Rating                Time\n",
       "31            1    3186       4 2000-12-31 22:12:40\n",
       "22            1    1270       5 2000-12-31 22:35:09\n",
       "27            1    1721       4 2000-12-31 22:32:48\n",
       "37            1    1022       5 2000-12-31 22:04:35\n",
       "24            1    2340       3 2001-01-06 23:38:11\n",
       "...         ...     ...     ...                 ...\n",
       "1000019    6040    2917       4 2000-04-26 02:35:41\n",
       "999988     6040    1921       4 2000-04-25 23:21:27\n",
       "1000172    6040    1784       3 2000-04-25 23:19:06\n",
       "1000167    6040     161       3 2000-04-26 02:20:48\n",
       "1000042    6040    1221       4 2000-04-26 02:19:29\n",
       "\n",
       "[836478 rows x 4 columns]"
      ]
     },
     "execution_count": 481,
     "metadata": {},
     "output_type": "execute_result"
    }
   ],
   "source": [
    "data"
   ]
  },
  {
   "cell_type": "markdown",
   "id": "verified-pledge",
   "metadata": {},
   "source": [
    "## Session_length 재정의"
   ]
  },
  {
   "cell_type": "code",
   "execution_count": 482,
   "id": "refined-mobile",
   "metadata": {},
   "outputs": [
    {
     "data": {
      "text/html": [
       "<div>\n",
       "<style scoped>\n",
       "    .dataframe tbody tr th:only-of-type {\n",
       "        vertical-align: middle;\n",
       "    }\n",
       "\n",
       "    .dataframe tbody tr th {\n",
       "        vertical-align: top;\n",
       "    }\n",
       "\n",
       "    .dataframe thead th {\n",
       "        text-align: right;\n",
       "    }\n",
       "</style>\n",
       "<table border=\"1\" class=\"dataframe\">\n",
       "  <thead>\n",
       "    <tr style=\"text-align: right;\">\n",
       "      <th></th>\n",
       "      <th>index</th>\n",
       "      <th>UserId</th>\n",
       "      <th>Time</th>\n",
       "      <th>ItemId</th>\n",
       "    </tr>\n",
       "  </thead>\n",
       "  <tbody>\n",
       "    <tr>\n",
       "      <th>0</th>\n",
       "      <td>0</td>\n",
       "      <td>1</td>\n",
       "      <td>2000-12-31 22:00:19</td>\n",
       "      <td>1</td>\n",
       "    </tr>\n",
       "    <tr>\n",
       "      <th>1</th>\n",
       "      <td>1</td>\n",
       "      <td>1</td>\n",
       "      <td>2000-12-31 22:00:55</td>\n",
       "      <td>3</td>\n",
       "    </tr>\n",
       "    <tr>\n",
       "      <th>2</th>\n",
       "      <td>2</td>\n",
       "      <td>1</td>\n",
       "      <td>2000-12-31 22:01:43</td>\n",
       "      <td>1</td>\n",
       "    </tr>\n",
       "    <tr>\n",
       "      <th>3</th>\n",
       "      <td>3</td>\n",
       "      <td>1</td>\n",
       "      <td>2000-12-31 22:02:52</td>\n",
       "      <td>1</td>\n",
       "    </tr>\n",
       "    <tr>\n",
       "      <th>4</th>\n",
       "      <td>4</td>\n",
       "      <td>1</td>\n",
       "      <td>2000-12-31 22:04:35</td>\n",
       "      <td>1</td>\n",
       "    </tr>\n",
       "    <tr>\n",
       "      <th>...</th>\n",
       "      <td>...</td>\n",
       "      <td>...</td>\n",
       "      <td>...</td>\n",
       "      <td>...</td>\n",
       "    </tr>\n",
       "    <tr>\n",
       "      <th>430793</th>\n",
       "      <td>430793</td>\n",
       "      <td>6040</td>\n",
       "      <td>2001-08-10 14:39:27</td>\n",
       "      <td>1</td>\n",
       "    </tr>\n",
       "    <tr>\n",
       "      <th>430794</th>\n",
       "      <td>430794</td>\n",
       "      <td>6040</td>\n",
       "      <td>2001-08-10 14:39:58</td>\n",
       "      <td>1</td>\n",
       "    </tr>\n",
       "    <tr>\n",
       "      <th>430795</th>\n",
       "      <td>430795</td>\n",
       "      <td>6040</td>\n",
       "      <td>2001-08-10 14:41:04</td>\n",
       "      <td>2</td>\n",
       "    </tr>\n",
       "    <tr>\n",
       "      <th>430796</th>\n",
       "      <td>430796</td>\n",
       "      <td>6040</td>\n",
       "      <td>2001-08-10 14:41:26</td>\n",
       "      <td>1</td>\n",
       "    </tr>\n",
       "    <tr>\n",
       "      <th>430797</th>\n",
       "      <td>430797</td>\n",
       "      <td>6040</td>\n",
       "      <td>2001-08-20 13:44:15</td>\n",
       "      <td>1</td>\n",
       "    </tr>\n",
       "  </tbody>\n",
       "</table>\n",
       "<p>430798 rows × 4 columns</p>\n",
       "</div>"
      ],
      "text/plain": [
       "         index  UserId                Time  ItemId\n",
       "0            0       1 2000-12-31 22:00:19       1\n",
       "1            1       1 2000-12-31 22:00:55       3\n",
       "2            2       1 2000-12-31 22:01:43       1\n",
       "3            3       1 2000-12-31 22:02:52       1\n",
       "4            4       1 2000-12-31 22:04:35       1\n",
       "...        ...     ...                 ...     ...\n",
       "430793  430793    6040 2001-08-10 14:39:27       1\n",
       "430794  430794    6040 2001-08-10 14:39:58       1\n",
       "430795  430795    6040 2001-08-10 14:41:04       2\n",
       "430796  430796    6040 2001-08-10 14:41:26       1\n",
       "430797  430797    6040 2001-08-20 13:44:15       1\n",
       "\n",
       "[430798 rows x 4 columns]"
      ]
     },
     "execution_count": 482,
     "metadata": {},
     "output_type": "execute_result"
    }
   ],
   "source": [
    "new_session = data.groupby(['UserId', 'Time'])['ItemId'].size().reset_index()\n",
    "new_session.reset_index(inplace = True)\n",
    "new_session"
   ]
  },
  {
   "cell_type": "markdown",
   "id": "referenced-finish",
   "metadata": {},
   "source": [
    "이는 유저별, 시간별로 'ItemId'의 수를 집계한 결과입니다. 이는 유저들의 시간 정보에 따라 리뷰를 얼마나 남겼는지를 알 수 있기 때문에 기존의 Session_length 보다 실제 세션과 비슷하다고 볼 수 있을 것 같습니다!"
   ]
  },
  {
   "cell_type": "code",
   "execution_count": 483,
   "id": "asian-boston",
   "metadata": {},
   "outputs": [
    {
     "data": {
      "text/html": [
       "<div>\n",
       "<style scoped>\n",
       "    .dataframe tbody tr th:only-of-type {\n",
       "        vertical-align: middle;\n",
       "    }\n",
       "\n",
       "    .dataframe tbody tr th {\n",
       "        vertical-align: top;\n",
       "    }\n",
       "\n",
       "    .dataframe thead th {\n",
       "        text-align: right;\n",
       "    }\n",
       "</style>\n",
       "<table border=\"1\" class=\"dataframe\">\n",
       "  <thead>\n",
       "    <tr style=\"text-align: right;\">\n",
       "      <th></th>\n",
       "      <th>UserId</th>\n",
       "      <th>ItemId_x</th>\n",
       "      <th>Rating</th>\n",
       "      <th>Time</th>\n",
       "      <th>index</th>\n",
       "      <th>ItemId_y</th>\n",
       "    </tr>\n",
       "  </thead>\n",
       "  <tbody>\n",
       "    <tr>\n",
       "      <th>0</th>\n",
       "      <td>1</td>\n",
       "      <td>3186</td>\n",
       "      <td>4</td>\n",
       "      <td>2000-12-31 22:12:40</td>\n",
       "      <td>6</td>\n",
       "      <td>3</td>\n",
       "    </tr>\n",
       "    <tr>\n",
       "      <th>1</th>\n",
       "      <td>1</td>\n",
       "      <td>2018</td>\n",
       "      <td>4</td>\n",
       "      <td>2000-12-31 22:12:40</td>\n",
       "      <td>6</td>\n",
       "      <td>3</td>\n",
       "    </tr>\n",
       "    <tr>\n",
       "      <th>2</th>\n",
       "      <td>1</td>\n",
       "      <td>745</td>\n",
       "      <td>3</td>\n",
       "      <td>2000-12-31 22:12:40</td>\n",
       "      <td>6</td>\n",
       "      <td>3</td>\n",
       "    </tr>\n",
       "    <tr>\n",
       "      <th>3</th>\n",
       "      <td>1</td>\n",
       "      <td>1270</td>\n",
       "      <td>5</td>\n",
       "      <td>2000-12-31 22:35:09</td>\n",
       "      <td>20</td>\n",
       "      <td>1</td>\n",
       "    </tr>\n",
       "    <tr>\n",
       "      <th>4</th>\n",
       "      <td>1</td>\n",
       "      <td>1721</td>\n",
       "      <td>4</td>\n",
       "      <td>2000-12-31 22:32:48</td>\n",
       "      <td>17</td>\n",
       "      <td>1</td>\n",
       "    </tr>\n",
       "    <tr>\n",
       "      <th>...</th>\n",
       "      <td>...</td>\n",
       "      <td>...</td>\n",
       "      <td>...</td>\n",
       "      <td>...</td>\n",
       "      <td>...</td>\n",
       "      <td>...</td>\n",
       "    </tr>\n",
       "    <tr>\n",
       "      <th>836473</th>\n",
       "      <td>6040</td>\n",
       "      <td>3182</td>\n",
       "      <td>5</td>\n",
       "      <td>2000-04-25 23:10:19</td>\n",
       "      <td>430649</td>\n",
       "      <td>1</td>\n",
       "    </tr>\n",
       "    <tr>\n",
       "      <th>836474</th>\n",
       "      <td>6040</td>\n",
       "      <td>1270</td>\n",
       "      <td>3</td>\n",
       "      <td>2000-04-25 23:06:17</td>\n",
       "      <td>430645</td>\n",
       "      <td>1</td>\n",
       "    </tr>\n",
       "    <tr>\n",
       "      <th>836475</th>\n",
       "      <td>6040</td>\n",
       "      <td>1947</td>\n",
       "      <td>4</td>\n",
       "      <td>2000-07-28 23:59:59</td>\n",
       "      <td>430778</td>\n",
       "      <td>1</td>\n",
       "    </tr>\n",
       "    <tr>\n",
       "      <th>836476</th>\n",
       "      <td>6040</td>\n",
       "      <td>2571</td>\n",
       "      <td>4</td>\n",
       "      <td>2000-04-25 23:19:06</td>\n",
       "      <td>430660</td>\n",
       "      <td>2</td>\n",
       "    </tr>\n",
       "    <tr>\n",
       "      <th>836477</th>\n",
       "      <td>6040</td>\n",
       "      <td>1784</td>\n",
       "      <td>3</td>\n",
       "      <td>2000-04-25 23:19:06</td>\n",
       "      <td>430660</td>\n",
       "      <td>2</td>\n",
       "    </tr>\n",
       "  </tbody>\n",
       "</table>\n",
       "<p>836478 rows × 6 columns</p>\n",
       "</div>"
      ],
      "text/plain": [
       "        UserId  ItemId_x  Rating                Time   index  ItemId_y\n",
       "0            1      3186       4 2000-12-31 22:12:40       6         3\n",
       "1            1      2018       4 2000-12-31 22:12:40       6         3\n",
       "2            1       745       3 2000-12-31 22:12:40       6         3\n",
       "3            1      1270       5 2000-12-31 22:35:09      20         1\n",
       "4            1      1721       4 2000-12-31 22:32:48      17         1\n",
       "...        ...       ...     ...                 ...     ...       ...\n",
       "836473    6040      3182       5 2000-04-25 23:10:19  430649         1\n",
       "836474    6040      1270       3 2000-04-25 23:06:17  430645         1\n",
       "836475    6040      1947       4 2000-07-28 23:59:59  430778         1\n",
       "836476    6040      2571       4 2000-04-25 23:19:06  430660         2\n",
       "836477    6040      1784       3 2000-04-25 23:19:06  430660         2\n",
       "\n",
       "[836478 rows x 6 columns]"
      ]
     },
     "execution_count": 483,
     "metadata": {},
     "output_type": "execute_result"
    }
   ],
   "source": [
    "data = pd.merge(data, new_session, on = ['UserId', 'Time'])\n",
    "data"
   ]
  },
  {
   "cell_type": "code",
   "execution_count": 484,
   "id": "consolidated-restaurant",
   "metadata": {},
   "outputs": [
    {
     "data": {
      "text/html": [
       "<div>\n",
       "<style scoped>\n",
       "    .dataframe tbody tr th:only-of-type {\n",
       "        vertical-align: middle;\n",
       "    }\n",
       "\n",
       "    .dataframe tbody tr th {\n",
       "        vertical-align: top;\n",
       "    }\n",
       "\n",
       "    .dataframe thead th {\n",
       "        text-align: right;\n",
       "    }\n",
       "</style>\n",
       "<table border=\"1\" class=\"dataframe\">\n",
       "  <thead>\n",
       "    <tr style=\"text-align: right;\">\n",
       "      <th></th>\n",
       "      <th>UserId</th>\n",
       "      <th>Rating</th>\n",
       "      <th>Time</th>\n",
       "      <th>SessionId</th>\n",
       "      <th>ItemId</th>\n",
       "    </tr>\n",
       "  </thead>\n",
       "  <tbody>\n",
       "    <tr>\n",
       "      <th>0</th>\n",
       "      <td>1</td>\n",
       "      <td>4</td>\n",
       "      <td>2000-12-31 22:12:40</td>\n",
       "      <td>6</td>\n",
       "      <td>3</td>\n",
       "    </tr>\n",
       "    <tr>\n",
       "      <th>1</th>\n",
       "      <td>1</td>\n",
       "      <td>4</td>\n",
       "      <td>2000-12-31 22:12:40</td>\n",
       "      <td>6</td>\n",
       "      <td>3</td>\n",
       "    </tr>\n",
       "    <tr>\n",
       "      <th>2</th>\n",
       "      <td>1</td>\n",
       "      <td>3</td>\n",
       "      <td>2000-12-31 22:12:40</td>\n",
       "      <td>6</td>\n",
       "      <td>3</td>\n",
       "    </tr>\n",
       "    <tr>\n",
       "      <th>3</th>\n",
       "      <td>1</td>\n",
       "      <td>5</td>\n",
       "      <td>2000-12-31 22:35:09</td>\n",
       "      <td>20</td>\n",
       "      <td>1</td>\n",
       "    </tr>\n",
       "    <tr>\n",
       "      <th>4</th>\n",
       "      <td>1</td>\n",
       "      <td>4</td>\n",
       "      <td>2000-12-31 22:32:48</td>\n",
       "      <td>17</td>\n",
       "      <td>1</td>\n",
       "    </tr>\n",
       "    <tr>\n",
       "      <th>...</th>\n",
       "      <td>...</td>\n",
       "      <td>...</td>\n",
       "      <td>...</td>\n",
       "      <td>...</td>\n",
       "      <td>...</td>\n",
       "    </tr>\n",
       "    <tr>\n",
       "      <th>836473</th>\n",
       "      <td>6040</td>\n",
       "      <td>5</td>\n",
       "      <td>2000-04-25 23:10:19</td>\n",
       "      <td>430649</td>\n",
       "      <td>1</td>\n",
       "    </tr>\n",
       "    <tr>\n",
       "      <th>836474</th>\n",
       "      <td>6040</td>\n",
       "      <td>3</td>\n",
       "      <td>2000-04-25 23:06:17</td>\n",
       "      <td>430645</td>\n",
       "      <td>1</td>\n",
       "    </tr>\n",
       "    <tr>\n",
       "      <th>836475</th>\n",
       "      <td>6040</td>\n",
       "      <td>4</td>\n",
       "      <td>2000-07-28 23:59:59</td>\n",
       "      <td>430778</td>\n",
       "      <td>1</td>\n",
       "    </tr>\n",
       "    <tr>\n",
       "      <th>836476</th>\n",
       "      <td>6040</td>\n",
       "      <td>4</td>\n",
       "      <td>2000-04-25 23:19:06</td>\n",
       "      <td>430660</td>\n",
       "      <td>2</td>\n",
       "    </tr>\n",
       "    <tr>\n",
       "      <th>836477</th>\n",
       "      <td>6040</td>\n",
       "      <td>3</td>\n",
       "      <td>2000-04-25 23:19:06</td>\n",
       "      <td>430660</td>\n",
       "      <td>2</td>\n",
       "    </tr>\n",
       "  </tbody>\n",
       "</table>\n",
       "<p>836478 rows × 5 columns</p>\n",
       "</div>"
      ],
      "text/plain": [
       "        UserId  Rating                Time  SessionId  ItemId\n",
       "0            1       4 2000-12-31 22:12:40          6       3\n",
       "1            1       4 2000-12-31 22:12:40          6       3\n",
       "2            1       3 2000-12-31 22:12:40          6       3\n",
       "3            1       5 2000-12-31 22:35:09         20       1\n",
       "4            1       4 2000-12-31 22:32:48         17       1\n",
       "...        ...     ...                 ...        ...     ...\n",
       "836473    6040       5 2000-04-25 23:10:19     430649       1\n",
       "836474    6040       3 2000-04-25 23:06:17     430645       1\n",
       "836475    6040       4 2000-07-28 23:59:59     430778       1\n",
       "836476    6040       4 2000-04-25 23:19:06     430660       2\n",
       "836477    6040       3 2000-04-25 23:19:06     430660       2\n",
       "\n",
       "[836478 rows x 5 columns]"
      ]
     },
     "execution_count": 484,
     "metadata": {},
     "output_type": "execute_result"
    }
   ],
   "source": [
    "data.drop('ItemId_x', axis=1, inplace=True)\n",
    "data.rename(columns={'index':'SessionId'}, inplace=True)\n",
    "data.rename(columns={'ItemId_y':'ItemId'}, inplace=True)\n",
    "data"
   ]
  },
  {
   "cell_type": "markdown",
   "id": "academic-consciousness",
   "metadata": {},
   "source": [
    "## Session Time"
   ]
  },
  {
   "cell_type": "code",
   "execution_count": 485,
   "id": "executed-lender",
   "metadata": {},
   "outputs": [
    {
     "name": "stdout",
     "output_type": "stream",
     "text": [
      "2000-04-25 23:05:32\n",
      "2003-02-28 17:49:50\n"
     ]
    }
   ],
   "source": [
    "oldest, latest = data['Time'].min(), data['Time'].max()\n",
    "print(oldest)\n",
    "print(latest)"
   ]
  },
  {
   "cell_type": "markdown",
   "id": "final-intelligence",
   "metadata": {},
   "source": [
    "추천시스템을 구축할 때에는 최근 소비 트렌드를 학습하는 것이 중요합니다. 데이터가 발생한 시간에 대해 조회해 보았는데, 2000년 4월부터 2003년 2월까지 약 3년의 데이터가 있습니다. 영화 시장도 3년이면 꽤 긴 시간인 것 같습니다. 최근 얼마 동안의 기록을 불러오느냐가 중요한 기준이 될 것 같습니다."
   ]
  },
  {
   "cell_type": "code",
   "execution_count": 486,
   "id": "thrown-purchase",
   "metadata": {},
   "outputs": [
    {
     "name": "stdout",
     "output_type": "stream",
     "text": [
      "<class 'pandas.core.frame.DataFrame'>\n",
      "Int64Index: 836478 entries, 0 to 836477\n",
      "Data columns (total 5 columns):\n",
      " #   Column     Non-Null Count   Dtype         \n",
      "---  ------     --------------   -----         \n",
      " 0   UserId     836478 non-null  int32         \n",
      " 1   Rating     836478 non-null  int32         \n",
      " 2   Time       836478 non-null  datetime64[ns]\n",
      " 3   SessionId  836478 non-null  int64         \n",
      " 4   ItemId     836478 non-null  int64         \n",
      "dtypes: datetime64[ns](1), int32(2), int64(2)\n",
      "memory usage: 31.9 MB\n"
     ]
    }
   ],
   "source": [
    "data.info()"
   ]
  },
  {
   "cell_type": "markdown",
   "id": "composite-schedule",
   "metadata": {},
   "source": [
    "Time은 datetime 함수로 잘 변경되어 있습니다. datetime 함수는 timedelta 함수를 이용하여 날짜를 편하게 계산 할 수 있다는 장점이 있습니다."
   ]
  },
  {
   "cell_type": "code",
   "execution_count": 487,
   "id": "classified-scholarship",
   "metadata": {},
   "outputs": [
    {
     "data": {
      "text/html": [
       "<div>\n",
       "<style scoped>\n",
       "    .dataframe tbody tr th:only-of-type {\n",
       "        vertical-align: middle;\n",
       "    }\n",
       "\n",
       "    .dataframe tbody tr th {\n",
       "        vertical-align: top;\n",
       "    }\n",
       "\n",
       "    .dataframe thead th {\n",
       "        text-align: right;\n",
       "    }\n",
       "</style>\n",
       "<table border=\"1\" class=\"dataframe\">\n",
       "  <thead>\n",
       "    <tr style=\"text-align: right;\">\n",
       "      <th></th>\n",
       "      <th>UserId</th>\n",
       "      <th>Rating</th>\n",
       "      <th>Time</th>\n",
       "      <th>SessionId</th>\n",
       "      <th>ItemId</th>\n",
       "    </tr>\n",
       "  </thead>\n",
       "  <tbody>\n",
       "    <tr>\n",
       "      <th>2091</th>\n",
       "      <td>19</td>\n",
       "      <td>4</td>\n",
       "      <td>2001-07-08 01:43:18</td>\n",
       "      <td>1198</td>\n",
       "      <td>1</td>\n",
       "    </tr>\n",
       "    <tr>\n",
       "      <th>2182</th>\n",
       "      <td>19</td>\n",
       "      <td>3</td>\n",
       "      <td>2001-07-08 01:43:56</td>\n",
       "      <td>1199</td>\n",
       "      <td>1</td>\n",
       "    </tr>\n",
       "    <tr>\n",
       "      <th>2193</th>\n",
       "      <td>20</td>\n",
       "      <td>5</td>\n",
       "      <td>2001-12-29 23:37:51</td>\n",
       "      <td>1207</td>\n",
       "      <td>4</td>\n",
       "    </tr>\n",
       "    <tr>\n",
       "      <th>2194</th>\n",
       "      <td>20</td>\n",
       "      <td>4</td>\n",
       "      <td>2001-12-29 23:37:51</td>\n",
       "      <td>1207</td>\n",
       "      <td>4</td>\n",
       "    </tr>\n",
       "    <tr>\n",
       "      <th>2195</th>\n",
       "      <td>20</td>\n",
       "      <td>3</td>\n",
       "      <td>2001-12-29 23:37:51</td>\n",
       "      <td>1207</td>\n",
       "      <td>4</td>\n",
       "    </tr>\n",
       "    <tr>\n",
       "      <th>...</th>\n",
       "      <td>...</td>\n",
       "      <td>...</td>\n",
       "      <td>...</td>\n",
       "      <td>...</td>\n",
       "      <td>...</td>\n",
       "    </tr>\n",
       "    <tr>\n",
       "      <th>836434</th>\n",
       "      <td>6040</td>\n",
       "      <td>4</td>\n",
       "      <td>2001-08-10 14:39:27</td>\n",
       "      <td>430793</td>\n",
       "      <td>1</td>\n",
       "    </tr>\n",
       "    <tr>\n",
       "      <th>836440</th>\n",
       "      <td>6040</td>\n",
       "      <td>4</td>\n",
       "      <td>2001-08-10 14:35:40</td>\n",
       "      <td>430788</td>\n",
       "      <td>1</td>\n",
       "    </tr>\n",
       "    <tr>\n",
       "      <th>836462</th>\n",
       "      <td>6040</td>\n",
       "      <td>3</td>\n",
       "      <td>2001-08-10 14:29:56</td>\n",
       "      <td>430781</td>\n",
       "      <td>1</td>\n",
       "    </tr>\n",
       "    <tr>\n",
       "      <th>836466</th>\n",
       "      <td>6040</td>\n",
       "      <td>4</td>\n",
       "      <td>2001-08-10 14:41:26</td>\n",
       "      <td>430796</td>\n",
       "      <td>1</td>\n",
       "    </tr>\n",
       "    <tr>\n",
       "      <th>836468</th>\n",
       "      <td>6040</td>\n",
       "      <td>4</td>\n",
       "      <td>2001-08-10 14:36:20</td>\n",
       "      <td>430790</td>\n",
       "      <td>1</td>\n",
       "    </tr>\n",
       "  </tbody>\n",
       "</table>\n",
       "<p>58022 rows × 5 columns</p>\n",
       "</div>"
      ],
      "text/plain": [
       "        UserId  Rating                Time  SessionId  ItemId\n",
       "2091        19       4 2001-07-08 01:43:18       1198       1\n",
       "2182        19       3 2001-07-08 01:43:56       1199       1\n",
       "2193        20       5 2001-12-29 23:37:51       1207       4\n",
       "2194        20       4 2001-12-29 23:37:51       1207       4\n",
       "2195        20       3 2001-12-29 23:37:51       1207       4\n",
       "...        ...     ...                 ...        ...     ...\n",
       "836434    6040       4 2001-08-10 14:39:27     430793       1\n",
       "836440    6040       4 2001-08-10 14:35:40     430788       1\n",
       "836462    6040       3 2001-08-10 14:29:56     430781       1\n",
       "836466    6040       4 2001-08-10 14:41:26     430796       1\n",
       "836468    6040       4 2001-08-10 14:36:20     430790       1\n",
       "\n",
       "[58022 rows x 5 columns]"
      ]
     },
     "execution_count": 487,
     "metadata": {},
     "output_type": "execute_result"
    }
   ],
   "source": [
    "two_years_ago = latest - dt.timedelta(730) # 2년 전 이전 날짜\n",
    "data[data['Time'] > two_years_ago] # 확인"
   ]
  },
  {
   "cell_type": "code",
   "execution_count": 488,
   "id": "athletic-stamp",
   "metadata": {},
   "outputs": [
    {
     "data": {
      "text/html": [
       "<div>\n",
       "<style scoped>\n",
       "    .dataframe tbody tr th:only-of-type {\n",
       "        vertical-align: middle;\n",
       "    }\n",
       "\n",
       "    .dataframe tbody tr th {\n",
       "        vertical-align: top;\n",
       "    }\n",
       "\n",
       "    .dataframe thead th {\n",
       "        text-align: right;\n",
       "    }\n",
       "</style>\n",
       "<table border=\"1\" class=\"dataframe\">\n",
       "  <thead>\n",
       "    <tr style=\"text-align: right;\">\n",
       "      <th></th>\n",
       "      <th>UserId</th>\n",
       "      <th>Rating</th>\n",
       "      <th>Time</th>\n",
       "      <th>SessionId</th>\n",
       "      <th>ItemId</th>\n",
       "    </tr>\n",
       "  </thead>\n",
       "  <tbody>\n",
       "    <tr>\n",
       "      <th>4260</th>\n",
       "      <td>36</td>\n",
       "      <td>4</td>\n",
       "      <td>2002-03-12 03:58:05</td>\n",
       "      <td>2544</td>\n",
       "      <td>1</td>\n",
       "    </tr>\n",
       "    <tr>\n",
       "      <th>4274</th>\n",
       "      <td>36</td>\n",
       "      <td>5</td>\n",
       "      <td>2002-03-12 03:52:07</td>\n",
       "      <td>2541</td>\n",
       "      <td>1</td>\n",
       "    </tr>\n",
       "    <tr>\n",
       "      <th>4325</th>\n",
       "      <td>36</td>\n",
       "      <td>4</td>\n",
       "      <td>2002-03-12 03:54:09</td>\n",
       "      <td>2543</td>\n",
       "      <td>1</td>\n",
       "    </tr>\n",
       "    <tr>\n",
       "      <th>4328</th>\n",
       "      <td>36</td>\n",
       "      <td>4</td>\n",
       "      <td>2002-12-22 08:18:29</td>\n",
       "      <td>2557</td>\n",
       "      <td>3</td>\n",
       "    </tr>\n",
       "    <tr>\n",
       "      <th>4329</th>\n",
       "      <td>36</td>\n",
       "      <td>3</td>\n",
       "      <td>2002-12-22 08:18:29</td>\n",
       "      <td>2557</td>\n",
       "      <td>3</td>\n",
       "    </tr>\n",
       "    <tr>\n",
       "      <th>...</th>\n",
       "      <td>...</td>\n",
       "      <td>...</td>\n",
       "      <td>...</td>\n",
       "      <td>...</td>\n",
       "      <td>...</td>\n",
       "    </tr>\n",
       "    <tr>\n",
       "      <th>830253</th>\n",
       "      <td>5996</td>\n",
       "      <td>4</td>\n",
       "      <td>2002-04-29 20:30:30</td>\n",
       "      <td>428069</td>\n",
       "      <td>1</td>\n",
       "    </tr>\n",
       "    <tr>\n",
       "      <th>830254</th>\n",
       "      <td>5996</td>\n",
       "      <td>4</td>\n",
       "      <td>2002-04-29 16:21:02</td>\n",
       "      <td>428016</td>\n",
       "      <td>1</td>\n",
       "    </tr>\n",
       "    <tr>\n",
       "      <th>830256</th>\n",
       "      <td>5996</td>\n",
       "      <td>3</td>\n",
       "      <td>2002-04-29 16:19:18</td>\n",
       "      <td>428013</td>\n",
       "      <td>1</td>\n",
       "    </tr>\n",
       "    <tr>\n",
       "      <th>830263</th>\n",
       "      <td>5996</td>\n",
       "      <td>3</td>\n",
       "      <td>2002-04-29 16:23:19</td>\n",
       "      <td>428019</td>\n",
       "      <td>1</td>\n",
       "    </tr>\n",
       "    <tr>\n",
       "      <th>830265</th>\n",
       "      <td>5996</td>\n",
       "      <td>3</td>\n",
       "      <td>2002-04-29 16:10:29</td>\n",
       "      <td>428002</td>\n",
       "      <td>1</td>\n",
       "    </tr>\n",
       "  </tbody>\n",
       "</table>\n",
       "<p>18107 rows × 5 columns</p>\n",
       "</div>"
      ],
      "text/plain": [
       "        UserId  Rating                Time  SessionId  ItemId\n",
       "4260        36       4 2002-03-12 03:58:05       2544       1\n",
       "4274        36       5 2002-03-12 03:52:07       2541       1\n",
       "4325        36       4 2002-03-12 03:54:09       2543       1\n",
       "4328        36       4 2002-12-22 08:18:29       2557       3\n",
       "4329        36       3 2002-12-22 08:18:29       2557       3\n",
       "...        ...     ...                 ...        ...     ...\n",
       "830253    5996       4 2002-04-29 20:30:30     428069       1\n",
       "830254    5996       4 2002-04-29 16:21:02     428016       1\n",
       "830256    5996       3 2002-04-29 16:19:18     428013       1\n",
       "830263    5996       3 2002-04-29 16:23:19     428019       1\n",
       "830265    5996       3 2002-04-29 16:10:29     428002       1\n",
       "\n",
       "[18107 rows x 5 columns]"
      ]
     },
     "execution_count": 488,
     "metadata": {},
     "output_type": "execute_result"
    }
   ],
   "source": [
    "one_year_ago = latest - dt.timedelta(365) # 1년 전 이전 날짜\n",
    "data[data['Time'] > one_year_ago] # 확인"
   ]
  },
  {
   "cell_type": "code",
   "execution_count": 489,
   "id": "congressional-coupon",
   "metadata": {},
   "outputs": [
    {
     "data": {
      "text/html": [
       "<div>\n",
       "<style scoped>\n",
       "    .dataframe tbody tr th:only-of-type {\n",
       "        vertical-align: middle;\n",
       "    }\n",
       "\n",
       "    .dataframe tbody tr th {\n",
       "        vertical-align: top;\n",
       "    }\n",
       "\n",
       "    .dataframe thead th {\n",
       "        text-align: right;\n",
       "    }\n",
       "</style>\n",
       "<table border=\"1\" class=\"dataframe\">\n",
       "  <thead>\n",
       "    <tr style=\"text-align: right;\">\n",
       "      <th></th>\n",
       "      <th>UserId</th>\n",
       "      <th>Rating</th>\n",
       "      <th>Time</th>\n",
       "      <th>SessionId</th>\n",
       "      <th>ItemId</th>\n",
       "    </tr>\n",
       "  </thead>\n",
       "  <tbody>\n",
       "    <tr>\n",
       "      <th>0</th>\n",
       "      <td>1</td>\n",
       "      <td>4</td>\n",
       "      <td>2000-12-31 22:12:40</td>\n",
       "      <td>6</td>\n",
       "      <td>3</td>\n",
       "    </tr>\n",
       "    <tr>\n",
       "      <th>1</th>\n",
       "      <td>1</td>\n",
       "      <td>4</td>\n",
       "      <td>2000-12-31 22:12:40</td>\n",
       "      <td>6</td>\n",
       "      <td>3</td>\n",
       "    </tr>\n",
       "    <tr>\n",
       "      <th>2</th>\n",
       "      <td>1</td>\n",
       "      <td>3</td>\n",
       "      <td>2000-12-31 22:12:40</td>\n",
       "      <td>6</td>\n",
       "      <td>3</td>\n",
       "    </tr>\n",
       "    <tr>\n",
       "      <th>3</th>\n",
       "      <td>1</td>\n",
       "      <td>5</td>\n",
       "      <td>2000-12-31 22:35:09</td>\n",
       "      <td>20</td>\n",
       "      <td>1</td>\n",
       "    </tr>\n",
       "    <tr>\n",
       "      <th>4</th>\n",
       "      <td>1</td>\n",
       "      <td>4</td>\n",
       "      <td>2000-12-31 22:32:48</td>\n",
       "      <td>17</td>\n",
       "      <td>1</td>\n",
       "    </tr>\n",
       "    <tr>\n",
       "      <th>...</th>\n",
       "      <td>...</td>\n",
       "      <td>...</td>\n",
       "      <td>...</td>\n",
       "      <td>...</td>\n",
       "      <td>...</td>\n",
       "    </tr>\n",
       "    <tr>\n",
       "      <th>836473</th>\n",
       "      <td>6040</td>\n",
       "      <td>5</td>\n",
       "      <td>2000-04-25 23:10:19</td>\n",
       "      <td>430649</td>\n",
       "      <td>1</td>\n",
       "    </tr>\n",
       "    <tr>\n",
       "      <th>836474</th>\n",
       "      <td>6040</td>\n",
       "      <td>3</td>\n",
       "      <td>2000-04-25 23:06:17</td>\n",
       "      <td>430645</td>\n",
       "      <td>1</td>\n",
       "    </tr>\n",
       "    <tr>\n",
       "      <th>836475</th>\n",
       "      <td>6040</td>\n",
       "      <td>4</td>\n",
       "      <td>2000-07-28 23:59:59</td>\n",
       "      <td>430778</td>\n",
       "      <td>1</td>\n",
       "    </tr>\n",
       "    <tr>\n",
       "      <th>836476</th>\n",
       "      <td>6040</td>\n",
       "      <td>4</td>\n",
       "      <td>2000-04-25 23:19:06</td>\n",
       "      <td>430660</td>\n",
       "      <td>2</td>\n",
       "    </tr>\n",
       "    <tr>\n",
       "      <th>836477</th>\n",
       "      <td>6040</td>\n",
       "      <td>3</td>\n",
       "      <td>2000-04-25 23:19:06</td>\n",
       "      <td>430660</td>\n",
       "      <td>2</td>\n",
       "    </tr>\n",
       "  </tbody>\n",
       "</table>\n",
       "<p>836478 rows × 5 columns</p>\n",
       "</div>"
      ],
      "text/plain": [
       "        UserId  Rating                Time  SessionId  ItemId\n",
       "0            1       4 2000-12-31 22:12:40          6       3\n",
       "1            1       4 2000-12-31 22:12:40          6       3\n",
       "2            1       3 2000-12-31 22:12:40          6       3\n",
       "3            1       5 2000-12-31 22:35:09         20       1\n",
       "4            1       4 2000-12-31 22:32:48         17       1\n",
       "...        ...     ...                 ...        ...     ...\n",
       "836473    6040       5 2000-04-25 23:10:19     430649       1\n",
       "836474    6040       3 2000-04-25 23:06:17     430645       1\n",
       "836475    6040       4 2000-07-28 23:59:59     430778       1\n",
       "836476    6040       4 2000-04-25 23:19:06     430660       2\n",
       "836477    6040       3 2000-04-25 23:19:06     430660       2\n",
       "\n",
       "[836478 rows x 5 columns]"
      ]
     },
     "execution_count": 489,
     "metadata": {},
     "output_type": "execute_result"
    }
   ],
   "source": [
    "three_years_ago = latest - dt.timedelta(1095) # 1년 전 이전 날짜\n",
    "data[data['Time'] > three_years_ago] # 확인"
   ]
  },
  {
   "cell_type": "markdown",
   "id": "endless-silicon",
   "metadata": {},
   "source": [
    "가장 최근의 날짜에서 1, 2년 전을 비교해보니까 58,022개, 18,107개로 데이터의 row 수가 차이가 나는군요. 원래 836478 rows 이었던 것을 비교하면 가장 처음 리뷰를 남겼던 oldest 기준으로 1년이 가장 데이터가 많다는 것을 알 수 있네요."
   ]
  },
  {
   "cell_type": "markdown",
   "id": "senior-stevens",
   "metadata": {},
   "source": [
    "## Data Clenasing"
   ]
  },
  {
   "cell_type": "markdown",
   "id": "ordinary-finish",
   "metadata": {},
   "source": [
    "short_session을 제거하고 unpopular item을 제거하겠습니다. 그런데 이 둘을 제거하면 다시 길이가 1인 session이 생길 수 있습니다. 이를 위해 반복문을 통해 지속적으로 제거해줍니다."
   ]
  },
  {
   "cell_type": "code",
   "execution_count": 490,
   "id": "juvenile-genre",
   "metadata": {},
   "outputs": [],
   "source": [
    "def cleanse_recursive(data: pd.DataFrame, shortest, least_click) -> pd.DataFrame:\n",
    "    while True:\n",
    "        before_len = len(data)\n",
    "        data = cleanse_short_session(data, shortest)\n",
    "        data = cleanse_unpopular_item(data, least_click)\n",
    "        after_len = len(data)\n",
    "        if before_len == after_len:\n",
    "            break\n",
    "    return data\n",
    "\n",
    "def cleanse_short_session(data: pd.DataFrame, shortest):\n",
    "    session_len = data.groupby('SessionId').size()\n",
    "    session_use = session_len[session_len >= shortest].index\n",
    "    data = data[data['SessionId'].isin(session_use)]\n",
    "    return data\n",
    "\n",
    "def cleanse_unpopular_item(data: pd.DataFrame, least_click):\n",
    "    item_popular = data.groupby('ItemId').size()\n",
    "    item_use = item_popular[item_popular >= least_click].index\n",
    "    data = data[data['ItemId'].isin(item_use)]\n",
    "    return data"
   ]
  },
  {
   "cell_type": "code",
   "execution_count": 491,
   "id": "female-replacement",
   "metadata": {},
   "outputs": [
    {
     "data": {
      "text/html": [
       "<div>\n",
       "<style scoped>\n",
       "    .dataframe tbody tr th:only-of-type {\n",
       "        vertical-align: middle;\n",
       "    }\n",
       "\n",
       "    .dataframe tbody tr th {\n",
       "        vertical-align: top;\n",
       "    }\n",
       "\n",
       "    .dataframe thead th {\n",
       "        text-align: right;\n",
       "    }\n",
       "</style>\n",
       "<table border=\"1\" class=\"dataframe\">\n",
       "  <thead>\n",
       "    <tr style=\"text-align: right;\">\n",
       "      <th></th>\n",
       "      <th>UserId</th>\n",
       "      <th>Rating</th>\n",
       "      <th>Time</th>\n",
       "      <th>SessionId</th>\n",
       "      <th>ItemId</th>\n",
       "    </tr>\n",
       "  </thead>\n",
       "  <tbody>\n",
       "    <tr>\n",
       "      <th>0</th>\n",
       "      <td>1</td>\n",
       "      <td>4</td>\n",
       "      <td>2000-12-31 22:12:40</td>\n",
       "      <td>6</td>\n",
       "      <td>3</td>\n",
       "    </tr>\n",
       "    <tr>\n",
       "      <th>1</th>\n",
       "      <td>1</td>\n",
       "      <td>4</td>\n",
       "      <td>2000-12-31 22:12:40</td>\n",
       "      <td>6</td>\n",
       "      <td>3</td>\n",
       "    </tr>\n",
       "    <tr>\n",
       "      <th>2</th>\n",
       "      <td>1</td>\n",
       "      <td>3</td>\n",
       "      <td>2000-12-31 22:12:40</td>\n",
       "      <td>6</td>\n",
       "      <td>3</td>\n",
       "    </tr>\n",
       "    <tr>\n",
       "      <th>6</th>\n",
       "      <td>1</td>\n",
       "      <td>3</td>\n",
       "      <td>2001-01-06 23:38:11</td>\n",
       "      <td>31</td>\n",
       "      <td>3</td>\n",
       "    </tr>\n",
       "    <tr>\n",
       "      <th>7</th>\n",
       "      <td>1</td>\n",
       "      <td>3</td>\n",
       "      <td>2001-01-06 23:38:11</td>\n",
       "      <td>31</td>\n",
       "      <td>3</td>\n",
       "    </tr>\n",
       "    <tr>\n",
       "      <th>...</th>\n",
       "      <td>...</td>\n",
       "      <td>...</td>\n",
       "      <td>...</td>\n",
       "      <td>...</td>\n",
       "      <td>...</td>\n",
       "    </tr>\n",
       "    <tr>\n",
       "      <th>836463</th>\n",
       "      <td>6040</td>\n",
       "      <td>3</td>\n",
       "      <td>2000-04-26 02:33:58</td>\n",
       "      <td>430706</td>\n",
       "      <td>3</td>\n",
       "    </tr>\n",
       "    <tr>\n",
       "      <th>836464</th>\n",
       "      <td>6040</td>\n",
       "      <td>3</td>\n",
       "      <td>2000-04-26 02:33:58</td>\n",
       "      <td>430706</td>\n",
       "      <td>3</td>\n",
       "    </tr>\n",
       "    <tr>\n",
       "      <th>836465</th>\n",
       "      <td>6040</td>\n",
       "      <td>4</td>\n",
       "      <td>2000-04-26 02:33:58</td>\n",
       "      <td>430706</td>\n",
       "      <td>3</td>\n",
       "    </tr>\n",
       "    <tr>\n",
       "      <th>836476</th>\n",
       "      <td>6040</td>\n",
       "      <td>4</td>\n",
       "      <td>2000-04-25 23:19:06</td>\n",
       "      <td>430660</td>\n",
       "      <td>2</td>\n",
       "    </tr>\n",
       "    <tr>\n",
       "      <th>836477</th>\n",
       "      <td>6040</td>\n",
       "      <td>3</td>\n",
       "      <td>2000-04-25 23:19:06</td>\n",
       "      <td>430660</td>\n",
       "      <td>2</td>\n",
       "    </tr>\n",
       "  </tbody>\n",
       "</table>\n",
       "<p>612789 rows × 5 columns</p>\n",
       "</div>"
      ],
      "text/plain": [
       "        UserId  Rating                Time  SessionId  ItemId\n",
       "0            1       4 2000-12-31 22:12:40          6       3\n",
       "1            1       4 2000-12-31 22:12:40          6       3\n",
       "2            1       3 2000-12-31 22:12:40          6       3\n",
       "6            1       3 2001-01-06 23:38:11         31       3\n",
       "7            1       3 2001-01-06 23:38:11         31       3\n",
       "...        ...     ...                 ...        ...     ...\n",
       "836463    6040       3 2000-04-26 02:33:58     430706       3\n",
       "836464    6040       3 2000-04-26 02:33:58     430706       3\n",
       "836465    6040       4 2000-04-26 02:33:58     430706       3\n",
       "836476    6040       4 2000-04-25 23:19:06     430660       2\n",
       "836477    6040       3 2000-04-25 23:19:06     430660       2\n",
       "\n",
       "[612789 rows x 5 columns]"
      ]
     },
     "execution_count": 491,
     "metadata": {},
     "output_type": "execute_result"
    }
   ],
   "source": [
    "data = cleanse_recursive(data, shortest=2, least_click=5)\n",
    "data"
   ]
  },
  {
   "cell_type": "markdown",
   "id": "developing-patient",
   "metadata": {},
   "source": [
    "## Train/Valid/Test split"
   ]
  },
  {
   "cell_type": "markdown",
   "id": "answering-warren",
   "metadata": {},
   "source": [
    "추천 시스템은 '현재'를 예측하는 것이 가장 중요합니다. 유저들의 활동 패턴이 달라지기 때문에, 최근 2년 전의 성능이 좋은 모델을 쓰는 건 예측이 잘 맞지 않을 수 있습니다. 위에서 날짜별로 데이터 수를 확인해본 결과 데이터 크기가 애매해서 저는 전체 데이터를 사용하되, 비율로 test, validation을 나누기로 했습니다."
   ]
  },
  {
   "cell_type": "code",
   "execution_count": 492,
   "id": "olive-enlargement",
   "metadata": {},
   "outputs": [],
   "source": [
    "tr = data[:500000]\n",
    "val = data[500000:560000]\n",
    "test = data[560000:]"
   ]
  },
  {
   "cell_type": "code",
   "execution_count": 505,
   "id": "beginning-policy",
   "metadata": {},
   "outputs": [],
   "source": [
    "def stats_info(data: pd.DataFrame, status: str):\n",
    "    print(f'* {status} Set Stats Info\\n'\n",
    "          f'\\t Events: {len(data)}\\n'\n",
    "          f'\\t Sessions: {data[\"SessionId\"].nunique()}\\n'\n",
    "          f'\\t Items: {data[\"ItemId\"].nunique()}\\n'\n",
    "          f'\\t First Time : {data[\"Time\"].min()}\\n'\n",
    "          f'\\t Last Time : {data[\"Time\"].max()}\\n')"
   ]
  },
  {
   "cell_type": "code",
   "execution_count": 506,
   "id": "muslim-desert",
   "metadata": {},
   "outputs": [
    {
     "name": "stdout",
     "output_type": "stream",
     "text": [
      "* train Set Stats Info\n",
      "\t Events: 500000\n",
      "\t Sessions: 168307\n",
      "\t Items: 26\n",
      "\t First Time : 2000-07-05 02:25:12\n",
      "\t Last Time : 2003-02-25 19:06:15\n",
      "\n",
      "* valid Set Stats Info\n",
      "\t Events: 60000\n",
      "\t Sessions: 20784\n",
      "\t Items: 17\n",
      "\t First Time : 2000-05-30 01:45:49\n",
      "\t Last Time : 2003-02-22 06:40:53\n",
      "\n",
      "* test Set Stats Info\n",
      "\t Events: 52789\n",
      "\t Sessions: 18019\n",
      "\t Items: 14\n",
      "\t First Time : 2000-04-25 23:05:54\n",
      "\t Last Time : 2003-02-27 18:04:50\n",
      "\n"
     ]
    }
   ],
   "source": [
    "stats_info(tr, 'train')\n",
    "stats_info(val, 'valid')\n",
    "stats_info(test, 'test')"
   ]
  },
  {
   "cell_type": "code",
   "execution_count": 495,
   "id": "first-fisher",
   "metadata": {},
   "outputs": [],
   "source": [
    "# train set에 없는 아이템이 val, test기간에 생길 수 있으므로\n",
    "# train data를 기준으로 인덱싱 해줍니다.\n",
    "id2idx = {item_id : index for index, item_id in enumerate(tr['ItemId'].unique())}\n",
    "\n",
    "def indexing(df, id2idx):\n",
    "    df['item_idx'] = df['ItemId'].map(lambda x: id2idx.get(x, -1))\n",
    "    # id2idx에 없는 아이템은 모르는 값(-1) 처리\n",
    "    return df\n",
    "\n",
    "tr = indexing(tr, id2idx)\n",
    "val = indexing(val, id2idx)\n",
    "test = indexing(test, id2idx)"
   ]
  },
  {
   "cell_type": "code",
   "execution_count": 496,
   "id": "attached-pension",
   "metadata": {},
   "outputs": [
    {
     "name": "stdout",
     "output_type": "stream",
     "text": [
      "(500000, 6)\n",
      "(60000, 6)\n",
      "(52789, 6)\n"
     ]
    }
   ],
   "source": [
    "print(tr.shape)\n",
    "print(val.shape)\n",
    "print(test.shape)"
   ]
  },
  {
   "cell_type": "code",
   "execution_count": 497,
   "id": "thirty-treasury",
   "metadata": {},
   "outputs": [],
   "source": [
    "save_path = data_path / 'processed'\n",
    "save_path.mkdir(parents=True, exist_ok=True)\n",
    "\n",
    "tr.to_pickle(save_path / 'train.pkl')\n",
    "val.to_pickle(save_path / 'valid.pkl')\n",
    "test.to_pickle(save_path / 'test.pkl')"
   ]
  },
  {
   "attachments": {
    "image-2.png": {
     "image/png": "[encoded data removed]"
    },
    "image.png": {
     "image/png": "[encoded data removed]"
    }
   },
   "cell_type": "markdown",
   "id": "perceived-africa",
   "metadata": {},
   "source": [
    "## Session-Parallel Mini-Batches\n",
    "\n",
    "이 세션들을 데이터 샘플 하나로 보고 mini-batch를 구성하여 input으로 넣는다면 길이가 제일 긴 세션의 연산이 끝날 때까지 짧은 세션들이 기다려야 합니다.\n",
    "\n",
    "![image.png](attachment:image.png)\n",
    "\n",
    "위 그림에서 Session 1, 2, 3을 하나의 mini-batch로 만든다면, 이 미니배치의 연산은 Session 3의 연산이 끝나야 끝나는 식입니다. 논문 저자는 대신 Session-Parallel Mini-Batches를 제안합니다. 이름처럼 Session이 끝날 때까지 기다리지 않고 병렬적으로 계산하자는 뜻입니다.\n",
    "\n",
    "아래 그림에서 session2가 끝나면 session4가 시작하는 방식입니다.\n",
    "\n",
    "![image-2.png](attachment:image-2.png)\n",
    "\n",
    "이렇게 구성했을 때 Mini-Batch의 shape은 (3, 1, 1)이 되고 RNN cell의 state가 1개로만 이루어집니다. 또한, Tensorflow 기준으로 RNN을 만들 때 stateful=True 옵션을 사용하고 2처럼 세션이 끝나면 state를 0으로 만들어 줍니다.\n",
    "\n",
    "SAMPLING ON THE OUTPUT : Negative Sampling와 같은 개념입니다. Item의 수가 많기 때문에 Loss를 계산할 때 모든 아이템을 비교하지 않고 인기도를 고려하여 Sampling합니다.\n",
    "\n",
    "Ranking Loss Session-Based Recommendation Task를 여러 아이템 중 다음 아이템이 무엇인지 Classification하는 Task로 생각할 수도 있습니다. 그러나 여러 아이템을 관련도 순으로 랭킹을 매겨서 높은 랭킹의 아이템을 추천하는 Task로도 생각할 수 있습니다. 추천 시스템 연구 분야에서는 이렇게 Ranking을 맞추는 objective function에 대한 연구가 있었고 논문의 저자 역시 이런 Loss를 사용했습니다. 그러나 이번 자료에서는 Classification Task로 보고 Cross-Entropy Loss를 사용하겠습니다."
   ]
  },
  {
   "cell_type": "markdown",
   "id": "steady-freedom",
   "metadata": {},
   "source": [
    "# 2. 미니 배치의 구성\n",
    "## Session Dataset"
   ]
  },
  {
   "cell_type": "code",
   "execution_count": 516,
   "id": "enormous-project",
   "metadata": {},
   "outputs": [],
   "source": [
    "class SessionDataset:\n",
    "    \"\"\"Credit to yhs-968/pyGRU4REC.\"\"\"\n",
    "\n",
    "    def __init__(self, data):\n",
    "        self.df = data\n",
    "        self.click_offsets = self.get_click_offsets()\n",
    "        self.session_idx = np.arange(self.df['SessionId'].nunique())  # indexing to SessionId\n",
    "\n",
    "    def get_click_offsets(self):\n",
    "        \"\"\"\n",
    "        Return the indexes of the first click of each session IDs,\n",
    "        \"\"\"\n",
    "        offsets = np.zeros(self.df['SessionId'].nunique() + 1, dtype=np.int32)\n",
    "        offsets[1:] = self.df.groupby('SessionId').size().cumsum()\n",
    "        return offsets"
   ]
  },
  {
   "cell_type": "markdown",
   "id": "jewish-synthesis",
   "metadata": {},
   "source": [
    "train data로 SessionDataset 객체를 만들고 인스턴스 변수들을 살펴보겠습니다.\n",
    "\n",
    "clikc_offsets 변수는 각 세션이 시작된 인덱스를 담고 있습니다. session_idx 변수는 각 세션을 인덱싱한 np.array입니다."
   ]
  },
  {
   "cell_type": "code",
   "execution_count": 517,
   "id": "greek-thriller",
   "metadata": {},
   "outputs": [
    {
     "data": {
      "text/html": [
       "<div>\n",
       "<style scoped>\n",
       "    .dataframe tbody tr th:only-of-type {\n",
       "        vertical-align: middle;\n",
       "    }\n",
       "\n",
       "    .dataframe tbody tr th {\n",
       "        vertical-align: top;\n",
       "    }\n",
       "\n",
       "    .dataframe thead th {\n",
       "        text-align: right;\n",
       "    }\n",
       "</style>\n",
       "<table border=\"1\" class=\"dataframe\">\n",
       "  <thead>\n",
       "    <tr style=\"text-align: right;\">\n",
       "      <th></th>\n",
       "      <th>UserId</th>\n",
       "      <th>Rating</th>\n",
       "      <th>Time</th>\n",
       "      <th>SessionId</th>\n",
       "      <th>ItemId</th>\n",
       "      <th>item_idx</th>\n",
       "    </tr>\n",
       "  </thead>\n",
       "  <tbody>\n",
       "    <tr>\n",
       "      <th>0</th>\n",
       "      <td>1</td>\n",
       "      <td>4</td>\n",
       "      <td>2000-12-31 22:12:40</td>\n",
       "      <td>6</td>\n",
       "      <td>3</td>\n",
       "      <td>0</td>\n",
       "    </tr>\n",
       "    <tr>\n",
       "      <th>1</th>\n",
       "      <td>1</td>\n",
       "      <td>4</td>\n",
       "      <td>2000-12-31 22:12:40</td>\n",
       "      <td>6</td>\n",
       "      <td>3</td>\n",
       "      <td>0</td>\n",
       "    </tr>\n",
       "    <tr>\n",
       "      <th>2</th>\n",
       "      <td>1</td>\n",
       "      <td>3</td>\n",
       "      <td>2000-12-31 22:12:40</td>\n",
       "      <td>6</td>\n",
       "      <td>3</td>\n",
       "      <td>0</td>\n",
       "    </tr>\n",
       "    <tr>\n",
       "      <th>6</th>\n",
       "      <td>1</td>\n",
       "      <td>3</td>\n",
       "      <td>2001-01-06 23:38:11</td>\n",
       "      <td>31</td>\n",
       "      <td>3</td>\n",
       "      <td>0</td>\n",
       "    </tr>\n",
       "    <tr>\n",
       "      <th>7</th>\n",
       "      <td>1</td>\n",
       "      <td>3</td>\n",
       "      <td>2001-01-06 23:38:11</td>\n",
       "      <td>31</td>\n",
       "      <td>3</td>\n",
       "      <td>0</td>\n",
       "    </tr>\n",
       "    <tr>\n",
       "      <th>8</th>\n",
       "      <td>1</td>\n",
       "      <td>3</td>\n",
       "      <td>2001-01-06 23:38:11</td>\n",
       "      <td>31</td>\n",
       "      <td>3</td>\n",
       "      <td>0</td>\n",
       "    </tr>\n",
       "    <tr>\n",
       "      <th>9</th>\n",
       "      <td>1</td>\n",
       "      <td>5</td>\n",
       "      <td>2000-12-31 22:37:48</td>\n",
       "      <td>26</td>\n",
       "      <td>2</td>\n",
       "      <td>1</td>\n",
       "    </tr>\n",
       "    <tr>\n",
       "      <th>10</th>\n",
       "      <td>1</td>\n",
       "      <td>4</td>\n",
       "      <td>2000-12-31 22:37:48</td>\n",
       "      <td>26</td>\n",
       "      <td>2</td>\n",
       "      <td>1</td>\n",
       "    </tr>\n",
       "    <tr>\n",
       "      <th>11</th>\n",
       "      <td>1</td>\n",
       "      <td>4</td>\n",
       "      <td>2000-12-31 22:33:59</td>\n",
       "      <td>18</td>\n",
       "      <td>2</td>\n",
       "      <td>1</td>\n",
       "    </tr>\n",
       "    <tr>\n",
       "      <th>12</th>\n",
       "      <td>1</td>\n",
       "      <td>5</td>\n",
       "      <td>2000-12-31 22:33:59</td>\n",
       "      <td>18</td>\n",
       "      <td>2</td>\n",
       "      <td>1</td>\n",
       "    </tr>\n",
       "  </tbody>\n",
       "</table>\n",
       "</div>"
      ],
      "text/plain": [
       "    UserId  Rating                Time  SessionId  ItemId  item_idx\n",
       "0        1       4 2000-12-31 22:12:40          6       3         0\n",
       "1        1       4 2000-12-31 22:12:40          6       3         0\n",
       "2        1       3 2000-12-31 22:12:40          6       3         0\n",
       "6        1       3 2001-01-06 23:38:11         31       3         0\n",
       "7        1       3 2001-01-06 23:38:11         31       3         0\n",
       "8        1       3 2001-01-06 23:38:11         31       3         0\n",
       "9        1       5 2000-12-31 22:37:48         26       2         1\n",
       "10       1       4 2000-12-31 22:37:48         26       2         1\n",
       "11       1       4 2000-12-31 22:33:59         18       2         1\n",
       "12       1       5 2000-12-31 22:33:59         18       2         1"
      ]
     },
     "execution_count": 517,
     "metadata": {},
     "output_type": "execute_result"
    }
   ],
   "source": [
    "tr_dataset = SessionDataset(tr)\n",
    "tr_dataset.df.head(10)"
   ]
  },
  {
   "cell_type": "code",
   "execution_count": 518,
   "id": "regular-extension",
   "metadata": {
    "scrolled": true
   },
   "outputs": [
    {
     "data": {
      "text/plain": [
       "array([     0,      3,      5, ..., 499997, 499999, 500000], dtype=int32)"
      ]
     },
     "execution_count": 518,
     "metadata": {},
     "output_type": "execute_result"
    }
   ],
   "source": [
    "# 세션 시작 인덱스\n",
    "tr_dataset.click_offsets"
   ]
  },
  {
   "cell_type": "code",
   "execution_count": 519,
   "id": "reserved-asset",
   "metadata": {
    "scrolled": true
   },
   "outputs": [
    {
     "data": {
      "text/plain": [
       "array([     0,      1,      2, ..., 168304, 168305, 168306])"
      ]
     },
     "execution_count": 519,
     "metadata": {},
     "output_type": "execute_result"
    }
   ],
   "source": [
    "# 세션 인덱스\n",
    "tr_dataset.session_idx"
   ]
  },
  {
   "cell_type": "markdown",
   "id": "turkish-optimum",
   "metadata": {},
   "source": [
    "## SessionDataLoader"
   ]
  },
  {
   "cell_type": "code",
   "execution_count": 520,
   "id": "harmful-religion",
   "metadata": {},
   "outputs": [],
   "source": [
    "class SessionDataLoader:\n",
    "    def __init__(self, dataset: SessionDataset, batch_size=50):\n",
    "        self.dataset = dataset\n",
    "        self.batch_size = batch_size\n",
    "        \n",
    "    def __iter__(self):\n",
    "        start, end, mask, last_session, finished = self.initialize()\n",
    "        \"\"\"\n",
    "        start : Index Where Session Start\n",
    "        end : Index Where Session End\n",
    "        mask : indicator for the sessions to be terminated\n",
    "        \"\"\"\n",
    "\n",
    "        while not finished:\n",
    "            min_len = (end - start).min() - 1\n",
    "            for i in range(min_len):\n",
    "                # input 과 target 만들기\n",
    "                inp = self.dataset.df['item_idx'].values[start + i]\n",
    "                target = self.dataset.df['item_idx'].values[start + i + 1]\n",
    "                yield inp, target, mask\n",
    "                \n",
    "            start, end, mask, last_session, finished = self.update_status(start, end, min_len, last_session, finished)\n",
    "       \n",
    "    def initialize(self):\n",
    "        first_iters = np.arange(self.batch_size)\n",
    "        # 첫 배치에 사용할 세션 index 가져오기\n",
    "        last_session = self.batch_size - 1\n",
    "        # 마지막으로 다루고 있는 세션 index를 저장하기\n",
    "        start = self.dataset.click_offsets[self.dataset.session_idx[first_iters]]\n",
    "        # data 상에서 session이 시작된 위치 가져오기\n",
    "        end = self.dataset.click_offsets[self.dataset.session_idx[first_iters] + 1]\n",
    "        # session이 끝난 위치 바로 다음 위치 가져오기\n",
    "        mask = np.array([])\n",
    "        # sessio의 모든 아이템을 다 돌은 경우 mask에 추가하기\n",
    "        finished = False\n",
    "        # data를 전부 돌았는지 기록하기 위한 변수\n",
    "        return start, end, mask, last_session, finished\n",
    "    \n",
    "    def update_status(self, start: np.ndarray, end: np.ndarray, min_len: int, last_session: int, finished: bool):\n",
    "        # 다음 배치 데이터를 생성하기 위한 상테 업데이트\n",
    "        \n",
    "        start += min_len\n",
    "        # __iter__에서 min_len만큼 for문을 돌았으므로 start를 min_len만큼 더해줌\n",
    "        mask = np.arange(self.batch_size)[(end-start) == 1]\n",
    "        # end는 다음 세션이 시작되는 위치인데 start와 한 칸 차이난다는 것은\n",
    "        # session이 끝났다는 뜻. mask에 기록해줌\n",
    "        \n",
    "        for i, idx in enumerate(mask, start=1):\n",
    "            # mask에 추가된 세션 개수만큼 새로운 세션 돌리기\n",
    "            new_session = last_session + i\n",
    "            if new_session > self.dataset.session_idx[-1]:\n",
    "                \n",
    "            # 만약 새로운 세션이 마지막 세션 index보다 크면 모든 학습 데이터를 다 돌았다는 의미\n",
    "                finished = True\n",
    "                break\n",
    "            # 새로운 시작, 끝점 업데이트\n",
    "            start[idx] = self.dataset.click_offsets[self.dataset.session_idx[new_session]]\n",
    "            # 종료된 세션 대신 새로운 세션의 시작점을 기록\n",
    "            end[idx] = self.dataset.click_offsets[self.dataset.session_idx[new_session]]\n",
    "            \n",
    "        # 마지막 세션 위치 기록\n",
    "        last_session += len(mask)\n",
    "        return start, end, mask, last_session, finished"
   ]
  },
  {
   "cell_type": "code",
   "execution_count": 521,
   "id": "failing-latino",
   "metadata": {},
   "outputs": [
    {
     "data": {
      "text/html": [
       "<div>\n",
       "<style scoped>\n",
       "    .dataframe tbody tr th:only-of-type {\n",
       "        vertical-align: middle;\n",
       "    }\n",
       "\n",
       "    .dataframe tbody tr th {\n",
       "        vertical-align: top;\n",
       "    }\n",
       "\n",
       "    .dataframe thead th {\n",
       "        text-align: right;\n",
       "    }\n",
       "</style>\n",
       "<table border=\"1\" class=\"dataframe\">\n",
       "  <thead>\n",
       "    <tr style=\"text-align: right;\">\n",
       "      <th></th>\n",
       "      <th>UserId</th>\n",
       "      <th>Rating</th>\n",
       "      <th>Time</th>\n",
       "      <th>SessionId</th>\n",
       "      <th>ItemId</th>\n",
       "      <th>item_idx</th>\n",
       "    </tr>\n",
       "  </thead>\n",
       "  <tbody>\n",
       "    <tr>\n",
       "      <th>0</th>\n",
       "      <td>1</td>\n",
       "      <td>4</td>\n",
       "      <td>2000-12-31 22:12:40</td>\n",
       "      <td>6</td>\n",
       "      <td>3</td>\n",
       "      <td>0</td>\n",
       "    </tr>\n",
       "    <tr>\n",
       "      <th>1</th>\n",
       "      <td>1</td>\n",
       "      <td>4</td>\n",
       "      <td>2000-12-31 22:12:40</td>\n",
       "      <td>6</td>\n",
       "      <td>3</td>\n",
       "      <td>0</td>\n",
       "    </tr>\n",
       "    <tr>\n",
       "      <th>2</th>\n",
       "      <td>1</td>\n",
       "      <td>3</td>\n",
       "      <td>2000-12-31 22:12:40</td>\n",
       "      <td>6</td>\n",
       "      <td>3</td>\n",
       "      <td>0</td>\n",
       "    </tr>\n",
       "    <tr>\n",
       "      <th>6</th>\n",
       "      <td>1</td>\n",
       "      <td>3</td>\n",
       "      <td>2001-01-06 23:38:11</td>\n",
       "      <td>31</td>\n",
       "      <td>3</td>\n",
       "      <td>0</td>\n",
       "    </tr>\n",
       "    <tr>\n",
       "      <th>7</th>\n",
       "      <td>1</td>\n",
       "      <td>3</td>\n",
       "      <td>2001-01-06 23:38:11</td>\n",
       "      <td>31</td>\n",
       "      <td>3</td>\n",
       "      <td>0</td>\n",
       "    </tr>\n",
       "    <tr>\n",
       "      <th>8</th>\n",
       "      <td>1</td>\n",
       "      <td>3</td>\n",
       "      <td>2001-01-06 23:38:11</td>\n",
       "      <td>31</td>\n",
       "      <td>3</td>\n",
       "      <td>0</td>\n",
       "    </tr>\n",
       "    <tr>\n",
       "      <th>9</th>\n",
       "      <td>1</td>\n",
       "      <td>5</td>\n",
       "      <td>2000-12-31 22:37:48</td>\n",
       "      <td>26</td>\n",
       "      <td>2</td>\n",
       "      <td>1</td>\n",
       "    </tr>\n",
       "    <tr>\n",
       "      <th>10</th>\n",
       "      <td>1</td>\n",
       "      <td>4</td>\n",
       "      <td>2000-12-31 22:37:48</td>\n",
       "      <td>26</td>\n",
       "      <td>2</td>\n",
       "      <td>1</td>\n",
       "    </tr>\n",
       "    <tr>\n",
       "      <th>11</th>\n",
       "      <td>1</td>\n",
       "      <td>4</td>\n",
       "      <td>2000-12-31 22:33:59</td>\n",
       "      <td>18</td>\n",
       "      <td>2</td>\n",
       "      <td>1</td>\n",
       "    </tr>\n",
       "    <tr>\n",
       "      <th>12</th>\n",
       "      <td>1</td>\n",
       "      <td>5</td>\n",
       "      <td>2000-12-31 22:33:59</td>\n",
       "      <td>18</td>\n",
       "      <td>2</td>\n",
       "      <td>1</td>\n",
       "    </tr>\n",
       "    <tr>\n",
       "      <th>13</th>\n",
       "      <td>1</td>\n",
       "      <td>5</td>\n",
       "      <td>2000-12-31 22:11:59</td>\n",
       "      <td>5</td>\n",
       "      <td>2</td>\n",
       "      <td>1</td>\n",
       "    </tr>\n",
       "    <tr>\n",
       "      <th>14</th>\n",
       "      <td>1</td>\n",
       "      <td>5</td>\n",
       "      <td>2000-12-31 22:11:59</td>\n",
       "      <td>5</td>\n",
       "      <td>2</td>\n",
       "      <td>1</td>\n",
       "    </tr>\n",
       "    <tr>\n",
       "      <th>16</th>\n",
       "      <td>1</td>\n",
       "      <td>3</td>\n",
       "      <td>2001-01-06 23:37:48</td>\n",
       "      <td>30</td>\n",
       "      <td>5</td>\n",
       "      <td>2</td>\n",
       "    </tr>\n",
       "    <tr>\n",
       "      <th>17</th>\n",
       "      <td>1</td>\n",
       "      <td>5</td>\n",
       "      <td>2001-01-06 23:37:48</td>\n",
       "      <td>30</td>\n",
       "      <td>5</td>\n",
       "      <td>2</td>\n",
       "    </tr>\n",
       "    <tr>\n",
       "      <th>18</th>\n",
       "      <td>1</td>\n",
       "      <td>4</td>\n",
       "      <td>2001-01-06 23:37:48</td>\n",
       "      <td>30</td>\n",
       "      <td>5</td>\n",
       "      <td>2</td>\n",
       "    </tr>\n",
       "  </tbody>\n",
       "</table>\n",
       "</div>"
      ],
      "text/plain": [
       "    UserId  Rating                Time  SessionId  ItemId  item_idx\n",
       "0        1       4 2000-12-31 22:12:40          6       3         0\n",
       "1        1       4 2000-12-31 22:12:40          6       3         0\n",
       "2        1       3 2000-12-31 22:12:40          6       3         0\n",
       "6        1       3 2001-01-06 23:38:11         31       3         0\n",
       "7        1       3 2001-01-06 23:38:11         31       3         0\n",
       "8        1       3 2001-01-06 23:38:11         31       3         0\n",
       "9        1       5 2000-12-31 22:37:48         26       2         1\n",
       "10       1       4 2000-12-31 22:37:48         26       2         1\n",
       "11       1       4 2000-12-31 22:33:59         18       2         1\n",
       "12       1       5 2000-12-31 22:33:59         18       2         1\n",
       "13       1       5 2000-12-31 22:11:59          5       2         1\n",
       "14       1       5 2000-12-31 22:11:59          5       2         1\n",
       "16       1       3 2001-01-06 23:37:48         30       5         2\n",
       "17       1       5 2001-01-06 23:37:48         30       5         2\n",
       "18       1       4 2001-01-06 23:37:48         30       5         2"
      ]
     },
     "execution_count": 521,
     "metadata": {},
     "output_type": "execute_result"
    }
   ],
   "source": [
    "tr_data_loader = SessionDataLoader(tr_dataset, batch_size=4)\n",
    "tr_dataset.df.head(15)"
   ]
  },
  {
   "cell_type": "code",
   "execution_count": 522,
   "id": "driven-magazine",
   "metadata": {},
   "outputs": [],
   "source": [
    "iter_ex = iter(tr_data_loader)"
   ]
  },
  {
   "cell_type": "code",
   "execution_count": 523,
   "id": "static-amount",
   "metadata": {},
   "outputs": [
    {
     "name": "stdout",
     "output_type": "stream",
     "text": [
      "Model Input Item Idx are : [0 0 0 1]\n",
      "Label Item Idx are :       [0 0 1 1]\n",
      "Previous Masked Input Idx are []\n"
     ]
    }
   ],
   "source": [
    "inputs, labels, mask =  next(iter_ex)\n",
    "print(f'Model Input Item Idx are : {inputs}')\n",
    "print(f'Label Item Idx are : {\"\":5} {labels}')\n",
    "print(f'Previous Masked Input Idx are {mask}')"
   ]
  },
  {
   "cell_type": "markdown",
   "id": "american-blind",
   "metadata": {},
   "source": [
    "# 3. 모델 구성\n",
    "## 3-1 Evaluation Metric"
   ]
  },
  {
   "cell_type": "code",
   "execution_count": 524,
   "id": "infectious-welsh",
   "metadata": {},
   "outputs": [],
   "source": [
    "def mrr_k(pred, truth: int, k:int):\n",
    "    indexing = np.where(pred[:k] == truth)[0]\n",
    "    if len(indexing) > 0:\n",
    "        return 1 / (indexing[0] + 1)\n",
    "    else:\n",
    "        return 0\n",
    "\n",
    "def recall_k(pred, truth: int, k:int) -> int:\n",
    "    answer = truth in pred[:k]\n",
    "    return int(answer)"
   ]
  },
  {
   "cell_type": "markdown",
   "id": "southwest-replication",
   "metadata": {},
   "source": [
    "## 3.2 Model Architecture"
   ]
  },
  {
   "cell_type": "code",
   "execution_count": 525,
   "id": "competent-oxygen",
   "metadata": {},
   "outputs": [],
   "source": [
    "import numpy as np\n",
    "import tensorflow as tf\n",
    "from tensorflow.keras.layers import Input, Dense, Dropout, GRU\n",
    "from tensorflow.keras.losses import categorical_crossentropy\n",
    "from tensorflow.keras.models import Model\n",
    "from tensorflow.keras.optimizers import RMSprop\n",
    "from tensorflow.keras.optimizers import Adam\n",
    "from tensorflow.keras.utils import to_categorical\n",
    "from tqdm import tqdm"
   ]
  },
  {
   "cell_type": "code",
   "execution_count": 526,
   "id": "buried-tenant",
   "metadata": {},
   "outputs": [],
   "source": [
    "def create_model(args):\n",
    "    inputs = Input(batch_shape=(args.batch_size, 1, args.num_items))\n",
    "    gru, _ = GRU(args.hsz, stateful=True, return_state=True, name='GRU')(inputs)\n",
    "    dropout = Dropout(args.drop_rate)(gru)\n",
    "    predictions = Dense(args.num_items, activation='softmax')(dropout)\n",
    "    model = Model(inputs=inputs, outputs=[predictions])\n",
    "    model.compile(loss=categorical_crossentropy, optimizer=Adam(args.lr), metrics=['accuracy'])\n",
    "    model.summary()\n",
    "    return model"
   ]
  },
  {
   "cell_type": "code",
   "execution_count": 527,
   "id": "conventional-width",
   "metadata": {},
   "outputs": [],
   "source": [
    "class Args:\n",
    "    def __init__(self, tr, val, test, batch_size, hsz, drop_rate, lr, epochs, k):\n",
    "        self.tr = tr\n",
    "        self.val = val\n",
    "        self.test = test\n",
    "        self.num_items = tr['ItemId'].nunique()\n",
    "        self.num_sessions = tr['SessionId'].nunique()\n",
    "        self.batch_size = batch_size\n",
    "        self.hsz = hsz\n",
    "        self.drop_rate = drop_rate\n",
    "        self.lr = lr\n",
    "        self.epochs = epochs\n",
    "        self.k = k\n",
    "\n",
    "args = Args(tr, val, test, batch_size=32, hsz=50, drop_rate=0.1, lr=0.001, epochs=15, k=20)"
   ]
  },
  {
   "cell_type": "code",
   "execution_count": 528,
   "id": "played-chair",
   "metadata": {},
   "outputs": [
    {
     "name": "stdout",
     "output_type": "stream",
     "text": [
      "Model: \"model_12\"\n",
      "_________________________________________________________________\n",
      "Layer (type)                 Output Shape              Param #   \n",
      "=================================================================\n",
      "input_13 (InputLayer)        [(32, 1, 26)]             0         \n",
      "_________________________________________________________________\n",
      "GRU (GRU)                    [(32, 50), (32, 50)]      11700     \n",
      "_________________________________________________________________\n",
      "dropout_12 (Dropout)         (32, 50)                  0         \n",
      "_________________________________________________________________\n",
      "dense_12 (Dense)             (32, 26)                  1326      \n",
      "=================================================================\n",
      "Total params: 13,026\n",
      "Trainable params: 13,026\n",
      "Non-trainable params: 0\n",
      "_________________________________________________________________\n"
     ]
    }
   ],
   "source": [
    "model = create_model(args)"
   ]
  },
  {
   "cell_type": "markdown",
   "id": "portuguese-california",
   "metadata": {},
   "source": [
    "# 4. 모델 학습 및 5. 모델 테스트"
   ]
  },
  {
   "cell_type": "code",
   "execution_count": 529,
   "id": "deluxe-paintball",
   "metadata": {},
   "outputs": [],
   "source": [
    "# train 셋으로 학습하면서 valid 셋으로 검증합니다.\n",
    "def train_model(model, args):\n",
    "    train_dataset = SessionDataset(args.tr)\n",
    "    train_loader = SessionDataLoader(train_dataset, batch_size=args.batch_size)\n",
    "\n",
    "    for epoch in range(1, args.epochs + 1):\n",
    "        total_step = len(args.tr) - args.tr['SessionId'].nunique()\n",
    "        tr_loader = tqdm(train_loader, total=total_step // args.batch_size, desc='Train', mininterval=1)\n",
    "        for feat, target, mask in tr_loader:\n",
    "            reset_hidden_states(model, mask)  # 종료된 session은 hidden_state를 초기화합니다. 아래 메서드에서 확인해주세요.\n",
    "\n",
    "            input_ohe = to_categorical(feat, num_classes=args.num_items)\n",
    "            input_ohe = np.expand_dims(input_ohe, axis=1)\n",
    "            target_ohe = to_categorical(target, num_classes=args.num_items)\n",
    "\n",
    "            result = model.train_on_batch(input_ohe, target_ohe)\n",
    "            tr_loader.set_postfix(train_loss=result[0], accuracy = result[1])\n",
    "\n",
    "        val_recall, val_mrr = get_metrics(args.val, model, args, args.k)  # valid set에 대해 검증합니다.\n",
    "\n",
    "        print(f\"\\t - Recall@{args.k} epoch {epoch}: {val_recall:3f}\")\n",
    "        print(f\"\\t - MRR@{args.k}    epoch {epoch}: {val_mrr:3f}\\n\")\n",
    "\n",
    "\n",
    "def reset_hidden_states(model, mask):\n",
    "    gru_layer = model.get_layer(name='GRU')  # model에서 gru layer를 가져옵니다.\n",
    "    hidden_states = gru_layer.states[0].numpy()  # gru_layer의 parameter를 가져옵니다.\n",
    "    for elt in mask:  # mask된 인덱스 즉, 종료된 세션의 인덱스를 돌면서\n",
    "        hidden_states[elt, :] = 0  # parameter를 초기화 합니다.\n",
    "    gru_layer.reset_states(states=hidden_states)\n",
    "\n",
    "\n",
    "def get_metrics(data, model, args, k: int):  # valid셋과 test셋을 평가하는 코드입니다. \n",
    "                                             # train과 거의 같지만 mrr, recall을 구하는 라인이 있습니다.\n",
    "    dataset = SessionDataset(data)\n",
    "    loader = SessionDataLoader(dataset, batch_size=args.batch_size)\n",
    "    recall_list, mrr_list = [], []\n",
    "\n",
    "    total_step = len(data) - data['SessionId'].nunique()\n",
    "    for inputs, label, mask in tqdm(loader, total=total_step // args.batch_size, desc='Evaluation', mininterval=1):\n",
    "        reset_hidden_states(model, mask)\n",
    "        input_ohe = to_categorical(inputs, num_classes=args.num_items)\n",
    "        input_ohe = np.expand_dims(input_ohe, axis=1)\n",
    "\n",
    "        pred = model.predict(input_ohe, batch_size=args.batch_size)\n",
    "        pred_arg = tf.argsort(pred, direction='DESCENDING')  # softmax 값이 큰 순서대로 sorting 합니다.\n",
    "\n",
    "        length = len(inputs)\n",
    "        recall_list.extend([recall_k(pred_arg[i], label[i], k) for i in range(length)])\n",
    "        mrr_list.extend([mrr_k(pred_arg[i], label[i], k) for i in range(length)])\n",
    "\n",
    "    recall, mrr = np.mean(recall_list), np.mean(mrr_list)\n",
    "    return recall, mrr"
   ]
  },
  {
   "cell_type": "code",
   "execution_count": 530,
   "id": "plain-action",
   "metadata": {
    "scrolled": false
   },
   "outputs": [
    {
     "name": "stderr",
     "output_type": "stream",
     "text": [
      "Train:   0%|          | 1/10365 [00:01<5:43:55,  1.99s/it, accuracy=0, train_loss=3.32]\n",
      "Evaluation:   0%|          | 1/1225 [00:00<10:38,  1.92it/s]\n",
      "Train:   0%|          | 0/10365 [00:00<?, ?it/s, accuracy=0, train_loss=3.33]"
     ]
    },
    {
     "name": "stdout",
     "output_type": "stream",
     "text": [
      "\t - Recall@20 epoch 1: 0.437500\n",
      "\t - MRR@20    epoch 1: 0.108219\n",
      "\n"
     ]
    },
    {
     "name": "stderr",
     "output_type": "stream",
     "text": [
      "Train:   0%|          | 1/10365 [00:00<1:35:04,  1.82it/s, accuracy=0, train_loss=3.33]\n",
      "Evaluation:   0%|          | 1/1225 [00:00<05:11,  3.93it/s]\n",
      "Train:   0%|          | 0/10365 [00:00<?, ?it/s, accuracy=0, train_loss=3.32]"
     ]
    },
    {
     "name": "stdout",
     "output_type": "stream",
     "text": [
      "\t - Recall@20 epoch 2: 0.562500\n",
      "\t - MRR@20    epoch 2: 0.099853\n",
      "\n"
     ]
    },
    {
     "name": "stderr",
     "output_type": "stream",
     "text": [
      "Train:   0%|          | 1/10365 [00:00<1:33:26,  1.85it/s, accuracy=0, train_loss=3.32]\n",
      "Evaluation:   0%|          | 1/1225 [00:00<04:58,  4.10it/s]\n",
      "Train:   0%|          | 0/10365 [00:00<?, ?it/s, accuracy=0.0312, train_loss=3.29]"
     ]
    },
    {
     "name": "stdout",
     "output_type": "stream",
     "text": [
      "\t - Recall@20 epoch 3: 0.562500\n",
      "\t - MRR@20    epoch 3: 0.111746\n",
      "\n"
     ]
    },
    {
     "name": "stderr",
     "output_type": "stream",
     "text": [
      "Train:   0%|          | 1/10365 [00:00<1:34:25,  1.83it/s, accuracy=0.0312, train_loss=3.29]\n",
      "Evaluation:   0%|          | 1/1225 [00:00<05:12,  3.92it/s]\n",
      "Train:   0%|          | 0/10365 [00:00<?, ?it/s, accuracy=0, train_loss=3.28]"
     ]
    },
    {
     "name": "stdout",
     "output_type": "stream",
     "text": [
      "\t - Recall@20 epoch 4: 0.718750\n",
      "\t - MRR@20    epoch 4: 0.139160\n",
      "\n"
     ]
    },
    {
     "name": "stderr",
     "output_type": "stream",
     "text": [
      "Train:   0%|          | 1/10365 [00:00<1:24:58,  2.03it/s, accuracy=0, train_loss=3.28]\n",
      "Evaluation:   0%|          | 1/1225 [00:00<04:37,  4.41it/s]\n",
      "Train:   0%|          | 0/10365 [00:00<?, ?it/s, accuracy=0, train_loss=3.26]"
     ]
    },
    {
     "name": "stdout",
     "output_type": "stream",
     "text": [
      "\t - Recall@20 epoch 5: 0.968750\n",
      "\t - MRR@20    epoch 5: 0.159978\n",
      "\n"
     ]
    },
    {
     "name": "stderr",
     "output_type": "stream",
     "text": [
      "Train:   0%|          | 1/10365 [00:00<1:35:39,  1.81it/s, accuracy=0, train_loss=3.26]\n",
      "Evaluation:   0%|          | 1/1225 [00:00<04:27,  4.58it/s]\n",
      "Train:   0%|          | 0/10365 [00:00<?, ?it/s, accuracy=0.0938, train_loss=3.23]"
     ]
    },
    {
     "name": "stdout",
     "output_type": "stream",
     "text": [
      "\t - Recall@20 epoch 6: 0.968750\n",
      "\t - MRR@20    epoch 6: 0.181878\n",
      "\n"
     ]
    },
    {
     "name": "stderr",
     "output_type": "stream",
     "text": [
      "Train:   0%|          | 1/10365 [00:00<1:34:50,  1.82it/s, accuracy=0.0938, train_loss=3.23]\n",
      "Evaluation:   0%|          | 1/1225 [00:00<04:06,  4.97it/s]\n",
      "Train:   0%|          | 0/10365 [00:00<?, ?it/s, accuracy=0.0312, train_loss=3.21]"
     ]
    },
    {
     "name": "stdout",
     "output_type": "stream",
     "text": [
      "\t - Recall@20 epoch 7: 1.000000\n",
      "\t - MRR@20    epoch 7: 0.203623\n",
      "\n"
     ]
    },
    {
     "name": "stderr",
     "output_type": "stream",
     "text": [
      "Train:   0%|          | 1/10365 [00:00<1:25:05,  2.03it/s, accuracy=0.0312, train_loss=3.21]\n",
      "Evaluation:   0%|          | 1/1225 [00:00<03:47,  5.38it/s]\n",
      "Train:   0%|          | 0/10365 [00:00<?, ?it/s, accuracy=0.0938, train_loss=3.2]"
     ]
    },
    {
     "name": "stdout",
     "output_type": "stream",
     "text": [
      "\t - Recall@20 epoch 8: 1.000000\n",
      "\t - MRR@20    epoch 8: 0.263650\n",
      "\n"
     ]
    },
    {
     "name": "stderr",
     "output_type": "stream",
     "text": [
      "Train:   0%|          | 1/10365 [00:00<1:31:05,  1.90it/s, accuracy=0.0938, train_loss=3.2]\n",
      "Evaluation:   0%|          | 1/1225 [00:00<03:40,  5.56it/s]\n",
      "Train:   0%|          | 0/10365 [00:00<?, ?it/s, accuracy=0.25, train_loss=3.17]"
     ]
    },
    {
     "name": "stdout",
     "output_type": "stream",
     "text": [
      "\t - Recall@20 epoch 9: 1.000000\n",
      "\t - MRR@20    epoch 9: 0.272191\n",
      "\n"
     ]
    },
    {
     "name": "stderr",
     "output_type": "stream",
     "text": [
      "Train:   0%|          | 1/10365 [00:00<1:24:38,  2.04it/s, accuracy=0.25, train_loss=3.17]\n",
      "Evaluation:   0%|          | 1/1225 [00:00<03:21,  6.07it/s]\n",
      "Train:   0%|          | 0/10365 [00:00<?, ?it/s, accuracy=0.281, train_loss=3.16]"
     ]
    },
    {
     "name": "stdout",
     "output_type": "stream",
     "text": [
      "\t - Recall@20 epoch 10: 1.000000\n",
      "\t - MRR@20    epoch 10: 0.368917\n",
      "\n"
     ]
    },
    {
     "name": "stderr",
     "output_type": "stream",
     "text": [
      "Train:   0%|          | 1/10365 [00:00<1:21:52,  2.11it/s, accuracy=0.281, train_loss=3.16]\n",
      "Evaluation:   0%|          | 1/1225 [00:00<03:20,  6.11it/s]\n",
      "Train:   0%|          | 0/10365 [00:00<?, ?it/s, accuracy=0.344, train_loss=3.12]"
     ]
    },
    {
     "name": "stdout",
     "output_type": "stream",
     "text": [
      "\t - Recall@20 epoch 11: 1.000000\n",
      "\t - MRR@20    epoch 11: 0.417460\n",
      "\n"
     ]
    },
    {
     "name": "stderr",
     "output_type": "stream",
     "text": [
      "Train:   0%|          | 1/10365 [00:00<1:28:06,  1.96it/s, accuracy=0.344, train_loss=3.12]\n",
      "Evaluation:   0%|          | 1/1225 [00:00<03:08,  6.50it/s]\n",
      "Train:   0%|          | 0/10365 [00:00<?, ?it/s, accuracy=0.375, train_loss=3.1]"
     ]
    },
    {
     "name": "stdout",
     "output_type": "stream",
     "text": [
      "\t - Recall@20 epoch 12: 1.000000\n",
      "\t - MRR@20    epoch 12: 0.433751\n",
      "\n"
     ]
    },
    {
     "name": "stderr",
     "output_type": "stream",
     "text": [
      "Train:   0%|          | 1/10365 [00:00<1:32:52,  1.86it/s, accuracy=0.375, train_loss=3.1]\n",
      "Evaluation:   0%|          | 1/1225 [00:00<03:12,  6.36it/s]\n",
      "Train:   0%|          | 0/10365 [00:00<?, ?it/s, accuracy=0.406, train_loss=3.09]"
     ]
    },
    {
     "name": "stdout",
     "output_type": "stream",
     "text": [
      "\t - Recall@20 epoch 13: 1.000000\n",
      "\t - MRR@20    epoch 13: 0.439183\n",
      "\n"
     ]
    },
    {
     "name": "stderr",
     "output_type": "stream",
     "text": [
      "Train:   0%|          | 1/10365 [00:00<1:29:47,  1.92it/s, accuracy=0.406, train_loss=3.09]\n",
      "Evaluation:   0%|          | 1/1225 [00:00<03:05,  6.60it/s]\n",
      "Train:   0%|          | 0/10365 [00:00<?, ?it/s, accuracy=0.375, train_loss=3.07]"
     ]
    },
    {
     "name": "stdout",
     "output_type": "stream",
     "text": [
      "\t - Recall@20 epoch 14: 1.000000\n",
      "\t - MRR@20    epoch 14: 0.502431\n",
      "\n"
     ]
    },
    {
     "name": "stderr",
     "output_type": "stream",
     "text": [
      "Train:   0%|          | 1/10365 [00:00<1:33:19,  1.85it/s, accuracy=0.375, train_loss=3.07]\n",
      "Evaluation:   0%|          | 1/1225 [00:00<03:01,  6.73it/s]"
     ]
    },
    {
     "name": "stdout",
     "output_type": "stream",
     "text": [
      "\t - Recall@20 epoch 15: 1.000000\n",
      "\t - MRR@20    epoch 15: 0.504601\n",
      "\n"
     ]
    },
    {
     "name": "stderr",
     "output_type": "stream",
     "text": [
      "\n"
     ]
    }
   ],
   "source": [
    "train_model(model, args)"
   ]
  },
  {
   "cell_type": "code",
   "execution_count": 534,
   "id": "engaged-walnut",
   "metadata": {},
   "outputs": [
    {
     "name": "stdout",
     "output_type": "stream",
     "text": [
      "Model: \"model_14\"\n",
      "_________________________________________________________________\n",
      "Layer (type)                 Output Shape              Param #   \n",
      "=================================================================\n",
      "input_15 (InputLayer)        [(64, 1, 26)]             0         \n",
      "_________________________________________________________________\n",
      "GRU (GRU)                    [(64, 50), (64, 50)]      11700     \n",
      "_________________________________________________________________\n",
      "dropout_14 (Dropout)         (64, 50)                  0         \n",
      "_________________________________________________________________\n",
      "dense_14 (Dense)             (64, 26)                  1326      \n",
      "=================================================================\n",
      "Total params: 13,026\n",
      "Trainable params: 13,026\n",
      "Non-trainable params: 0\n",
      "_________________________________________________________________\n"
     ]
    }
   ],
   "source": [
    "args2 = Args(tr, val, test, batch_size=64, hsz=50, drop_rate=0.1, lr=0.001, epochs=15, k=20)\n",
    "model2 = create_model(args2)"
   ]
  },
  {
   "cell_type": "code",
   "execution_count": 535,
   "id": "familiar-people",
   "metadata": {
    "scrolled": false
   },
   "outputs": [
    {
     "name": "stderr",
     "output_type": "stream",
     "text": [
      "Train:   0%|          | 1/5182 [00:01<2:38:39,  1.84s/it, accuracy=0, train_loss=3.26]\n",
      "Evaluation:   0%|          | 1/612 [00:00<06:02,  1.69it/s]\n",
      "Train:   0%|          | 0/5182 [00:00<?, ?it/s, accuracy=0.0156, train_loss=3.26]"
     ]
    },
    {
     "name": "stdout",
     "output_type": "stream",
     "text": [
      "\t - Recall@20 epoch 1: 0.937500\n",
      "\t - MRR@20    epoch 1: 0.087254\n",
      "\n"
     ]
    },
    {
     "name": "stderr",
     "output_type": "stream",
     "text": [
      "Train:   0%|          | 1/5182 [00:00<34:22,  2.51it/s, accuracy=0.0156, train_loss=3.26]\n",
      "Evaluation:   0%|          | 1/612 [00:00<03:15,  3.13it/s]\n",
      "Train:   0%|          | 0/5182 [00:00<?, ?it/s, accuracy=0, train_loss=3.25]"
     ]
    },
    {
     "name": "stdout",
     "output_type": "stream",
     "text": [
      "\t - Recall@20 epoch 2: 0.937500\n",
      "\t - MRR@20    epoch 2: 0.101976\n",
      "\n"
     ]
    },
    {
     "name": "stderr",
     "output_type": "stream",
     "text": [
      "Train:   0%|          | 1/5182 [00:00<34:49,  2.48it/s, accuracy=0, train_loss=3.25]\n",
      "Evaluation:   0%|          | 1/612 [00:00<03:07,  3.26it/s]\n",
      "Train:   0%|          | 0/5182 [00:00<?, ?it/s, accuracy=0.0156, train_loss=3.22]"
     ]
    },
    {
     "name": "stdout",
     "output_type": "stream",
     "text": [
      "\t - Recall@20 epoch 3: 0.937500\n",
      "\t - MRR@20    epoch 3: 0.116740\n",
      "\n"
     ]
    },
    {
     "name": "stderr",
     "output_type": "stream",
     "text": [
      "Train:   0%|          | 1/5182 [00:00<35:00,  2.47it/s, accuracy=0.0156, train_loss=3.22]\n",
      "Evaluation:   0%|          | 1/612 [00:00<02:49,  3.60it/s]\n",
      "Train:   0%|          | 0/5182 [00:00<?, ?it/s, accuracy=0.0781, train_loss=3.2]"
     ]
    },
    {
     "name": "stdout",
     "output_type": "stream",
     "text": [
      "\t - Recall@20 epoch 4: 0.953125\n",
      "\t - MRR@20    epoch 4: 0.165493\n",
      "\n"
     ]
    },
    {
     "name": "stderr",
     "output_type": "stream",
     "text": [
      "Train:   0%|          | 1/5182 [00:00<33:25,  2.58it/s, accuracy=0.0781, train_loss=3.2]\n",
      "Evaluation:   0%|          | 1/612 [00:00<02:38,  3.86it/s]\n",
      "Train:   0%|          | 0/5182 [00:00<?, ?it/s, accuracy=0.156, train_loss=3.19]"
     ]
    },
    {
     "name": "stdout",
     "output_type": "stream",
     "text": [
      "\t - Recall@20 epoch 5: 0.953125\n",
      "\t - MRR@20    epoch 5: 0.280501\n",
      "\n"
     ]
    },
    {
     "name": "stderr",
     "output_type": "stream",
     "text": [
      "Train:   0%|          | 1/5182 [00:00<35:13,  2.45it/s, accuracy=0.156, train_loss=3.19]\n",
      "Evaluation:   0%|          | 1/612 [00:00<02:32,  4.00it/s]\n",
      "Train:   0%|          | 0/5182 [00:00<?, ?it/s, accuracy=0.141, train_loss=3.16]"
     ]
    },
    {
     "name": "stdout",
     "output_type": "stream",
     "text": [
      "\t - Recall@20 epoch 6: 0.968750\n",
      "\t - MRR@20    epoch 6: 0.297354\n",
      "\n"
     ]
    },
    {
     "name": "stderr",
     "output_type": "stream",
     "text": [
      "Train:   0%|          | 1/5182 [00:00<35:29,  2.43it/s, accuracy=0.141, train_loss=3.16]\n",
      "Evaluation:   0%|          | 1/612 [00:00<02:31,  4.03it/s]\n",
      "Train:   0%|          | 0/5182 [00:00<?, ?it/s, accuracy=0.172, train_loss=3.14]"
     ]
    },
    {
     "name": "stdout",
     "output_type": "stream",
     "text": [
      "\t - Recall@20 epoch 7: 0.968750\n",
      "\t - MRR@20    epoch 7: 0.368051\n",
      "\n"
     ]
    },
    {
     "name": "stderr",
     "output_type": "stream",
     "text": [
      "Train:   0%|          | 1/5182 [00:00<35:19,  2.44it/s, accuracy=0.172, train_loss=3.14]\n",
      "Evaluation:   0%|          | 1/612 [00:00<02:25,  4.19it/s]\n",
      "Train:   0%|          | 1/5182 [00:00<35:38,  2.42it/s, accuracy=0.25, train_loss=3.13]"
     ]
    },
    {
     "name": "stdout",
     "output_type": "stream",
     "text": [
      "\t - Recall@20 epoch 8: 0.984375\n",
      "\t - MRR@20    epoch 8: 0.375750\n",
      "\n"
     ]
    },
    {
     "name": "stderr",
     "output_type": "stream",
     "text": [
      "\n",
      "Evaluation:   0%|          | 1/612 [00:00<02:20,  4.34it/s]\n",
      "Train:   0%|          | 0/5182 [00:00<?, ?it/s, accuracy=0.297, train_loss=3.11]"
     ]
    },
    {
     "name": "stdout",
     "output_type": "stream",
     "text": [
      "\t - Recall@20 epoch 9: 0.984375\n",
      "\t - MRR@20    epoch 9: 0.404011\n",
      "\n"
     ]
    },
    {
     "name": "stderr",
     "output_type": "stream",
     "text": [
      "Train:   0%|          | 1/5182 [00:00<34:28,  2.50it/s, accuracy=0.297, train_loss=3.11]\n",
      "Evaluation:   0%|          | 1/612 [00:00<02:18,  4.43it/s]\n",
      "Train:   0%|          | 1/5182 [00:00<34:50,  2.48it/s, accuracy=0.359, train_loss=3.09]"
     ]
    },
    {
     "name": "stdout",
     "output_type": "stream",
     "text": [
      "\t - Recall@20 epoch 10: 0.984375\n",
      "\t - MRR@20    epoch 10: 0.413268\n",
      "\n"
     ]
    },
    {
     "name": "stderr",
     "output_type": "stream",
     "text": [
      "\n",
      "Evaluation:   0%|          | 1/612 [00:00<02:24,  4.24it/s]\n",
      "Train:   0%|          | 0/5182 [00:00<?, ?it/s, accuracy=0.344, train_loss=3.07]"
     ]
    },
    {
     "name": "stdout",
     "output_type": "stream",
     "text": [
      "\t - Recall@20 epoch 11: 0.984375\n",
      "\t - MRR@20    epoch 11: 0.448835\n",
      "\n"
     ]
    },
    {
     "name": "stderr",
     "output_type": "stream",
     "text": [
      "Train:   0%|          | 1/5182 [00:00<34:54,  2.47it/s, accuracy=0.344, train_loss=3.07]\n",
      "Evaluation:   0%|          | 1/612 [00:00<02:13,  4.56it/s]\n",
      "Train:   0%|          | 0/5182 [00:00<?, ?it/s, accuracy=0.5, train_loss=3.04]"
     ]
    },
    {
     "name": "stdout",
     "output_type": "stream",
     "text": [
      "\t - Recall@20 epoch 12: 0.984375\n",
      "\t - MRR@20    epoch 12: 0.478907\n",
      "\n"
     ]
    },
    {
     "name": "stderr",
     "output_type": "stream",
     "text": [
      "Train:   0%|          | 1/5182 [00:00<33:31,  2.58it/s, accuracy=0.5, train_loss=3.04]\n",
      "Evaluation:   0%|          | 1/612 [00:00<02:11,  4.64it/s]\n",
      "Train:   0%|          | 0/5182 [00:00<?, ?it/s, accuracy=0.578, train_loss=3.02]"
     ]
    },
    {
     "name": "stdout",
     "output_type": "stream",
     "text": [
      "\t - Recall@20 epoch 13: 0.984375\n",
      "\t - MRR@20    epoch 13: 0.517039\n",
      "\n"
     ]
    },
    {
     "name": "stderr",
     "output_type": "stream",
     "text": [
      "Train:   0%|          | 1/5182 [00:00<34:46,  2.48it/s, accuracy=0.578, train_loss=3.02]\n",
      "Evaluation:   0%|          | 1/612 [00:00<02:08,  4.76it/s]\n",
      "Train:   0%|          | 0/5182 [00:00<?, ?it/s, accuracy=0.547, train_loss=3]"
     ]
    },
    {
     "name": "stdout",
     "output_type": "stream",
     "text": [
      "\t - Recall@20 epoch 14: 0.984375\n",
      "\t - MRR@20    epoch 14: 0.523447\n",
      "\n"
     ]
    },
    {
     "name": "stderr",
     "output_type": "stream",
     "text": [
      "Train:   0%|          | 1/5182 [00:00<34:23,  2.51it/s, accuracy=0.547, train_loss=3]\n",
      "Evaluation:   0%|          | 1/612 [00:00<02:03,  4.95it/s]"
     ]
    },
    {
     "name": "stdout",
     "output_type": "stream",
     "text": [
      "\t - Recall@20 epoch 15: 0.984375\n",
      "\t - MRR@20    epoch 15: 0.526939\n",
      "\n"
     ]
    },
    {
     "name": "stderr",
     "output_type": "stream",
     "text": [
      "\n"
     ]
    }
   ],
   "source": [
    "train_model(model2, args2)"
   ]
  },
  {
   "cell_type": "code",
   "execution_count": 536,
   "id": "acoustic-barbados",
   "metadata": {},
   "outputs": [
    {
     "name": "stderr",
     "output_type": "stream",
     "text": [
      "Evaluation:   0%|          | 1/1086 [00:00<01:55,  9.43it/s]"
     ]
    },
    {
     "name": "stdout",
     "output_type": "stream",
     "text": [
      "\t - Recall@20: 1.000000\n",
      "\t - MRR@20: 0.777083\n",
      "\n"
     ]
    },
    {
     "name": "stderr",
     "output_type": "stream",
     "text": [
      "\n"
     ]
    }
   ],
   "source": [
    "def test_model(model, args, test):\n",
    "    test_recall, test_mrr = get_metrics(test, model, args, 20)\n",
    "    print(f\"\\t - Recall@{args.k}: {test_recall:3f}\")\n",
    "    print(f\"\\t - MRR@{args.k}: {test_mrr:3f}\\n\")\n",
    "\n",
    "test_model(model, args, test)"
   ]
  },
  {
   "cell_type": "code",
   "execution_count": 537,
   "id": "knowing-burning",
   "metadata": {},
   "outputs": [
    {
     "name": "stdout",
     "output_type": "stream",
     "text": [
      "Model: \"model_15\"\n",
      "_________________________________________________________________\n",
      "Layer (type)                 Output Shape              Param #   \n",
      "=================================================================\n",
      "input_16 (InputLayer)        [(128, 1, 26)]            0         \n",
      "_________________________________________________________________\n",
      "GRU (GRU)                    [(128, 50), (128, 50)]    11700     \n",
      "_________________________________________________________________\n",
      "dropout_15 (Dropout)         (128, 50)                 0         \n",
      "_________________________________________________________________\n",
      "dense_15 (Dense)             (128, 26)                 1326      \n",
      "=================================================================\n",
      "Total params: 13,026\n",
      "Trainable params: 13,026\n",
      "Non-trainable params: 0\n",
      "_________________________________________________________________\n"
     ]
    }
   ],
   "source": [
    "args3 = Args(tr, val, test, batch_size=128, hsz=50, drop_rate=0.1, lr=0.001, epochs=15, k=20)\n",
    "model3 = create_model(args3)"
   ]
  },
  {
   "cell_type": "code",
   "execution_count": 538,
   "id": "declared-trust",
   "metadata": {},
   "outputs": [
    {
     "name": "stderr",
     "output_type": "stream",
     "text": [
      "Train:   0%|          | 1/5182 [00:00<32:48,  2.63it/s, accuracy=0.547, train_loss=2.98]\n",
      "Evaluation:   0%|          | 1/612 [00:00<02:04,  4.91it/s]\n",
      "Train:   0%|          | 0/5182 [00:00<?, ?it/s, accuracy=0.578, train_loss=2.96]"
     ]
    },
    {
     "name": "stdout",
     "output_type": "stream",
     "text": [
      "\t - Recall@20 epoch 1: 0.984375\n",
      "\t - MRR@20    epoch 1: 0.530469\n",
      "\n"
     ]
    },
    {
     "name": "stderr",
     "output_type": "stream",
     "text": [
      "Train:   0%|          | 1/5182 [00:00<35:58,  2.40it/s, accuracy=0.578, train_loss=2.96]\n",
      "Evaluation:   0%|          | 1/612 [00:00<02:07,  4.81it/s]\n",
      "Train:   0%|          | 0/5182 [00:00<?, ?it/s, accuracy=0.578, train_loss=2.93]"
     ]
    },
    {
     "name": "stdout",
     "output_type": "stream",
     "text": [
      "\t - Recall@20 epoch 2: 1.000000\n",
      "\t - MRR@20    epoch 2: 0.536520\n",
      "\n"
     ]
    },
    {
     "name": "stderr",
     "output_type": "stream",
     "text": [
      "Train:   0%|          | 1/5182 [00:00<35:01,  2.47it/s, accuracy=0.578, train_loss=2.93]\n",
      "Evaluation:   0%|          | 1/612 [00:00<02:03,  4.95it/s]\n",
      "Train:   0%|          | 0/5182 [00:00<?, ?it/s, accuracy=0.641, train_loss=2.91]"
     ]
    },
    {
     "name": "stdout",
     "output_type": "stream",
     "text": [
      "\t - Recall@20 epoch 3: 1.000000\n",
      "\t - MRR@20    epoch 3: 0.536686\n",
      "\n"
     ]
    },
    {
     "name": "stderr",
     "output_type": "stream",
     "text": [
      "Train:   0%|          | 1/5182 [00:00<34:07,  2.53it/s, accuracy=0.641, train_loss=2.91]\n",
      "Evaluation:   0%|          | 1/612 [00:00<02:00,  5.05it/s]\n",
      "Train:   0%|          | 1/5182 [00:00<33:57,  2.54it/s, accuracy=0.672, train_loss=2.88]"
     ]
    },
    {
     "name": "stdout",
     "output_type": "stream",
     "text": [
      "\t - Recall@20 epoch 4: 1.000000\n",
      "\t - MRR@20    epoch 4: 0.560428\n",
      "\n"
     ]
    },
    {
     "name": "stderr",
     "output_type": "stream",
     "text": [
      "\n",
      "Evaluation:   0%|          | 1/612 [00:00<01:55,  5.30it/s]\n",
      "Train:   0%|          | 0/5182 [00:00<?, ?it/s, accuracy=0.625, train_loss=2.87]"
     ]
    },
    {
     "name": "stdout",
     "output_type": "stream",
     "text": [
      "\t - Recall@20 epoch 5: 1.000000\n",
      "\t - MRR@20    epoch 5: 0.566341\n",
      "\n"
     ]
    },
    {
     "name": "stderr",
     "output_type": "stream",
     "text": [
      "Train:   0%|          | 1/5182 [00:00<33:11,  2.60it/s, accuracy=0.625, train_loss=2.87]\n",
      "Evaluation:   0%|          | 1/612 [00:00<01:59,  5.10it/s]\n",
      "Train:   0%|          | 1/5182 [00:00<34:39,  2.49it/s, accuracy=0.656, train_loss=2.83]"
     ]
    },
    {
     "name": "stdout",
     "output_type": "stream",
     "text": [
      "\t - Recall@20 epoch 6: 1.000000\n",
      "\t - MRR@20    epoch 6: 0.602105\n",
      "\n"
     ]
    },
    {
     "name": "stderr",
     "output_type": "stream",
     "text": [
      "\n",
      "Evaluation:   0%|          | 1/612 [00:00<01:55,  5.27it/s]\n",
      "Train:   0%|          | 0/5182 [00:00<?, ?it/s, accuracy=0.625, train_loss=2.81]"
     ]
    },
    {
     "name": "stdout",
     "output_type": "stream",
     "text": [
      "\t - Recall@20 epoch 7: 1.000000\n",
      "\t - MRR@20    epoch 7: 0.603033\n",
      "\n"
     ]
    },
    {
     "name": "stderr",
     "output_type": "stream",
     "text": [
      "Train:   0%|          | 1/5182 [00:00<34:27,  2.51it/s, accuracy=0.625, train_loss=2.81]\n",
      "Evaluation:   0%|          | 1/612 [00:00<01:53,  5.37it/s]\n",
      "Train:   0%|          | 1/5182 [00:00<34:28,  2.50it/s, accuracy=0.641, train_loss=2.8]"
     ]
    },
    {
     "name": "stdout",
     "output_type": "stream",
     "text": [
      "\t - Recall@20 epoch 8: 1.000000\n",
      "\t - MRR@20    epoch 8: 0.590621\n",
      "\n"
     ]
    },
    {
     "name": "stderr",
     "output_type": "stream",
     "text": [
      "\n",
      "Evaluation:   0%|          | 1/612 [00:00<01:56,  5.22it/s]\n",
      "Train:   0%|          | 0/5182 [00:00<?, ?it/s, accuracy=0.672, train_loss=2.75]"
     ]
    },
    {
     "name": "stdout",
     "output_type": "stream",
     "text": [
      "\t - Recall@20 epoch 9: 1.000000\n",
      "\t - MRR@20    epoch 9: 0.591626\n",
      "\n"
     ]
    },
    {
     "name": "stderr",
     "output_type": "stream",
     "text": [
      "Train:   0%|          | 1/5182 [00:00<35:02,  2.46it/s, accuracy=0.672, train_loss=2.75]\n",
      "Evaluation:   0%|          | 1/612 [00:00<01:52,  5.43it/s]\n",
      "Train:   0%|          | 0/5182 [00:00<?, ?it/s, accuracy=0.703, train_loss=2.73]"
     ]
    },
    {
     "name": "stdout",
     "output_type": "stream",
     "text": [
      "\t - Recall@20 epoch 10: 1.000000\n",
      "\t - MRR@20    epoch 10: 0.593582\n",
      "\n"
     ]
    },
    {
     "name": "stderr",
     "output_type": "stream",
     "text": [
      "Train:   0%|          | 1/5182 [00:00<34:44,  2.49it/s, accuracy=0.703, train_loss=2.73]\n",
      "Evaluation:   0%|          | 1/612 [00:00<01:51,  5.46it/s]\n",
      "Train:   0%|          | 0/5182 [00:00<?, ?it/s, accuracy=0.703, train_loss=2.69]"
     ]
    },
    {
     "name": "stdout",
     "output_type": "stream",
     "text": [
      "\t - Recall@20 epoch 11: 1.000000\n",
      "\t - MRR@20    epoch 11: 0.586689\n",
      "\n"
     ]
    },
    {
     "name": "stderr",
     "output_type": "stream",
     "text": [
      "Train:   0%|          | 1/5182 [00:00<31:37,  2.73it/s, accuracy=0.703, train_loss=2.69]\n",
      "Evaluation:   0%|          | 1/612 [00:00<01:52,  5.41it/s]\n",
      "Train:   0%|          | 0/5182 [00:00<?, ?it/s, accuracy=0.688, train_loss=2.67]"
     ]
    },
    {
     "name": "stdout",
     "output_type": "stream",
     "text": [
      "\t - Recall@20 epoch 12: 1.000000\n",
      "\t - MRR@20    epoch 12: 0.586864\n",
      "\n"
     ]
    },
    {
     "name": "stderr",
     "output_type": "stream",
     "text": [
      "Train:   0%|          | 1/5182 [00:00<34:53,  2.47it/s, accuracy=0.688, train_loss=2.67]\n",
      "Evaluation:   0%|          | 1/612 [00:00<01:53,  5.38it/s]\n",
      "Train:   0%|          | 0/5182 [00:00<?, ?it/s, accuracy=0.719, train_loss=2.64]"
     ]
    },
    {
     "name": "stdout",
     "output_type": "stream",
     "text": [
      "\t - Recall@20 epoch 13: 1.000000\n",
      "\t - MRR@20    epoch 13: 0.570432\n",
      "\n"
     ]
    },
    {
     "name": "stderr",
     "output_type": "stream",
     "text": [
      "Train:   0%|          | 1/5182 [00:00<34:14,  2.52it/s, accuracy=0.719, train_loss=2.64]\n",
      "Evaluation:   0%|          | 1/612 [00:00<01:53,  5.40it/s]\n",
      "Train:   0%|          | 1/5182 [00:00<36:06,  2.39it/s, accuracy=0.703, train_loss=2.6]"
     ]
    },
    {
     "name": "stdout",
     "output_type": "stream",
     "text": [
      "\t - Recall@20 epoch 14: 1.000000\n",
      "\t - MRR@20    epoch 14: 0.570963\n",
      "\n"
     ]
    },
    {
     "name": "stderr",
     "output_type": "stream",
     "text": [
      "\n",
      "Evaluation:   0%|          | 1/612 [00:00<01:53,  5.38it/s]"
     ]
    },
    {
     "name": "stdout",
     "output_type": "stream",
     "text": [
      "\t - Recall@20 epoch 15: 1.000000\n",
      "\t - MRR@20    epoch 15: 0.563553\n",
      "\n"
     ]
    },
    {
     "name": "stderr",
     "output_type": "stream",
     "text": [
      "\n"
     ]
    }
   ],
   "source": [
    "train_model(model2, args2)"
   ]
  },
  {
   "attachments": {},
   "cell_type": "markdown",
   "id": "corporate-expense",
   "metadata": {},
   "source": [
    "# 프로젝트 정리\n",
    "\n",
    "## 문제점\n",
    "\n",
    "```\n",
    "Train:   0%|          | 1/5182 [00:00<33:11,  2.60it/s, accuracy=0.625, train_loss=2.87]\n",
    "Evaluation:   0%|          | 1/612 [00:00<01:59,  5.10it/s]\n",
    "Train:   0%|          | 1/5182 [00:00<34:39,  2.49it/s, accuracy=0.656, train_loss=2.83]\n",
    "```\n",
    "\n",
    "1. 왜 학습이 되지 않을까?\n",
    "열심히 고민하고 했는데, 학습이 제대로 되지 않는 문제점. 마지막에 모델 학습에서 반나절을 사용했지만, 해결은 하지 못했다. 뭐라 질문해야 할 지도 모르겠어서... 여기까지.\n",
    "2. 모델에 대한 이해를 제대로 하지 못했다. 논문 리뷰를 해보던가 GRU에 대해 공부를 제대로 해야할 것 같다.\n",
    "\n",
    "## 보충 학습\n",
    "1. 프로젝트 학습 과정 2번 미니배치부터 다시 이해해보기\n",
    "2. 논문 리뷰하며 모델 이해해보기\n",
    "3. 모델 학습이 되지 않는 원인 찾기"
   ]
  },
  {
   "cell_type": "code",
   "execution_count": null,
   "id": "occupied-reality",
   "metadata": {},
   "outputs": [],
   "source": []
  }
 ],
 "metadata": {
  "kernelspec": {
   "display_name": "Python 3",
   "language": "python",
   "name": "python3"
  },
  "language_info": {
   "codemirror_mode": {
    "name": "ipython",
    "version": 3
   },
   "file_extension": ".py",
   "mimetype": "text/x-python",
   "name": "python",
   "nbconvert_exporter": "python",
   "pygments_lexer": "ipython3",
   "version": "3.7.9"
  }
 },
 "nbformat": 4,
 "nbformat_minor": 5
}
