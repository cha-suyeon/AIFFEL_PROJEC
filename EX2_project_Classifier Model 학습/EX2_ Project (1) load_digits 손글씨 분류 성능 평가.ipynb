{
 "cells": [
  {
   "cell_type": "markdown",
   "id": "improved-butter",
   "metadata": {},
   "source": [
    "# EXPLORATION 02\n",
    "## | 프로젝트 (1) load_digits 손글씨 분류"
   ]
  },
  {
   "cell_type": "markdown",
   "id": "fluid-chinese",
   "metadata": {},
   "source": [
    "### | 프로젝트 학습 과정"
   ]
  },
  {
   "cell_type": "markdown",
   "id": "previous-virtue",
   "metadata": {},
   "source": [
    "1. 필요한 모듈 import 하기\n",
    "2. 데이터 준비 및 데이터 이해\n",
    "- Feature Data 지정하기\n",
    "- Label Data 지정하기\n",
    "- Target Names 출력해 보기\n",
    "- 데이터 Describe 해 보기\n",
    "3. train, test 데이터 분리\n",
    "4. 다양한 모델로 학습 시켜보기\n",
    "- Decision Tree 사용해 보기\n",
    "- Random Forest 사용해 보기\n",
    "- SVM 사용해 보기\n",
    "- SGD Classifier 사용해 보기\n",
    "- logistic Regression 사용해 보기\n",
    "5. 모델 평가\n",
    "- sklearn.metrics에서 제공하는 평가지표 중 적절한 것 선택\n",
    "- 선택 이유"
   ]
  },
  {
   "cell_type": "markdown",
   "id": "affected-winner",
   "metadata": {},
   "source": [
    "## 1. 프로젝트 (1) load_digits"
   ]
  },
  {
   "cell_type": "markdown",
   "id": "vocal-swimming",
   "metadata": {},
   "source": [
    "### Data info\n",
    "1. Classes: 10\n",
    "2. Samples per class: ~180\n",
    "3. Samples total: 1797\n",
    "4. Dimensionality: 64\n",
    "5. Features: integers 0-16"
   ]
  },
  {
   "cell_type": "markdown",
   "id": "controlling-armstrong",
   "metadata": {},
   "source": [
    "## 1_1. 필요한 모듈 import 하기"
   ]
  },
  {
   "cell_type": "code",
   "execution_count": 4,
   "id": "unknown-repeat",
   "metadata": {
    "scrolled": true
   },
   "outputs": [],
   "source": [
    "import numpy as np\n",
    "import pandas as pd\n",
    "import matplotlib.pyplot as plt\n",
    "import matplotlib as mpl\n",
    "%matplotlib inline\n",
    "\n",
    "from sklearn.datasets import load_digits\n",
    "from sklearn.model_selection import train_test_split\n",
    "from sklearn.metrics import classification_report\n",
    "from sklearn.metrics import accuracy_score\n",
    "\n",
    "from sklearn.tree import DecisionTreeClassifier\n",
    "from sklearn.ensemble import RandomForestClassifier\n",
    "from sklearn import svm\n",
    "from sklearn.linear_model import SGDClassifier\n",
    "from sklearn.linear_model import LogisticRegression"
   ]
  },
  {
   "cell_type": "markdown",
   "id": "statewide-capacity",
   "metadata": {},
   "source": [
    "## 1_2. 데이터 준비 및 이해\n"
   ]
  },
  {
   "cell_type": "code",
   "execution_count": 5,
   "id": "eligible-coffee",
   "metadata": {},
   "outputs": [
    {
     "data": {
      "text/plain": [
       "(1797, 64)"
      ]
     },
     "execution_count": 5,
     "metadata": {},
     "output_type": "execute_result"
    }
   ],
   "source": [
    "digits = load_digits()\n",
    "digits_data = digits.data # x_data\n",
    "digits_label = digits.target # y_data\n",
    "digits_data.shape"
   ]
  },
  {
   "cell_type": "code",
   "execution_count": 6,
   "id": "induced-hundred",
   "metadata": {},
   "outputs": [
    {
     "data": {
      "text/plain": [
       "(1797,)"
      ]
     },
     "execution_count": 6,
     "metadata": {},
     "output_type": "execute_result"
    }
   ],
   "source": [
    "digits_label.shape"
   ]
  },
  {
   "cell_type": "code",
   "execution_count": 7,
   "id": "objective-reply",
   "metadata": {},
   "outputs": [
    {
     "data": {
      "text/plain": [
       "dict_keys(['data', 'target', 'frame', 'feature_names', 'target_names', 'images', 'DESCR'])"
      ]
     },
     "execution_count": 7,
     "metadata": {},
     "output_type": "execute_result"
    }
   ],
   "source": [
    "digits.keys()"
   ]
  },
  {
   "cell_type": "code",
   "execution_count": 8,
   "id": "suspected-trinidad",
   "metadata": {},
   "outputs": [
    {
     "data": {
      "text/plain": [
       "array([0, 1, 2, ..., 8, 9, 8])"
      ]
     },
     "execution_count": 8,
     "metadata": {},
     "output_type": "execute_result"
    }
   ],
   "source": [
    "digits.target"
   ]
  },
  {
   "cell_type": "code",
   "execution_count": 9,
   "id": "abroad-session",
   "metadata": {},
   "outputs": [
    {
     "data": {
      "text/plain": [
       "['pixel_0_0',\n",
       " 'pixel_0_1',\n",
       " 'pixel_0_2',\n",
       " 'pixel_0_3',\n",
       " 'pixel_0_4',\n",
       " 'pixel_0_5',\n",
       " 'pixel_0_6',\n",
       " 'pixel_0_7',\n",
       " 'pixel_1_0',\n",
       " 'pixel_1_1',\n",
       " 'pixel_1_2',\n",
       " 'pixel_1_3',\n",
       " 'pixel_1_4',\n",
       " 'pixel_1_5',\n",
       " 'pixel_1_6',\n",
       " 'pixel_1_7',\n",
       " 'pixel_2_0',\n",
       " 'pixel_2_1',\n",
       " 'pixel_2_2',\n",
       " 'pixel_2_3',\n",
       " 'pixel_2_4',\n",
       " 'pixel_2_5',\n",
       " 'pixel_2_6',\n",
       " 'pixel_2_7',\n",
       " 'pixel_3_0',\n",
       " 'pixel_3_1',\n",
       " 'pixel_3_2',\n",
       " 'pixel_3_3',\n",
       " 'pixel_3_4',\n",
       " 'pixel_3_5',\n",
       " 'pixel_3_6',\n",
       " 'pixel_3_7',\n",
       " 'pixel_4_0',\n",
       " 'pixel_4_1',\n",
       " 'pixel_4_2',\n",
       " 'pixel_4_3',\n",
       " 'pixel_4_4',\n",
       " 'pixel_4_5',\n",
       " 'pixel_4_6',\n",
       " 'pixel_4_7',\n",
       " 'pixel_5_0',\n",
       " 'pixel_5_1',\n",
       " 'pixel_5_2',\n",
       " 'pixel_5_3',\n",
       " 'pixel_5_4',\n",
       " 'pixel_5_5',\n",
       " 'pixel_5_6',\n",
       " 'pixel_5_7',\n",
       " 'pixel_6_0',\n",
       " 'pixel_6_1',\n",
       " 'pixel_6_2',\n",
       " 'pixel_6_3',\n",
       " 'pixel_6_4',\n",
       " 'pixel_6_5',\n",
       " 'pixel_6_6',\n",
       " 'pixel_6_7',\n",
       " 'pixel_7_0',\n",
       " 'pixel_7_1',\n",
       " 'pixel_7_2',\n",
       " 'pixel_7_3',\n",
       " 'pixel_7_4',\n",
       " 'pixel_7_5',\n",
       " 'pixel_7_6',\n",
       " 'pixel_7_7']"
      ]
     },
     "execution_count": 9,
     "metadata": {},
     "output_type": "execute_result"
    }
   ],
   "source": [
    "digits.feature_names"
   ]
  },
  {
   "cell_type": "code",
   "execution_count": 10,
   "id": "derived-transportation",
   "metadata": {},
   "outputs": [
    {
     "data": {
      "text/plain": [
       "array([0, 1, 2, 3, 4, 5, 6, 7, 8, 9])"
      ]
     },
     "execution_count": 10,
     "metadata": {},
     "output_type": "execute_result"
    }
   ],
   "source": [
    "digits.target_names"
   ]
  },
  {
   "cell_type": "code",
   "execution_count": 11,
   "id": "billion-waters",
   "metadata": {},
   "outputs": [
    {
     "data": {
      "text/plain": [
       "(64,)"
      ]
     },
     "execution_count": 11,
     "metadata": {},
     "output_type": "execute_result"
    }
   ],
   "source": [
    "digits.data[0].shape"
   ]
  },
  {
   "cell_type": "code",
   "execution_count": 12,
   "id": "wireless-equity",
   "metadata": {},
   "outputs": [
    {
     "data": {
      "text/plain": [
       "array([ 0.,  0.,  5., 13.,  9.,  1.,  0.,  0.,  0.,  0., 13., 15., 10.,\n",
       "       15.,  5.,  0.,  0.,  3., 15.,  2.,  0., 11.,  8.,  0.,  0.,  4.,\n",
       "       12.,  0.,  0.,  8.,  8.,  0.,  0.,  5.,  8.,  0.,  0.,  9.,  8.,\n",
       "        0.,  0.,  4., 11.,  0.,  1., 12.,  7.,  0.,  0.,  2., 14.,  5.,\n",
       "       10., 12.,  0.,  0.,  0.,  0.,  6., 13., 10.,  0.,  0.,  0.])"
      ]
     },
     "execution_count": 12,
     "metadata": {},
     "output_type": "execute_result"
    }
   ],
   "source": [
    "digits_data[0]"
   ]
  },
  {
   "cell_type": "code",
   "execution_count": 13,
   "id": "signed-dining",
   "metadata": {},
   "outputs": [
    {
     "data": {
      "text/plain": [
       "array([0, 1, 2, ..., 8, 9, 8])"
      ]
     },
     "execution_count": 13,
     "metadata": {},
     "output_type": "execute_result"
    }
   ],
   "source": [
    "# label 확인\n",
    "digits_label"
   ]
  },
  {
   "cell_type": "code",
   "execution_count": 14,
   "id": "foster-shannon",
   "metadata": {},
   "outputs": [
    {
     "data": {
      "image/png": "[encoded data removed]",
      "text/plain": [
       "<Figure size 432x288 with 1 Axes>"
      ]
     },
     "metadata": {
      "needs_background": "light"
     },
     "output_type": "display_data"
    }
   ],
   "source": [
    "# 이미지 확인\n",
    "plt.imshow(digits.data[0].reshape(8, 8), cmap='gray')\n",
    "plt.axis('off')\n",
    "plt.show()"
   ]
  },
  {
   "cell_type": "code",
   "execution_count": 15,
   "id": "protective-interference",
   "metadata": {},
   "outputs": [
    {
     "data": {
      "image/png": "[encoded data removed]",
      "text/plain": [
       "<Figure size 432x288 with 10 Axes>"
      ]
     },
     "metadata": {
      "needs_background": "light"
     },
     "output_type": "display_data"
    }
   ],
   "source": [
    "# target을 (2x5) 행렬로 여러 개 이미지 확인\n",
    "for i in range(10):\n",
    "    plt.subplot(2, 5, i+1)\n",
    "    plt.imshow(digits.data[i].reshape(8, 8), cmap='gray')\n",
    "    plt.axis('off')\n",
    "plt.show()"
   ]
  },
  {
   "cell_type": "markdown",
   "id": "utility-reliance",
   "metadata": {},
   "source": [
    "## 1_3. train, text 데이터 분리"
   ]
  },
  {
   "cell_type": "code",
   "execution_count": 16,
   "id": "psychological-finger",
   "metadata": {},
   "outputs": [],
   "source": [
    "X_train, X_test, y_train, y_test = train_test_split(digits_data,\n",
    "                                                    digits_label,\n",
    "                                                    test_size=0.3,\n",
    "                                                   random_state=32)"
   ]
  },
  {
   "cell_type": "markdown",
   "id": "together-norway",
   "metadata": {},
   "source": [
    "## 1_4. 모델 학습\n",
    "\n",
    "### 1_4_(1) Decision Tree"
   ]
  },
  {
   "cell_type": "code",
   "execution_count": 17,
   "id": "proprietary-highlight",
   "metadata": {},
   "outputs": [
    {
     "name": "stdout",
     "output_type": "stream",
     "text": [
      "classifier\n"
     ]
    }
   ],
   "source": [
    "from sklearn.tree import DecisionTreeClassifier\n",
    "from sklearn.metrics import accuracy_score\n",
    "\n",
    "decision_tree = DecisionTreeClassifier(random_state=32)\n",
    "print(decision_tree._estimator_type)"
   ]
  },
  {
   "cell_type": "code",
   "execution_count": 18,
   "id": "alien-metadata",
   "metadata": {},
   "outputs": [
    {
     "data": {
      "text/plain": [
       "DecisionTreeClassifier(random_state=32)"
      ]
     },
     "execution_count": 18,
     "metadata": {},
     "output_type": "execute_result"
    }
   ],
   "source": [
    "decision_tree.fit(X_train, y_train)"
   ]
  },
  {
   "cell_type": "code",
   "execution_count": 19,
   "id": "increased-government",
   "metadata": {},
   "outputs": [
    {
     "data": {
      "text/plain": [
       "array([3, 9, 4, 4, 7, 3, 8, 6, 1, 1, 1, 0, 5, 8, 3, 0, 6, 3, 9, 7, 3, 2,\n",
       "       2, 7, 4, 4, 3, 9, 5, 1, 0, 3, 0, 1, 1, 4, 5, 9, 6, 5, 6, 5, 6, 9,\n",
       "       1, 6, 8, 8, 5, 5, 5, 3, 7, 7, 5, 1, 6, 3, 2, 9, 6, 3, 3, 1, 8, 4,\n",
       "       3, 7, 3, 6, 4, 4, 0, 7, 0, 8, 0, 6, 3, 6, 3, 0, 0, 7, 3, 0, 7, 3,\n",
       "       5, 7, 3, 6, 1, 6, 0, 3, 9, 3, 0, 5, 9, 0, 4, 2, 9, 3, 8, 2, 9, 1,\n",
       "       3, 6, 3, 9, 0, 0, 5, 5, 2, 7, 0, 0, 7, 7, 1, 5, 7, 8, 0, 3, 0, 7,\n",
       "       3, 3, 9, 9, 0, 7, 8, 2, 1, 8, 2, 0, 6, 5, 3, 1, 9, 0, 6, 6, 3, 1,\n",
       "       4, 8, 8, 0, 5, 1, 3, 0, 7, 0, 3, 9, 5, 8, 3, 9, 3, 3, 6, 2, 1, 2,\n",
       "       2, 7, 0, 7, 9, 5, 6, 9, 4, 1, 9, 3, 9, 6, 5, 1, 2, 9, 0, 9, 5, 9,\n",
       "       1, 7, 1, 4, 2, 0, 5, 7, 0, 1, 4, 6, 4, 1, 3, 9, 3, 2, 3, 1, 3, 1,\n",
       "       9, 9, 1, 9, 2, 6, 4, 2, 5, 6, 5, 7, 6, 8, 9, 4, 0, 3, 2, 7, 7, 0,\n",
       "       2, 4, 6, 3, 7, 4, 1, 5, 8, 1, 0, 7, 9, 5, 9, 6, 1, 3, 5, 2, 0, 3,\n",
       "       5, 4, 8, 7, 3, 9, 4, 4, 5, 0, 3, 9, 1, 8, 2, 8, 2, 9, 1, 7, 7, 8,\n",
       "       8, 1, 5, 1, 0, 3, 6, 7, 2, 0, 1, 5, 2, 1, 6, 4, 1, 5, 6, 1, 9, 3,\n",
       "       5, 4, 7, 3, 3, 2, 8, 4, 5, 8, 3, 8, 5, 3, 2, 1, 0, 3, 8, 1, 9, 5,\n",
       "       5, 7, 2, 2, 0, 6, 4, 3, 9, 3, 7, 9, 3, 8, 0, 7, 2, 3, 2, 1, 3, 6,\n",
       "       6, 3, 2, 4, 6, 9, 3, 4, 7, 4, 0, 4, 7, 8, 4, 8, 5, 5, 6, 2, 9, 2,\n",
       "       4, 8, 0, 3, 8, 4, 1, 4, 9, 1, 5, 4, 1, 2, 3, 6, 4, 4, 1, 6, 3, 6,\n",
       "       3, 2, 3, 7, 4, 6, 6, 1, 7, 9, 0, 7, 0, 5, 2, 5, 3, 1, 7, 3, 4, 3,\n",
       "       5, 7, 1, 9, 7, 9, 7, 6, 3, 1, 2, 3, 9, 6, 1, 6, 7, 5, 0, 9, 3, 8,\n",
       "       0, 3, 9, 7, 6, 4, 3, 6, 6, 3, 3, 5, 5, 8, 9, 2, 5, 1, 8, 0, 1, 5,\n",
       "       2, 5, 6, 0, 3, 8, 7, 5, 3, 5, 5, 2, 1, 6, 5, 1, 6, 1, 1, 7, 1, 7,\n",
       "       5, 9, 2, 7, 0, 6, 8, 6, 3, 9, 8, 6, 6, 3, 1, 6, 5, 2, 1, 9, 2, 1,\n",
       "       3, 4, 9, 9, 9, 9, 2, 1, 4, 0, 0, 1, 6, 2, 9, 6, 7, 5, 5, 5, 1, 6,\n",
       "       2, 8, 4, 8, 2, 7, 3, 4, 3, 1, 7, 5])"
      ]
     },
     "execution_count": 19,
     "metadata": {},
     "output_type": "execute_result"
    }
   ],
   "source": [
    "Decision_pred = decision_tree.predict(X_test)\n",
    "Decision_pred"
   ]
  },
  {
   "cell_type": "code",
   "execution_count": 20,
   "id": "chubby-concord",
   "metadata": {},
   "outputs": [
    {
     "data": {
      "text/plain": [
       "0.8703703703703703"
      ]
     },
     "execution_count": 20,
     "metadata": {},
     "output_type": "execute_result"
    }
   ],
   "source": [
    "accuracy = accuracy_score(y_test, Decision_pred)\n",
    "accuracy"
   ]
  },
  {
   "cell_type": "markdown",
   "id": "tough-detective",
   "metadata": {},
   "source": [
    "### 1_4_(2) Random Forest 사용해 보기"
   ]
  },
  {
   "cell_type": "code",
   "execution_count": 21,
   "id": "rational-silence",
   "metadata": {},
   "outputs": [
    {
     "name": "stdout",
     "output_type": "stream",
     "text": [
      "              precision    recall  f1-score   support\n",
      "\n",
      "           0       1.00      1.00      1.00        48\n",
      "           1       0.96      0.98      0.97        56\n",
      "           2       0.96      1.00      0.98        45\n",
      "           3       0.99      0.99      0.99        74\n",
      "           4       0.98      0.96      0.97        52\n",
      "           5       0.98      0.98      0.98        58\n",
      "           6       1.00      0.98      0.99        58\n",
      "           7       0.93      0.98      0.95        53\n",
      "           8       0.97      0.90      0.94        40\n",
      "           9       0.98      0.96      0.97        56\n",
      "\n",
      "    accuracy                           0.98       540\n",
      "   macro avg       0.98      0.97      0.97       540\n",
      "weighted avg       0.98      0.98      0.98       540\n",
      "\n"
     ]
    }
   ],
   "source": [
    "from sklearn.ensemble import RandomForestClassifier\n",
    "\n",
    "random_forest = RandomForestClassifier(random_state=32)\n",
    "random_forest.fit(X_train, y_train)\n",
    "Random_pred = random_forest.predict(X_test)\n",
    "\n",
    "print(classification_report(y_test, Random_pred))"
   ]
  },
  {
   "cell_type": "markdown",
   "id": "fundamental-folks",
   "metadata": {},
   "source": [
    "### 1_4_(3) SVM 사용해 보기"
   ]
  },
  {
   "cell_type": "code",
   "execution_count": 22,
   "id": "resistant-championship",
   "metadata": {},
   "outputs": [
    {
     "name": "stdout",
     "output_type": "stream",
     "text": [
      "classifier\n"
     ]
    }
   ],
   "source": [
    "from sklearn import svm\n",
    "svm_model = svm.SVC()\n",
    "\n",
    "print(svm_model._estimator_type)"
   ]
  },
  {
   "cell_type": "code",
   "execution_count": 23,
   "id": "potential-ceiling",
   "metadata": {},
   "outputs": [
    {
     "name": "stdout",
     "output_type": "stream",
     "text": [
      "              precision    recall  f1-score   support\n",
      "\n",
      "           0       1.00      1.00      1.00        48\n",
      "           1       1.00      1.00      1.00        56\n",
      "           2       1.00      1.00      1.00        45\n",
      "           3       1.00      1.00      1.00        74\n",
      "           4       1.00      0.96      0.98        52\n",
      "           5       1.00      0.98      0.99        58\n",
      "           6       1.00      1.00      1.00        58\n",
      "           7       0.98      1.00      0.99        53\n",
      "           8       0.95      1.00      0.98        40\n",
      "           9       0.98      0.98      0.98        56\n",
      "\n",
      "    accuracy                           0.99       540\n",
      "   macro avg       0.99      0.99      0.99       540\n",
      "weighted avg       0.99      0.99      0.99       540\n",
      "\n"
     ]
    }
   ],
   "source": [
    "svm_model.fit(X_train, y_train)\n",
    "svm_pred = svm_model.predict(X_test)\n",
    "\n",
    "print(classification_report(y_test, svm_pred))"
   ]
  },
  {
   "cell_type": "markdown",
   "id": "statewide-floor",
   "metadata": {},
   "source": [
    "### 1_4_(4) SGD Classifier 사용해 보기"
   ]
  },
  {
   "cell_type": "code",
   "execution_count": 24,
   "id": "separated-machinery",
   "metadata": {},
   "outputs": [
    {
     "name": "stdout",
     "output_type": "stream",
     "text": [
      "classifier\n"
     ]
    }
   ],
   "source": [
    "from sklearn.linear_model import SGDClassifier\n",
    "sgd_model = SGDClassifier()\n",
    "\n",
    "print(sgd_model._estimator_type)"
   ]
  },
  {
   "cell_type": "code",
   "execution_count": 25,
   "id": "communist-pressing",
   "metadata": {},
   "outputs": [
    {
     "name": "stdout",
     "output_type": "stream",
     "text": [
      "              precision    recall  f1-score   support\n",
      "\n",
      "           0       1.00      0.98      0.99        48\n",
      "           1       0.82      0.98      0.89        56\n",
      "           2       0.98      1.00      0.99        45\n",
      "           3       1.00      0.95      0.97        74\n",
      "           4       1.00      0.94      0.97        52\n",
      "           5       0.98      0.90      0.94        58\n",
      "           6       0.97      0.98      0.97        58\n",
      "           7       1.00      0.92      0.96        53\n",
      "           8       0.94      0.72      0.82        40\n",
      "           9       0.81      1.00      0.90        56\n",
      "\n",
      "    accuracy                           0.94       540\n",
      "   macro avg       0.95      0.94      0.94       540\n",
      "weighted avg       0.95      0.94      0.94       540\n",
      "\n"
     ]
    }
   ],
   "source": [
    "sgd_model.fit(X_train, y_train)\n",
    "sgd_pred = sgd_model.predict(X_test)\n",
    "\n",
    "print(classification_report(y_test, sgd_pred))"
   ]
  },
  {
   "cell_type": "markdown",
   "id": "social-madness",
   "metadata": {},
   "source": [
    "### 1_4_(5) logistic Regression 사용해 보기"
   ]
  },
  {
   "cell_type": "code",
   "execution_count": 26,
   "id": "caroline-cargo",
   "metadata": {},
   "outputs": [
    {
     "name": "stdout",
     "output_type": "stream",
     "text": [
      "classifier\n"
     ]
    }
   ],
   "source": [
    "from sklearn.linear_model import LogisticRegression\n",
    "logistic_model = LogisticRegression()\n",
    "\n",
    "print(logistic_model._estimator_type)"
   ]
  },
  {
   "cell_type": "code",
   "execution_count": 27,
   "id": "bored-society",
   "metadata": {},
   "outputs": [
    {
     "name": "stdout",
     "output_type": "stream",
     "text": [
      "              precision    recall  f1-score   support\n",
      "\n",
      "           0       1.00      0.92      0.96        48\n",
      "           1       0.98      0.98      0.98        56\n",
      "           2       0.98      1.00      0.99        45\n",
      "           3       1.00      0.99      0.99        74\n",
      "           4       1.00      0.96      0.98        52\n",
      "           5       0.95      0.97      0.96        58\n",
      "           6       1.00      0.98      0.99        58\n",
      "           7       1.00      1.00      1.00        53\n",
      "           8       0.91      1.00      0.95        40\n",
      "           9       0.95      0.98      0.96        56\n",
      "\n",
      "    accuracy                           0.98       540\n",
      "   macro avg       0.98      0.98      0.98       540\n",
      "weighted avg       0.98      0.98      0.98       540\n",
      "\n"
     ]
    },
    {
     "name": "stderr",
     "output_type": "stream",
     "text": [
      "/opt/conda/lib/python3.7/site-packages/sklearn/linear_model/_logistic.py:762: ConvergenceWarning: lbfgs failed to converge (status=1):\n",
      "STOP: TOTAL NO. of ITERATIONS REACHED LIMIT.\n",
      "\n",
      "Increase the number of iterations (max_iter) or scale the data as shown in:\n",
      "    https://scikit-learn.org/stable/modules/preprocessing.html\n",
      "Please also refer to the documentation for alternative solver options:\n",
      "    https://scikit-learn.org/stable/modules/linear_model.html#logistic-regression\n",
      "  extra_warning_msg=_LOGISTIC_SOLVER_CONVERGENCE_MSG)\n"
     ]
    }
   ],
   "source": [
    "logistic_model.fit(X_train, y_train)\n",
    "logistic_pred = logistic_model.predict(X_test)\n",
    "\n",
    "print(classification_report(y_test, logistic_pred))"
   ]
  },
  {
   "cell_type": "markdown",
   "id": "according-employer",
   "metadata": {},
   "source": [
    "## 1_5. 모델 평가\n",
    "- [sklearn.metrics 평가 지표에 대한 설명](https://velog.io/@cha-suyeon/%EB%A8%B8%EC%8B%A0%EB%9F%AC%EB%8B%9D-sklearn.metrics-%ED%8F%89%EA%B0%80-%EC%A7%80%ED%91%9C)"
   ]
  },
  {
   "cell_type": "markdown",
   "id": "affected-gross",
   "metadata": {},
   "source": [
    "### Data info\n",
    "1. Classes: 10\n",
    "2. Samples per class: ~180\n",
    "3. Samples total: 1797\n",
    "4. Dimensionality: 64\n",
    "5. Features: integers 0-16"
   ]
  },
  {
   "cell_type": "markdown",
   "id": "designing-marsh",
   "metadata": {},
   "source": [
    "#### 1) 학습 방법\n",
    "- Machine Learning을 이용하여 분류기(Classifier)를 만들어서 0~9까지의 숫자 손글씨를 분류, 예측하였음\n",
    "- 5개의 모델을 사용하였고, 학습 데이터 70%, 테스트 데이터 30%로 나누어 훈련시키고 분류기 모델을 검증하였음"
   ]
  },
  {
   "cell_type": "markdown",
   "id": "velvet-hostel",
   "metadata": {},
   "source": [
    "#### 2) 선택한 평가 지표\n",
    "- recall"
   ]
  },
  {
   "cell_type": "markdown",
   "id": "complimentary-solid",
   "metadata": {},
   "source": [
    "#### 3) 선택 이유\n",
    "-  digits dataset은 정수 0~9까지 10개의 분류 값이 있으므로 FP보다 FN을 낮춰 정확도를 더 높이는 것이 중요하다고 생각함"
   ]
  },
  {
   "cell_type": "markdown",
   "id": "sapphire-dodge",
   "metadata": {},
   "source": [
    "#### 4) 분류 결과\n"
   ]
  },
  {
   "cell_type": "markdown",
   "id": "pending-reservation",
   "metadata": {},
   "source": [
    "||model|recall-weighted avg|\n",
    "|------|---|---|\n",
    "|0|Decision Tree|0.87|\n",
    "|1|Random Forest|0.98|\n",
    "|2|Svm|0.99|\n",
    "|3|SGD Classifier|0.97|\n",
    "|4|Logistic Regression|0.98|"
   ]
  },
  {
   "cell_type": "markdown",
   "id": "boring-latex",
   "metadata": {},
   "source": [
    "#### 5. 결과 요약\n",
    "- svm이 0.99로 가장 성능이 좋음\n",
    "- 대체로 다 높은 성능이 나왔음\n",
    "- Decision Tree가 가장 정확도가 떨어짐"
   ]
  },
  {
   "cell_type": "markdown",
   "id": "corrected-tulsa",
   "metadata": {},
   "source": [
    "#### 6. 결과 해석\n",
    "- 0~9까지 클래스를 가진 다중 클래스 분류였기 때문에 Random Forest가 가장 높을 것이라 예측하였음\n",
    "- SVM(서포트 벡터 머신)은 Classification 문제에서 결정 경계(Decision Boundary)를 효율적으로 찾는 방법을 제공함\n",
    "- SVM은 대용량의 데이터셋에 확장되기 어렵고 이미비 분류 같은 지각에 관련된 문제에서 좋은 성능을 내지 못하지만, 1797개의 중간 크기에 특성이 많아 복잡한 데이터셋을 분류하여 성능이 높게 나온 것으로 추측한다."
   ]
  }
 ],
 "metadata": {
  "kernelspec": {
   "display_name": "Python 3",
   "language": "python",
   "name": "python3"
  },
  "language_info": {
   "codemirror_mode": {
    "name": "ipython",
    "version": 3
   },
   "file_extension": ".py",
   "mimetype": "text/x-python",
   "name": "python",
   "nbconvert_exporter": "python",
   "pygments_lexer": "ipython3",
   "version": "3.7.9"
  }
 },
 "nbformat": 4,
 "nbformat_minor": 5
}
