{
 "cells": [
  {
   "cell_type": "markdown",
   "id": "fresh-affiliation",
   "metadata": {},
   "source": [
    "# EXPLORATION 01\n",
    "# 가위바위보 이미지 분류기 "
   ]
  },
  {
   "cell_type": "markdown",
   "id": "outdoor-argentina",
   "metadata": {},
   "source": [
    "# 0. 데이터 준비\n",
    "1. [teachable machine](https://teachablemachine.withgoogle.com/) 사이트에서 데이터를 준비\n",
    "2. rock, scissor, paper file로 분류하여 이미지 저장\n",
    "3. 디렉토리 만들기 **mkdir -p '디렉토리 주소'**\n",
    "4. 클라우드에 직접 이미지 압축 파일 업로드\n",
    "5. 디렉토리 이동 cd ~\n",
    "6. 압축 해제 **unzip '파일명'.zip**"
   ]
  },
  {
   "cell_type": "code",
   "execution_count": 14,
   "id": "multiple-celebrity",
   "metadata": {},
   "outputs": [
    {
     "name": "stdout",
     "output_type": "stream",
     "text": [
      "PIL 라이브러리 import 완료!\n"
     ]
    }
   ],
   "source": [
    "# 라이브러리 부르기\n",
    "from PIL import Image\n",
    "import os, glob\n",
    "import tensorflow as tf\n",
    "from tensorflow import keras\n",
    "import numpy as np\n",
    "\n",
    "print(\"PIL 라이브러리 import 완료!\")"
   ]
  },
  {
   "cell_type": "markdown",
   "id": "manual-bundle",
   "metadata": {},
   "source": [
    "# 1. 데이터 불러오기, 이미지 resize"
   ]
  },
  {
   "cell_type": "code",
   "execution_count": 15,
   "id": "psychological-economy",
   "metadata": {},
   "outputs": [
    {
     "name": "stdout",
     "output_type": "stream",
     "text": [
      "1427  images to be resized.\n",
      "1427  images resized.\n",
      "가위 이미지 resize 완료!\n"
     ]
    }
   ],
   "source": [
    "def resize_images(img_path):\n",
    "\timages=glob.glob(img_path + \"/*.jpg\")  \n",
    "    \n",
    "\tprint(len(images), \" images to be resized.\")\n",
    "\n",
    "    # 파일마다 모두 28x28 사이즈로 바꾸어 저장합니다.\n",
    "\ttarget_size=(28,28)\n",
    "\tfor img in images:\n",
    "\t\told_img=Image.open(img)\n",
    "\t\tnew_img=old_img.resize(target_size,Image.ANTIALIAS)\n",
    "\t\tnew_img.save(img, \"JPEG\")\n",
    "    \n",
    "\tprint(len(images), \" images resized.\")\n",
    "\t\n",
    "# 가위 이미지가 저장된 디렉토리 아래의 모든 jpg 파일을 읽어들여서\n",
    "image_dir_path = os.getenv(\"HOME\") + \"/aiffel/rock_scissor_paper/scissor\"\n",
    "resize_images(image_dir_path)\n",
    "\n",
    "print(\"가위 이미지 resize 완료!\")"
   ]
  },
  {
   "cell_type": "code",
   "execution_count": 16,
   "id": "worthy-uganda",
   "metadata": {},
   "outputs": [
    {
     "name": "stdout",
     "output_type": "stream",
     "text": [
      "1432  images to be resized.\n",
      "1432  images resized.\n",
      "바위 이미지 resize 완료!\n"
     ]
    }
   ],
   "source": [
    "def resize_images(img_path):\n",
    "\timages=glob.glob(img_path + \"/*.jpg\")  \n",
    "    \n",
    "\tprint(len(images), \" images to be resized.\")\n",
    "\n",
    "    # 파일마다 모두 28x28 사이즈로 바꾸어 저장합니다.\n",
    "\ttarget_size=(28,28)\n",
    "\tfor img in images:\n",
    "\t\told_img=Image.open(img)\n",
    "\t\tnew_img=old_img.resize(target_size,Image.ANTIALIAS)\n",
    "\t\tnew_img.save(img, \"JPEG\")\n",
    "    \n",
    "\tprint(len(images), \" images resized.\")\n",
    "\t\n",
    "# 가위 이미지가 저장된 디렉토리 아래의 모든 jpg 파일을 읽어들여서\n",
    "image_dir_path = os.getenv(\"HOME\") + \"/aiffel/rock_scissor_paper/rock\"\n",
    "resize_images(image_dir_path)\n",
    "\n",
    "print(\"바위 이미지 resize 완료!\")"
   ]
  },
  {
   "cell_type": "code",
   "execution_count": 17,
   "id": "noble-aluminum",
   "metadata": {},
   "outputs": [
    {
     "name": "stdout",
     "output_type": "stream",
     "text": [
      "1427  images to be resized.\n",
      "1427  images resized.\n",
      "보 이미지 resize 완료!\n"
     ]
    }
   ],
   "source": [
    "def resize_images(img_path):\n",
    "\timages=glob.glob(img_path + \"/*.jpg\")  \n",
    "    \n",
    "\tprint(len(images), \" images to be resized.\")\n",
    "\n",
    "    # 파일마다 모두 28x28 사이즈로 바꾸어 저장합니다.\n",
    "\ttarget_size=(28,28)\n",
    "\tfor img in images:\n",
    "\t\told_img=Image.open(img)\n",
    "\t\tnew_img=old_img.resize(target_size,Image.ANTIALIAS)\n",
    "\t\tnew_img.save(img, \"JPEG\")\n",
    "    \n",
    "\tprint(len(images), \" images resized.\")\n",
    "\t\n",
    "# 가위 이미지가 저장된 디렉토리 아래의 모든 jpg 파일을 읽어들여서\n",
    "image_dir_path = os.getenv(\"HOME\") + \"/aiffel/rock_scissor_paper/paper\"\n",
    "resize_images(image_dir_path)\n",
    "\n",
    "print(\"보 이미지 resize 완료!\")"
   ]
  },
  {
   "cell_type": "markdown",
   "id": "split-transmission",
   "metadata": {
    "scrolled": true
   },
   "source": [
    "# 2. 데이터 읽는 load_data() 함수 생성"
   ]
  },
  {
   "cell_type": "code",
   "execution_count": 18,
   "id": "unusual-complexity",
   "metadata": {},
   "outputs": [
    {
     "name": "stdout",
     "output_type": "stream",
     "text": [
      "데이터의 이미지 개수는 4286 입니다.\n",
      "x_train shape: (4286, 28, 28, 3)\n",
      "y_train shape: (4286,)\n",
      "x_train shape: (4286, 28, 28, 3)\n",
      "y_train shape: (4286,)\n"
     ]
    }
   ],
   "source": [
    "import numpy as np\n",
    "\n",
    "def load_data(img_path, number_of_data):  #가위바위보 이미지 개수 총합에 주의\n",
    "    # 가위 : 0, 바위 : 1, 보 : 2\n",
    "    img_size=28\n",
    "    color=3\n",
    "    #이미지 데이터와 라벨(가위 : 0, 바위 : 1, 보 : 2) 데이터를 담을 행렬(matrix) 영역 생성\n",
    "    imgs=np.zeros(number_of_data*img_size*img_size*color,dtype=np.int32).reshape(number_of_data,img_size,img_size,color)\n",
    "    labels=np.zeros(number_of_data,dtype=np.int32)\n",
    "\n",
    "    idx=0\n",
    "    for file in glob.iglob(img_path+'/scissor/*.jpg'):\n",
    "        img = np.array(Image.open(file),dtype=np.int32)\n",
    "        imgs[idx,:,:,:]=img    # 데이터 영역에 이미지 행렬을 복사\n",
    "        labels[idx]=0   # 가위 : 0\n",
    "        idx=idx+1\n",
    "\n",
    "    for file in glob.iglob(img_path+'/rock/*.jpg'):\n",
    "        img = np.array(Image.open(file),dtype=np.int32)\n",
    "        imgs[idx,:,:,:]=img    # 데이터 영역에 이미지 행렬을 복사\n",
    "        labels[idx]=1   # 바위 : 1\n",
    "        idx=idx+1  \n",
    "    \n",
    "    for file in glob.iglob(img_path+'/paper/*.jpg'):\n",
    "        img = np.array(Image.open(file),dtype=np.int32)\n",
    "        imgs[idx,:,:,:]=img    # 데이터 영역에 이미지 행렬을 복사\n",
    "        labels[idx]=2   # 보 : 2\n",
    "        idx=idx+1\n",
    "        \n",
    "    print(\"데이터의 이미지 개수는\", idx,\"입니다.\")\n",
    "    return imgs, labels\n",
    "\n",
    "image_dir_path = os.getenv(\"HOME\") + \"/aiffel/rock_scissor_paper\"\n",
    "(x_train, y_train)=load_data(image_dir_path, 4286)\n",
    "x_train_norm = x_train/255.0   # 입력은 0~1 사이의 값으로 정규화\n",
    "\n",
    "print(\"x_train shape: {}\".format(x_train.shape))\n",
    "print(\"y_train shape: {}\".format(y_train.shape))\n",
    "\n",
    "print(\"x_train shape: {}\".format(x_train.shape))\n",
    "print(\"y_train shape: {}\".format(y_train.shape))"
   ]
  },
  {
   "cell_type": "markdown",
   "id": "collective-california",
   "metadata": {},
   "source": [
    "# 3. 이미지 확인"
   ]
  },
  {
   "cell_type": "code",
   "execution_count": 39,
   "id": "rising-exhibit",
   "metadata": {},
   "outputs": [
    {
     "name": "stdout",
     "output_type": "stream",
     "text": [
      "라벨:  0\n"
     ]
    },
    {
     "data": {
      "image/png": "[encoded data removed]",
      "text/plain": [
       "<Figure size 432x288 with 1 Axes>"
      ]
     },
     "metadata": {
      "needs_background": "light"
     },
     "output_type": "display_data"
    }
   ],
   "source": [
    "import matplotlib.pyplot as plt\n",
    "plt.imshow(x_train[0])\n",
    "print('라벨: ', y_train[0])"
   ]
  },
  {
   "cell_type": "markdown",
   "id": "hearing-plate",
   "metadata": {},
   "source": [
    "# 4. 모델 구성"
   ]
  },
  {
   "cell_type": "code",
   "execution_count": 233,
   "id": "brave-subscription",
   "metadata": {},
   "outputs": [
    {
     "name": "stdout",
     "output_type": "stream",
     "text": [
      "Model: \"sequential_31\"\n",
      "_________________________________________________________________\n",
      "Layer (type)                 Output Shape              Param #   \n",
      "=================================================================\n",
      "conv2d_62 (Conv2D)           (None, 26, 26, 32)        896       \n",
      "_________________________________________________________________\n",
      "max_pooling2d_62 (MaxPooling (None, 13, 13, 32)        0         \n",
      "_________________________________________________________________\n",
      "conv2d_63 (Conv2D)           (None, 11, 11, 64)        18496     \n",
      "_________________________________________________________________\n",
      "max_pooling2d_63 (MaxPooling (None, 5, 5, 64)          0         \n",
      "_________________________________________________________________\n",
      "flatten_31 (Flatten)         (None, 1600)              0         \n",
      "_________________________________________________________________\n",
      "dense_62 (Dense)             (None, 64)                102464    \n",
      "_________________________________________________________________\n",
      "dense_63 (Dense)             (None, 3)                 195       \n",
      "=================================================================\n",
      "Total params: 122,051\n",
      "Trainable params: 122,051\n",
      "Non-trainable params: 0\n",
      "_________________________________________________________________\n"
     ]
    }
   ],
   "source": [
    "# model을 학습시키는 코드를 직접 작성해 보세요.\n",
    "# Hint! model.evaluate()을 사용해 봅시다.\n",
    "# [[YOUR CODE]]\n",
    "\n",
    "n_channel_1=32\n",
    "n_channel_2=64\n",
    "n_dense=64\n",
    "n_train_epoch=15\n",
    "\n",
    "model=keras.models.Sequential()\n",
    "model.add(keras.layers.Conv2D(n_channel_1, (3,3), activation='relu', input_shape=(28,28,3)))\n",
    "model.add(keras.layers.MaxPool2D(2,2))\n",
    "model.add(keras.layers.Conv2D(n_channel_2, (3,3), activation='relu'))\n",
    "model.add(keras.layers.MaxPooling2D((2,2)))\n",
    "model.add(keras.layers.Flatten())\n",
    "model.add(keras.layers.Dense(n_dense, activation='relu'))\n",
    "model.add(keras.layers.Dense(3, activation='softmax'))\n",
    "\n",
    "model.summary()"
   ]
  },
  {
   "cell_type": "markdown",
   "id": "other-press",
   "metadata": {},
   "source": [
    "# 5. 모델 컴파일, 훈련"
   ]
  },
  {
   "cell_type": "code",
   "execution_count": 234,
   "id": "tested-bleeding",
   "metadata": {},
   "outputs": [
    {
     "name": "stdout",
     "output_type": "stream",
     "text": [
      "Epoch 1/15\n",
      "134/134 [==============================] - 1s 4ms/step - loss: 9.1914 - accuracy: 0.4631\n",
      "Epoch 2/15\n",
      "134/134 [==============================] - 0s 4ms/step - loss: 0.4929 - accuracy: 0.7931\n",
      "Epoch 3/15\n",
      "134/134 [==============================] - 0s 4ms/step - loss: 0.3085 - accuracy: 0.8788\n",
      "Epoch 4/15\n",
      "134/134 [==============================] - 0s 4ms/step - loss: 0.1795 - accuracy: 0.9418\n",
      "Epoch 5/15\n",
      "134/134 [==============================] - 0s 4ms/step - loss: 0.1102 - accuracy: 0.9678\n",
      "Epoch 6/15\n",
      "134/134 [==============================] - 0s 4ms/step - loss: 0.0767 - accuracy: 0.9796\n",
      "Epoch 7/15\n",
      "134/134 [==============================] - 0s 4ms/step - loss: 0.0557 - accuracy: 0.9860\n",
      "Epoch 8/15\n",
      "134/134 [==============================] - 0s 4ms/step - loss: 0.0318 - accuracy: 0.9928\n",
      "Epoch 9/15\n",
      "134/134 [==============================] - 0s 4ms/step - loss: 0.0156 - accuracy: 0.9965\n",
      "Epoch 10/15\n",
      "134/134 [==============================] - 0s 3ms/step - loss: 0.0078 - accuracy: 0.9998\n",
      "Epoch 11/15\n",
      "134/134 [==============================] - 0s 4ms/step - loss: 0.0057 - accuracy: 1.0000\n",
      "Epoch 12/15\n",
      "134/134 [==============================] - 0s 4ms/step - loss: 0.0022 - accuracy: 1.0000\n",
      "Epoch 13/15\n",
      "134/134 [==============================] - 0s 4ms/step - loss: 0.0013 - accuracy: 1.0000\n",
      "Epoch 14/15\n",
      "134/134 [==============================] - 0s 3ms/step - loss: 0.0012 - accuracy: 1.0000\n",
      "Epoch 15/15\n",
      "134/134 [==============================] - 0s 4ms/step - loss: 7.9135e-04 - accuracy: 1.0000\n"
     ]
    },
    {
     "data": {
      "text/plain": [
       "<tensorflow.python.keras.callbacks.History at 0x7efbec454d50>"
      ]
     },
     "execution_count": 234,
     "metadata": {},
     "output_type": "execute_result"
    }
   ],
   "source": [
    "# model을 학습시키는 코드를 직접 작성해 보세요.\n",
    "# Hint! model.compile()과 model.fit()을 사용해 봅시다.\n",
    "# [[YOUR CODE]]\n",
    "\n",
    "model.compile(optimizer='adam',\n",
    "             loss='sparse_categorical_crossentropy',\n",
    "             metrics=['accuracy'])\n",
    "\n",
    "model.fit(x_train, y_train, epochs=n_train_epoch)"
   ]
  },
  {
   "cell_type": "markdown",
   "id": "bigger-bracket",
   "metadata": {},
   "source": [
    "# 6. 정확도 평가"
   ]
  },
  {
   "cell_type": "markdown",
   "id": "expired-source",
   "metadata": {},
   "source": [
    "### test 이미지 resized"
   ]
  },
  {
   "cell_type": "code",
   "execution_count": 235,
   "id": "disturbed-promise",
   "metadata": {},
   "outputs": [
    {
     "name": "stdout",
     "output_type": "stream",
     "text": [
      "100  images to be resized.\n",
      "100  images resized.\n",
      "100  images to be resized.\n",
      "100  images resized.\n",
      "100  images to be resized.\n",
      "100  images resized.\n",
      "test 이미지 resize 완료!\n"
     ]
    }
   ],
   "source": [
    "test_dir_path = os.getenv(\"HOME\") + \"/aiffel/rock_scissor_paper/test/scissor\"\n",
    "resize_images(test_dir_path)\n",
    "test_dir_path = os.getenv(\"HOME\") + \"/aiffel/rock_scissor_paper/test/rock\"\n",
    "resize_images(test_dir_path)\n",
    "test_dir_path = os.getenv(\"HOME\") + \"/aiffel/rock_scissor_paper/test/paper\"\n",
    "resize_images(test_dir_path)\n",
    "\n",
    "print(\"test 이미지 resize 완료!\")"
   ]
  },
  {
   "cell_type": "code",
   "execution_count": 236,
   "id": "crazy-penetration",
   "metadata": {},
   "outputs": [
    {
     "name": "stdout",
     "output_type": "stream",
     "text": [
      "데이터의 이미지 개수는 300 입니다.\n",
      "x_test shape: (300, 28, 28, 3)\n",
      "y_test shape: (300,)\n"
     ]
    }
   ],
   "source": [
    "# x_test, y_test를 만드는 방법은 x_train, y_train을 만드는 방법과 아주 유사합니다.\n",
    "# [[YOUR CODE]]\n",
    "\n",
    "test_dir_path = os.getenv(\"HOME\") + \"/aiffel/rock_scissor_paper/test/\"\n",
    "(x_test, y_test)=load_data(test_dir_path, 300)\n",
    "x_test_norm = x_test/255.0   # 입력은 0~1 사이의 값으로 정규화\n",
    "\n",
    "print(\"x_test shape: {}\".format(x_test.shape))\n",
    "print(\"y_test shape: {}\".format(y_test.shape))"
   ]
  },
  {
   "cell_type": "code",
   "execution_count": 237,
   "id": "wicked-passing",
   "metadata": {},
   "outputs": [
    {
     "name": "stdout",
     "output_type": "stream",
     "text": [
      "10/10 - 0s - loss: 1.0781 - accuracy: 0.6800\n",
      "test_loss: 1.0780529975891113 \n",
      "test_accuracy: 0.6800000071525574\n"
     ]
    }
   ],
   "source": [
    "test_loss, test_accuracy = model.evaluate(x_test, y_test, verbose=2)\n",
    "print(\"test_loss: {} \".format(test_loss))\n",
    "print(\"test_accuracy: {}\".format(test_accuracy))"
   ]
  },
  {
   "cell_type": "markdown",
   "id": "homeless-title",
   "metadata": {},
   "source": [
    "# 7. 예측"
   ]
  },
  {
   "cell_type": "code",
   "execution_count": 238,
   "id": "structural-macro",
   "metadata": {
    "scrolled": true
   },
   "outputs": [
    {
     "name": "stdout",
     "output_type": "stream",
     "text": [
      "model.predict() 결과 :  [0.7348128  0.02072118 0.24446596]\n",
      "model이 추론한 가장 가능성이 높은 결과 :  0\n",
      "실제 데이터의 라벨 :  0\n"
     ]
    }
   ],
   "source": [
    "predicted_result = model.predict(x_test)  # model이 추론한 확률값. \n",
    "predicted_labels = np.argmax(predicted_result, axis=1)\n",
    "\n",
    "idx=0  \n",
    "print('model.predict() 결과 : ', predicted_result[idx])\n",
    "print('model이 추론한 가장 가능성이 높은 결과 : ', predicted_labels[idx])\n",
    "print('실제 데이터의 라벨 : ', y_test[idx])"
   ]
  },
  {
   "cell_type": "code",
   "execution_count": 239,
   "id": "organized-vertical",
   "metadata": {},
   "outputs": [
    {
     "name": "stdout",
     "output_type": "stream",
     "text": [
      "예측확률분포: [0.19970225 0.6275538  0.17274398]\n",
      "라벨: 0, 예측결과: 1\n"
     ]
    },
    {
     "data": {
      "image/png": "[encoded data removed]",
      "text/plain": [
       "<Figure size 432x288 with 1 Axes>"
      ]
     },
     "metadata": {
      "needs_background": "light"
     },
     "output_type": "display_data"
    },
    {
     "name": "stdout",
     "output_type": "stream",
     "text": [
      "예측확률분포: [0.03096347 0.92783654 0.04120004]\n",
      "라벨: 2, 예측결과: 1\n"
     ]
    },
    {
     "data": {
      "image/png": "[encoded data removed]",
      "text/plain": [
       "<Figure size 432x288 with 1 Axes>"
      ]
     },
     "metadata": {
      "needs_background": "light"
     },
     "output_type": "display_data"
    },
    {
     "name": "stdout",
     "output_type": "stream",
     "text": [
      "예측확률분포: [0.29942816 0.67863524 0.02193657]\n",
      "라벨: 2, 예측결과: 1\n"
     ]
    },
    {
     "data": {
      "image/png": "[encoded data removed]",
      "text/plain": [
       "<Figure size 432x288 with 1 Axes>"
      ]
     },
     "metadata": {
      "needs_background": "light"
     },
     "output_type": "display_data"
    },
    {
     "name": "stdout",
     "output_type": "stream",
     "text": [
      "예측확률분포: [0.13883854 0.01736689 0.8437945 ]\n",
      "라벨: 1, 예측결과: 2\n"
     ]
    },
    {
     "data": {
      "image/png": "[encoded data removed]",
      "text/plain": [
       "<Figure size 432x288 with 1 Axes>"
      ]
     },
     "metadata": {
      "needs_background": "light"
     },
     "output_type": "display_data"
    },
    {
     "name": "stdout",
     "output_type": "stream",
     "text": [
      "예측확률분포: [0.01443875 0.9688062  0.01675502]\n",
      "라벨: 2, 예측결과: 1\n"
     ]
    },
    {
     "data": {
      "image/png": "[encoded data removed]",
      "text/plain": [
       "<Figure size 432x288 with 1 Axes>"
      ]
     },
     "metadata": {
      "needs_background": "light"
     },
     "output_type": "display_data"
    }
   ],
   "source": [
    "import random\n",
    "wrong_predict_list=[]\n",
    "for i, _ in enumerate(predicted_labels):\n",
    "    # i번째 test_labels과 y_test이 다른 경우만 모아 봅시다. \n",
    "    if predicted_labels[i] != y_test[i]:\n",
    "        wrong_predict_list.append(i)\n",
    "\n",
    "# wrong_predict_list에서 random한 5개 확인\n",
    "samples = random.choices(population=wrong_predict_list, k=5)\n",
    "\n",
    "for n in samples:\n",
    "    print(\"예측확률분포: \" + str(predicted_result[n]))\n",
    "    print(\"라벨: \" + str(y_test[n]) + \", 예측결과: \" + str(predicted_labels[n]))\n",
    "    plt.imshow(x_test[n], cmap=plt.cm.binary)\n",
    "    plt.show()"
   ]
  },
  {
   "cell_type": "markdown",
   "id": "fifty-blair",
   "metadata": {},
   "source": [
    "# 8. 프로젝트 정리"
   ]
  },
  {
   "cell_type": "markdown",
   "id": "sporting-honey",
   "metadata": {},
   "source": [
    "## 1) 데이터\n",
    "* 훈련 세트: 4286\n",
    "* 테스트 세트: 300"
   ]
  },
  {
   "cell_type": "markdown",
   "id": "secure-valuable",
   "metadata": {},
   "source": [
    "## 2) 딥러닝 모델 생성 및 훈련\n",
    "* EXPLORATION 1번 노드의 MNIST 코드를 활용\n",
    "* TF Masteer [첫 번째 신경망 훈련하기: 기초적인 분류 문제](https://www.tensorflow.org/tutorials/keras/classification#%EC%98%88%EC%B8%A1_%EB%A7%8C%EB%93%A4%EA%B8%B0) 에서도 모델 생성 및 과정을 참고함\n",
    "* 이미지는 RGB이므로 처리를 빨리하기 위해 28x28(px)로 변경\n",
    "* class = {rock, scissor, paper}, 클래스는 32개이므로 Dense 레이어 값을 3으로 설정"
   ]
  },
  {
   "cell_type": "markdown",
   "id": "wanted-bracket",
   "metadata": {},
   "source": [
    "## 3) 모델 학습과 테스트\n",
    "* 클래스 별로 각 1,400~1,500장 정도 있는 이미지 사용하여 훈련 세트는 4286개\n",
    "* 처음엔 test를 클래스 별로 구분하지 않아서 성능이 0.01~0.04에 머물렀음\n",
    "* test도 class를 구별해주고 나니 성능 평균 0.6 이상으로 향상\n",
    "* 클래스가 3개이니 0.6이면 3번 중 2번은 보통으로 맞추는 정도로 볼 수 있다."
   ]
  },
  {
   "cell_type": "markdown",
   "id": "forced-franchise",
   "metadata": {},
   "source": [
    "## 4) 결과\n",
    "* 약 67% 정확도가 나옴. 최고 72%까지 나온 적은 있으나 평균 60% 후반에 머무름\n",
    "* 데이터\n",
    "    * train: 4286(개)\n",
    "    * test: 300(개)\n",
    "* 하이파라미터\n",
    "    * 이미지 특정수: "
   ]
  },
  {
   "cell_type": "code",
   "execution_count": null,
   "id": "racial-anxiety",
   "metadata": {},
   "outputs": [],
   "source": []
  }
 ],
 "metadata": {
  "kernelspec": {
   "display_name": "Python 3",
   "language": "python",
   "name": "python3"
  },
  "language_info": {
   "codemirror_mode": {
    "name": "ipython",
    "version": 3
   },
   "file_extension": ".py",
   "mimetype": "text/x-python",
   "name": "python",
   "nbconvert_exporter": "python",
   "pygments_lexer": "ipython3",
   "version": "3.7.9"
  }
 },
 "nbformat": 4,
 "nbformat_minor": 5
}